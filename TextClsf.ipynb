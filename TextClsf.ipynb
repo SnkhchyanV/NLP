{
  "nbformat": 4,
  "nbformat_minor": 0,
  "metadata": {
    "colab": {
      "provenance": [],
      "gpuType": "T4",
      "authorship_tag": "ABX9TyNxowsaIg0ylTt8rsSUrqMQ",
      "include_colab_link": true
    },
    "kernelspec": {
      "name": "python3",
      "display_name": "Python 3"
    },
    "language_info": {
      "name": "python"
    },
    "accelerator": "GPU"
  },
  "cells": [
    {
      "cell_type": "markdown",
      "metadata": {
        "id": "view-in-github",
        "colab_type": "text"
      },
      "source": [
        "<a href=\"https://colab.research.google.com/github/SnkhchyanV/NLP/blob/main/TextClsf.ipynb\" target=\"_parent\"><img src=\"https://colab.research.google.com/assets/colab-badge.svg\" alt=\"Open In Colab\"/></a>"
      ]
    },
    {
      "cell_type": "code",
      "execution_count": 1,
      "metadata": {
        "id": "1sOwTdbjtdlI",
        "colab": {
          "base_uri": "https://localhost:8080/"
        },
        "outputId": "e6a2b59d-b749-4d5d-ad80-bb5444e0d35c"
      },
      "outputs": [
        {
          "output_type": "stream",
          "name": "stderr",
          "text": [
            "[nltk_data] Downloading package punkt to /root/nltk_data...\n",
            "[nltk_data]   Unzipping tokenizers/punkt.zip.\n"
          ]
        }
      ],
      "source": [
        "import tensorflow as tf\n",
        "from google.colab import drive\n",
        "import requests\n",
        "import io\n",
        "from sklearn.model_selection import train_test_split\n",
        "\n",
        "import gensim\n",
        "import nltk\n",
        "nltk.download('punkt')\n",
        "from nltk.tokenize import sent_tokenize, word_tokenize"
      ]
    },
    {
      "cell_type": "code",
      "source": [
        "drive.mount('/content/drive')\n"
      ],
      "metadata": {
        "colab": {
          "base_uri": "https://localhost:8080/"
        },
        "id": "P--d4Erhx3uF",
        "outputId": "e24ae511-a0f9-41ec-bdaa-745912c04dde"
      },
      "execution_count": 2,
      "outputs": [
        {
          "output_type": "stream",
          "name": "stdout",
          "text": [
            "Mounted at /content/drive\n"
          ]
        }
      ]
    },
    {
      "cell_type": "code",
      "source": [
        "import pandas as pd\n",
        "data_path = '/content/drive/MyDrive/DataSets/TextDatasets/subjects-questions.csv'\n",
        "\n",
        "\n",
        "data = pd.read_csv(data_path)\n",
        "data.head()"
      ],
      "metadata": {
        "colab": {
          "base_uri": "https://localhost:8080/",
          "height": 206
        },
        "id": "oRYBadWdyHWN",
        "outputId": "71f9ee19-74db-4357-8d83-6c4ba360c04b"
      },
      "execution_count": 3,
      "outputs": [
        {
          "output_type": "execute_result",
          "data": {
            "text/plain": [
              "                                                 eng    Subject\n",
              "0  An anti-forest measure is\\nA. Afforestation\\nB...    Biology\n",
              "1  Among the following organic acids, the acid pr...  Chemistry\n",
              "2  If the area of two similar triangles are equal...      Maths\n",
              "3  In recent year, there has been a growing\\nconc...    Biology\n",
              "4  Which of the following statement\\nregarding tr...    Physics"
            ],
            "text/html": [
              "\n",
              "\n",
              "  <div id=\"df-c7e56829-df65-43e4-946b-294622d82509\">\n",
              "    <div class=\"colab-df-container\">\n",
              "      <div>\n",
              "<style scoped>\n",
              "    .dataframe tbody tr th:only-of-type {\n",
              "        vertical-align: middle;\n",
              "    }\n",
              "\n",
              "    .dataframe tbody tr th {\n",
              "        vertical-align: top;\n",
              "    }\n",
              "\n",
              "    .dataframe thead th {\n",
              "        text-align: right;\n",
              "    }\n",
              "</style>\n",
              "<table border=\"1\" class=\"dataframe\">\n",
              "  <thead>\n",
              "    <tr style=\"text-align: right;\">\n",
              "      <th></th>\n",
              "      <th>eng</th>\n",
              "      <th>Subject</th>\n",
              "    </tr>\n",
              "  </thead>\n",
              "  <tbody>\n",
              "    <tr>\n",
              "      <th>0</th>\n",
              "      <td>An anti-forest measure is\\nA. Afforestation\\nB...</td>\n",
              "      <td>Biology</td>\n",
              "    </tr>\n",
              "    <tr>\n",
              "      <th>1</th>\n",
              "      <td>Among the following organic acids, the acid pr...</td>\n",
              "      <td>Chemistry</td>\n",
              "    </tr>\n",
              "    <tr>\n",
              "      <th>2</th>\n",
              "      <td>If the area of two similar triangles are equal...</td>\n",
              "      <td>Maths</td>\n",
              "    </tr>\n",
              "    <tr>\n",
              "      <th>3</th>\n",
              "      <td>In recent year, there has been a growing\\nconc...</td>\n",
              "      <td>Biology</td>\n",
              "    </tr>\n",
              "    <tr>\n",
              "      <th>4</th>\n",
              "      <td>Which of the following statement\\nregarding tr...</td>\n",
              "      <td>Physics</td>\n",
              "    </tr>\n",
              "  </tbody>\n",
              "</table>\n",
              "</div>\n",
              "      <button class=\"colab-df-convert\" onclick=\"convertToInteractive('df-c7e56829-df65-43e4-946b-294622d82509')\"\n",
              "              title=\"Convert this dataframe to an interactive table.\"\n",
              "              style=\"display:none;\">\n",
              "\n",
              "  <svg xmlns=\"http://www.w3.org/2000/svg\" height=\"24px\"viewBox=\"0 0 24 24\"\n",
              "       width=\"24px\">\n",
              "    <path d=\"M0 0h24v24H0V0z\" fill=\"none\"/>\n",
              "    <path d=\"M18.56 5.44l.94 2.06.94-2.06 2.06-.94-2.06-.94-.94-2.06-.94 2.06-2.06.94zm-11 1L8.5 8.5l.94-2.06 2.06-.94-2.06-.94L8.5 2.5l-.94 2.06-2.06.94zm10 10l.94 2.06.94-2.06 2.06-.94-2.06-.94-.94-2.06-.94 2.06-2.06.94z\"/><path d=\"M17.41 7.96l-1.37-1.37c-.4-.4-.92-.59-1.43-.59-.52 0-1.04.2-1.43.59L10.3 9.45l-7.72 7.72c-.78.78-.78 2.05 0 2.83L4 21.41c.39.39.9.59 1.41.59.51 0 1.02-.2 1.41-.59l7.78-7.78 2.81-2.81c.8-.78.8-2.07 0-2.86zM5.41 20L4 18.59l7.72-7.72 1.47 1.35L5.41 20z\"/>\n",
              "  </svg>\n",
              "      </button>\n",
              "\n",
              "\n",
              "\n",
              "    <div id=\"df-0739f8e7-eaf0-4ee4-aaaa-00f9d2c2c954\">\n",
              "      <button class=\"colab-df-quickchart\" onclick=\"quickchart('df-0739f8e7-eaf0-4ee4-aaaa-00f9d2c2c954')\"\n",
              "              title=\"Suggest charts.\"\n",
              "              style=\"display:none;\">\n",
              "\n",
              "<svg xmlns=\"http://www.w3.org/2000/svg\" height=\"24px\"viewBox=\"0 0 24 24\"\n",
              "     width=\"24px\">\n",
              "    <g>\n",
              "        <path d=\"M19 3H5c-1.1 0-2 .9-2 2v14c0 1.1.9 2 2 2h14c1.1 0 2-.9 2-2V5c0-1.1-.9-2-2-2zM9 17H7v-7h2v7zm4 0h-2V7h2v10zm4 0h-2v-4h2v4z\"/>\n",
              "    </g>\n",
              "</svg>\n",
              "      </button>\n",
              "    </div>\n",
              "\n",
              "<style>\n",
              "  .colab-df-quickchart {\n",
              "    background-color: #E8F0FE;\n",
              "    border: none;\n",
              "    border-radius: 50%;\n",
              "    cursor: pointer;\n",
              "    display: none;\n",
              "    fill: #1967D2;\n",
              "    height: 32px;\n",
              "    padding: 0 0 0 0;\n",
              "    width: 32px;\n",
              "  }\n",
              "\n",
              "  .colab-df-quickchart:hover {\n",
              "    background-color: #E2EBFA;\n",
              "    box-shadow: 0px 1px 2px rgba(60, 64, 67, 0.3), 0px 1px 3px 1px rgba(60, 64, 67, 0.15);\n",
              "    fill: #174EA6;\n",
              "  }\n",
              "\n",
              "  [theme=dark] .colab-df-quickchart {\n",
              "    background-color: #3B4455;\n",
              "    fill: #D2E3FC;\n",
              "  }\n",
              "\n",
              "  [theme=dark] .colab-df-quickchart:hover {\n",
              "    background-color: #434B5C;\n",
              "    box-shadow: 0px 1px 3px 1px rgba(0, 0, 0, 0.15);\n",
              "    filter: drop-shadow(0px 1px 2px rgba(0, 0, 0, 0.3));\n",
              "    fill: #FFFFFF;\n",
              "  }\n",
              "</style>\n",
              "\n",
              "    <script>\n",
              "      async function quickchart(key) {\n",
              "        const containerElement = document.querySelector('#' + key);\n",
              "        const charts = await google.colab.kernel.invokeFunction(\n",
              "            'suggestCharts', [key], {});\n",
              "      }\n",
              "    </script>\n",
              "\n",
              "      <script>\n",
              "\n",
              "function displayQuickchartButton(domScope) {\n",
              "  let quickchartButtonEl =\n",
              "    domScope.querySelector('#df-0739f8e7-eaf0-4ee4-aaaa-00f9d2c2c954 button.colab-df-quickchart');\n",
              "  quickchartButtonEl.style.display =\n",
              "    google.colab.kernel.accessAllowed ? 'block' : 'none';\n",
              "}\n",
              "\n",
              "        displayQuickchartButton(document);\n",
              "      </script>\n",
              "      <style>\n",
              "    .colab-df-container {\n",
              "      display:flex;\n",
              "      flex-wrap:wrap;\n",
              "      gap: 12px;\n",
              "    }\n",
              "\n",
              "    .colab-df-convert {\n",
              "      background-color: #E8F0FE;\n",
              "      border: none;\n",
              "      border-radius: 50%;\n",
              "      cursor: pointer;\n",
              "      display: none;\n",
              "      fill: #1967D2;\n",
              "      height: 32px;\n",
              "      padding: 0 0 0 0;\n",
              "      width: 32px;\n",
              "    }\n",
              "\n",
              "    .colab-df-convert:hover {\n",
              "      background-color: #E2EBFA;\n",
              "      box-shadow: 0px 1px 2px rgba(60, 64, 67, 0.3), 0px 1px 3px 1px rgba(60, 64, 67, 0.15);\n",
              "      fill: #174EA6;\n",
              "    }\n",
              "\n",
              "    [theme=dark] .colab-df-convert {\n",
              "      background-color: #3B4455;\n",
              "      fill: #D2E3FC;\n",
              "    }\n",
              "\n",
              "    [theme=dark] .colab-df-convert:hover {\n",
              "      background-color: #434B5C;\n",
              "      box-shadow: 0px 1px 3px 1px rgba(0, 0, 0, 0.15);\n",
              "      filter: drop-shadow(0px 1px 2px rgba(0, 0, 0, 0.3));\n",
              "      fill: #FFFFFF;\n",
              "    }\n",
              "  </style>\n",
              "\n",
              "      <script>\n",
              "        const buttonEl =\n",
              "          document.querySelector('#df-c7e56829-df65-43e4-946b-294622d82509 button.colab-df-convert');\n",
              "        buttonEl.style.display =\n",
              "          google.colab.kernel.accessAllowed ? 'block' : 'none';\n",
              "\n",
              "        async function convertToInteractive(key) {\n",
              "          const element = document.querySelector('#df-c7e56829-df65-43e4-946b-294622d82509');\n",
              "          const dataTable =\n",
              "            await google.colab.kernel.invokeFunction('convertToInteractive',\n",
              "                                                     [key], {});\n",
              "          if (!dataTable) return;\n",
              "\n",
              "          const docLinkHtml = 'Like what you see? Visit the ' +\n",
              "            '<a target=\"_blank\" href=https://colab.research.google.com/notebooks/data_table.ipynb>data table notebook</a>'\n",
              "            + ' to learn more about interactive tables.';\n",
              "          element.innerHTML = '';\n",
              "          dataTable['output_type'] = 'display_data';\n",
              "          await google.colab.output.renderOutput(dataTable, element);\n",
              "          const docLink = document.createElement('div');\n",
              "          docLink.innerHTML = docLinkHtml;\n",
              "          element.appendChild(docLink);\n",
              "        }\n",
              "      </script>\n",
              "    </div>\n",
              "  </div>\n"
            ]
          },
          "metadata": {},
          "execution_count": 3
        }
      ]
    },
    {
      "cell_type": "code",
      "source": [
        "labels = pd.get_dummies(data.Subject)\n",
        "data = pd.concat([data.eng, labels],axis=1)\n",
        "data.head()"
      ],
      "metadata": {
        "colab": {
          "base_uri": "https://localhost:8080/",
          "height": 206
        },
        "id": "XF3BLei4tDrn",
        "outputId": "e2c19a2d-6087-47e3-d841-fcfadbb98e3c"
      },
      "execution_count": 4,
      "outputs": [
        {
          "output_type": "execute_result",
          "data": {
            "text/plain": [
              "                                                 eng  Biology  Chemistry  \\\n",
              "0  An anti-forest measure is\\nA. Afforestation\\nB...        1          0   \n",
              "1  Among the following organic acids, the acid pr...        0          1   \n",
              "2  If the area of two similar triangles are equal...        0          0   \n",
              "3  In recent year, there has been a growing\\nconc...        1          0   \n",
              "4  Which of the following statement\\nregarding tr...        0          0   \n",
              "\n",
              "   Maths  Physics  \n",
              "0      0        0  \n",
              "1      0        0  \n",
              "2      1        0  \n",
              "3      0        0  \n",
              "4      0        1  "
            ],
            "text/html": [
              "\n",
              "\n",
              "  <div id=\"df-d435723e-98eb-452b-9d80-276670b30b68\">\n",
              "    <div class=\"colab-df-container\">\n",
              "      <div>\n",
              "<style scoped>\n",
              "    .dataframe tbody tr th:only-of-type {\n",
              "        vertical-align: middle;\n",
              "    }\n",
              "\n",
              "    .dataframe tbody tr th {\n",
              "        vertical-align: top;\n",
              "    }\n",
              "\n",
              "    .dataframe thead th {\n",
              "        text-align: right;\n",
              "    }\n",
              "</style>\n",
              "<table border=\"1\" class=\"dataframe\">\n",
              "  <thead>\n",
              "    <tr style=\"text-align: right;\">\n",
              "      <th></th>\n",
              "      <th>eng</th>\n",
              "      <th>Biology</th>\n",
              "      <th>Chemistry</th>\n",
              "      <th>Maths</th>\n",
              "      <th>Physics</th>\n",
              "    </tr>\n",
              "  </thead>\n",
              "  <tbody>\n",
              "    <tr>\n",
              "      <th>0</th>\n",
              "      <td>An anti-forest measure is\\nA. Afforestation\\nB...</td>\n",
              "      <td>1</td>\n",
              "      <td>0</td>\n",
              "      <td>0</td>\n",
              "      <td>0</td>\n",
              "    </tr>\n",
              "    <tr>\n",
              "      <th>1</th>\n",
              "      <td>Among the following organic acids, the acid pr...</td>\n",
              "      <td>0</td>\n",
              "      <td>1</td>\n",
              "      <td>0</td>\n",
              "      <td>0</td>\n",
              "    </tr>\n",
              "    <tr>\n",
              "      <th>2</th>\n",
              "      <td>If the area of two similar triangles are equal...</td>\n",
              "      <td>0</td>\n",
              "      <td>0</td>\n",
              "      <td>1</td>\n",
              "      <td>0</td>\n",
              "    </tr>\n",
              "    <tr>\n",
              "      <th>3</th>\n",
              "      <td>In recent year, there has been a growing\\nconc...</td>\n",
              "      <td>1</td>\n",
              "      <td>0</td>\n",
              "      <td>0</td>\n",
              "      <td>0</td>\n",
              "    </tr>\n",
              "    <tr>\n",
              "      <th>4</th>\n",
              "      <td>Which of the following statement\\nregarding tr...</td>\n",
              "      <td>0</td>\n",
              "      <td>0</td>\n",
              "      <td>0</td>\n",
              "      <td>1</td>\n",
              "    </tr>\n",
              "  </tbody>\n",
              "</table>\n",
              "</div>\n",
              "      <button class=\"colab-df-convert\" onclick=\"convertToInteractive('df-d435723e-98eb-452b-9d80-276670b30b68')\"\n",
              "              title=\"Convert this dataframe to an interactive table.\"\n",
              "              style=\"display:none;\">\n",
              "\n",
              "  <svg xmlns=\"http://www.w3.org/2000/svg\" height=\"24px\"viewBox=\"0 0 24 24\"\n",
              "       width=\"24px\">\n",
              "    <path d=\"M0 0h24v24H0V0z\" fill=\"none\"/>\n",
              "    <path d=\"M18.56 5.44l.94 2.06.94-2.06 2.06-.94-2.06-.94-.94-2.06-.94 2.06-2.06.94zm-11 1L8.5 8.5l.94-2.06 2.06-.94-2.06-.94L8.5 2.5l-.94 2.06-2.06.94zm10 10l.94 2.06.94-2.06 2.06-.94-2.06-.94-.94-2.06-.94 2.06-2.06.94z\"/><path d=\"M17.41 7.96l-1.37-1.37c-.4-.4-.92-.59-1.43-.59-.52 0-1.04.2-1.43.59L10.3 9.45l-7.72 7.72c-.78.78-.78 2.05 0 2.83L4 21.41c.39.39.9.59 1.41.59.51 0 1.02-.2 1.41-.59l7.78-7.78 2.81-2.81c.8-.78.8-2.07 0-2.86zM5.41 20L4 18.59l7.72-7.72 1.47 1.35L5.41 20z\"/>\n",
              "  </svg>\n",
              "      </button>\n",
              "\n",
              "\n",
              "\n",
              "    <div id=\"df-ef589432-7612-461f-ac11-df926fb57666\">\n",
              "      <button class=\"colab-df-quickchart\" onclick=\"quickchart('df-ef589432-7612-461f-ac11-df926fb57666')\"\n",
              "              title=\"Suggest charts.\"\n",
              "              style=\"display:none;\">\n",
              "\n",
              "<svg xmlns=\"http://www.w3.org/2000/svg\" height=\"24px\"viewBox=\"0 0 24 24\"\n",
              "     width=\"24px\">\n",
              "    <g>\n",
              "        <path d=\"M19 3H5c-1.1 0-2 .9-2 2v14c0 1.1.9 2 2 2h14c1.1 0 2-.9 2-2V5c0-1.1-.9-2-2-2zM9 17H7v-7h2v7zm4 0h-2V7h2v10zm4 0h-2v-4h2v4z\"/>\n",
              "    </g>\n",
              "</svg>\n",
              "      </button>\n",
              "    </div>\n",
              "\n",
              "<style>\n",
              "  .colab-df-quickchart {\n",
              "    background-color: #E8F0FE;\n",
              "    border: none;\n",
              "    border-radius: 50%;\n",
              "    cursor: pointer;\n",
              "    display: none;\n",
              "    fill: #1967D2;\n",
              "    height: 32px;\n",
              "    padding: 0 0 0 0;\n",
              "    width: 32px;\n",
              "  }\n",
              "\n",
              "  .colab-df-quickchart:hover {\n",
              "    background-color: #E2EBFA;\n",
              "    box-shadow: 0px 1px 2px rgba(60, 64, 67, 0.3), 0px 1px 3px 1px rgba(60, 64, 67, 0.15);\n",
              "    fill: #174EA6;\n",
              "  }\n",
              "\n",
              "  [theme=dark] .colab-df-quickchart {\n",
              "    background-color: #3B4455;\n",
              "    fill: #D2E3FC;\n",
              "  }\n",
              "\n",
              "  [theme=dark] .colab-df-quickchart:hover {\n",
              "    background-color: #434B5C;\n",
              "    box-shadow: 0px 1px 3px 1px rgba(0, 0, 0, 0.15);\n",
              "    filter: drop-shadow(0px 1px 2px rgba(0, 0, 0, 0.3));\n",
              "    fill: #FFFFFF;\n",
              "  }\n",
              "</style>\n",
              "\n",
              "    <script>\n",
              "      async function quickchart(key) {\n",
              "        const containerElement = document.querySelector('#' + key);\n",
              "        const charts = await google.colab.kernel.invokeFunction(\n",
              "            'suggestCharts', [key], {});\n",
              "      }\n",
              "    </script>\n",
              "\n",
              "      <script>\n",
              "\n",
              "function displayQuickchartButton(domScope) {\n",
              "  let quickchartButtonEl =\n",
              "    domScope.querySelector('#df-ef589432-7612-461f-ac11-df926fb57666 button.colab-df-quickchart');\n",
              "  quickchartButtonEl.style.display =\n",
              "    google.colab.kernel.accessAllowed ? 'block' : 'none';\n",
              "}\n",
              "\n",
              "        displayQuickchartButton(document);\n",
              "      </script>\n",
              "      <style>\n",
              "    .colab-df-container {\n",
              "      display:flex;\n",
              "      flex-wrap:wrap;\n",
              "      gap: 12px;\n",
              "    }\n",
              "\n",
              "    .colab-df-convert {\n",
              "      background-color: #E8F0FE;\n",
              "      border: none;\n",
              "      border-radius: 50%;\n",
              "      cursor: pointer;\n",
              "      display: none;\n",
              "      fill: #1967D2;\n",
              "      height: 32px;\n",
              "      padding: 0 0 0 0;\n",
              "      width: 32px;\n",
              "    }\n",
              "\n",
              "    .colab-df-convert:hover {\n",
              "      background-color: #E2EBFA;\n",
              "      box-shadow: 0px 1px 2px rgba(60, 64, 67, 0.3), 0px 1px 3px 1px rgba(60, 64, 67, 0.15);\n",
              "      fill: #174EA6;\n",
              "    }\n",
              "\n",
              "    [theme=dark] .colab-df-convert {\n",
              "      background-color: #3B4455;\n",
              "      fill: #D2E3FC;\n",
              "    }\n",
              "\n",
              "    [theme=dark] .colab-df-convert:hover {\n",
              "      background-color: #434B5C;\n",
              "      box-shadow: 0px 1px 3px 1px rgba(0, 0, 0, 0.15);\n",
              "      filter: drop-shadow(0px 1px 2px rgba(0, 0, 0, 0.3));\n",
              "      fill: #FFFFFF;\n",
              "    }\n",
              "  </style>\n",
              "\n",
              "      <script>\n",
              "        const buttonEl =\n",
              "          document.querySelector('#df-d435723e-98eb-452b-9d80-276670b30b68 button.colab-df-convert');\n",
              "        buttonEl.style.display =\n",
              "          google.colab.kernel.accessAllowed ? 'block' : 'none';\n",
              "\n",
              "        async function convertToInteractive(key) {\n",
              "          const element = document.querySelector('#df-d435723e-98eb-452b-9d80-276670b30b68');\n",
              "          const dataTable =\n",
              "            await google.colab.kernel.invokeFunction('convertToInteractive',\n",
              "                                                     [key], {});\n",
              "          if (!dataTable) return;\n",
              "\n",
              "          const docLinkHtml = 'Like what you see? Visit the ' +\n",
              "            '<a target=\"_blank\" href=https://colab.research.google.com/notebooks/data_table.ipynb>data table notebook</a>'\n",
              "            + ' to learn more about interactive tables.';\n",
              "          element.innerHTML = '';\n",
              "          dataTable['output_type'] = 'display_data';\n",
              "          await google.colab.output.renderOutput(dataTable, element);\n",
              "          const docLink = document.createElement('div');\n",
              "          docLink.innerHTML = docLinkHtml;\n",
              "          element.appendChild(docLink);\n",
              "        }\n",
              "      </script>\n",
              "    </div>\n",
              "  </div>\n"
            ]
          },
          "metadata": {},
          "execution_count": 4
        }
      ]
    },
    {
      "cell_type": "code",
      "source": [
        "text = data['eng'].values\n",
        "labels = data[['Biology','Chemistry', 'Maths', 'Physics']].values"
      ],
      "metadata": {
        "id": "oLlPPWeRMltE"
      },
      "execution_count": 5,
      "outputs": []
    },
    {
      "cell_type": "code",
      "source": [
        "text_train, text_test, labels_train, labels_text = train_test_split(text, labels, test_size = 0.1)"
      ],
      "metadata": {
        "id": "DypCS57RNywb"
      },
      "execution_count": 6,
      "outputs": []
    },
    {
      "cell_type": "code",
      "source": [
        "## Text preprocesssing, make all character lower, and delete the characters in the list\n",
        "def sentence_preprocessing(sentences):\n",
        "    translation_table = str.maketrans('', '', \"«»()+-=-,՝.․։՜՛֊՟՚\\\\!\")\n",
        "    sentences = [sentence.lower().translate(translation_table) for sentence in sentences]\n",
        "    return sentences\n"
      ],
      "metadata": {
        "id": "LRZkqBqoH0n2"
      },
      "execution_count": 7,
      "outputs": []
    },
    {
      "cell_type": "code",
      "source": [
        "sentences = sentence_preprocessing(text_train)\n"
      ],
      "metadata": {
        "id": "qat_e65NSm9U"
      },
      "execution_count": 8,
      "outputs": []
    },
    {
      "cell_type": "code",
      "source": [
        "for i in range(10):\n",
        "  print(sentences[i],\"\\t\",labels_train[i])\n"
      ],
      "metadata": {
        "colab": {
          "base_uri": "https://localhost:8080/"
        },
        "id": "_N-pXC7SSrtN",
        "outputId": "f9645347-aab6-4d4a-d875-0fe3556dfe76"
      },
      "execution_count": 9,
      "outputs": [
        {
          "output_type": "stream",
          "name": "stdout",
          "text": [
            "which of the following is a mixed oxide?\n",
            "a  f e_{2} o_{3} \n",
            "в  p b o_{2} \n",
            " mathbf{c} cdot b a o_{2} \n",
            " mathbf{d} cdot p b_{3} o_{4}  \t [0 1 0 0]\n",
            "the second's hand of a watch has  6 mathrm{cm} \n",
            "length the speed of tis tip and magnitude of difference in velocity of its at any two perpendicular positions will be respectively:\n",
            " mathbf{a} cdot 2 pi  and  0 mathrm{mm} / mathrm{s} \n",
            "b  2 sqrt{2} pi  and  444 mathrm{mm} / mathrm{s} \n",
            " mathrm{c} cdot 2 sqrt{2} pi  and  2 pi mathrm{mm} / mathrm{s} \n",
            "d  2 pi  and  2 sqrt{3} pi mathrm{mm} / mathrm{s}  \t [0 0 0 1]\n",
            "two zinc rods are placed in contact with\n",
            "dil  h n o_{3}  and conc  h n o_{3}  in two\n",
            "separate containers a and b the characteristics of gases evolved in the containers are respectively:\n",
            "a the gas in container a turns  k_{2} c r_{2} o_{7}  green and the gas in container b turns lead acetate black\n",
            "b a  rightarrow  pungent smelling gas b  rightarrow  colourless odourless gass\n",
            " mathrm{c} cdot mathrm{a} rightarrow operatorname{inflammable} operatorname{gas} mathrm{b} rightarrow operatorname{turns} k_{2} mathrm{cr}_{2} mathrm{o}_{7}  green\n",
            "d  a rightarrow  can react with  o_{2}  explosively  b rightarrow  no reaction with  o_{2}  at all \t [0 1 0 0]\n",
            "a cylinder of gas assumed to contain 112  k g  of butane  c_{4} h_{10}  if a normal\n",
            "family needs  20000 k j  of energy per day the cylinder will last: given that  delta h  for combustion of butane is 2658\n",
            "kj\n",
            "a  20 days\n",
            "b 25 days\n",
            "c 26 days\n",
            "d 24 days \t [0 1 0 0]\n",
            "equivalent resistance between  a  and  b \n",
            "in figure is\n",
            "a  cdot 8 r / 7 \n",
            " 37 r / 8 \n",
            " c cdot 3 r / 4 \n",
            " d  \t [0 0 0 1]\n",
            "cells of the pancreas are not digested by their own enzymes because\n",
            "a enzymes are secreted in inactive form\n",
            "b cells are not lined by mucous membrane\n",
            "c enzymes are released only when needed\n",
            "d none of the above \t [1 0 0 0]\n",
            "if a plant cell is covered with the cell\n",
            "wall but the plasma membrane is absent will it affect the cell? explain how and why? \t [1 0 0 0]\n",
            "largest ovule is present in\n",
            "a  cycas\n",
            "b pinus\n",
            "c wolffia\n",
            "d rafflesia \t [1 0 0 0]\n",
            "no of 5 membered ring in  left[boldsymbol{c a}boldsymbol{e} boldsymbol{d} boldsymbol{t} boldsymbol{a}]^{2} boldsymbol{i s}right \n",
            "a  5\n",
            "b 6\n",
            " c cdot 7 \n",
            "d 8 \t [0 1 0 0]\n",
            "which of the following statement is true about pvc polyvinyl chloride and polythene?\n",
            "a they are thermoplastics\n",
            "b they are thermosetting plastics\n",
            "c they are examples of natural substances\n",
            "d they are natural fibres \t [0 1 0 0]\n"
          ]
        }
      ]
    },
    {
      "cell_type": "code",
      "source": [
        "list_of_all_words = []\n",
        "for sentence in sentences:\n",
        "  sentence_s = sentence.split()\n",
        "  list_of_tokens = []\n",
        "  for word in sentence_s:\n",
        "    list_of_tokens.append(word)\n",
        "  list_of_all_words.append(list_of_tokens)\n"
      ],
      "metadata": {
        "id": "vBKCQ242qoJ9"
      },
      "execution_count": 10,
      "outputs": []
    },
    {
      "cell_type": "code",
      "source": [
        "print(list_of_all_words[:10])"
      ],
      "metadata": {
        "colab": {
          "base_uri": "https://localhost:8080/"
        },
        "id": "XozLS6jaq4wq",
        "outputId": "77e7a9a1-e2d4-457d-9d45-c8870b014eb3"
      },
      "execution_count": 11,
      "outputs": [
        {
          "output_type": "stream",
          "name": "stdout",
          "text": [
            "[['which', 'of', 'the', 'following', 'is', 'a', 'mixed', 'oxide?', 'a', 'f', 'e_{2}', 'o_{3}', 'в', 'p', 'b', 'o_{2}', 'mathbf{c}', 'cdot', 'b', 'a', 'o_{2}', 'mathbf{d}', 'cdot', 'p', 'b_{3}', 'o_{4}'], ['the', \"second's\", 'hand', 'of', 'a', 'watch', 'has', '6', 'mathrm{cm}', 'length', 'the', 'speed', 'of', 'tis', 'tip', 'and', 'magnitude', 'of', 'difference', 'in', 'velocity', 'of', 'its', 'at', 'any', 'two', 'perpendicular', 'positions', 'will', 'be', 'respectively:', 'mathbf{a}', 'cdot', '2', 'pi', 'and', '0', 'mathrm{mm}', '/', 'mathrm{s}', 'b', '2', 'sqrt{2}', 'pi', 'and', '444', 'mathrm{mm}', '/', 'mathrm{s}', 'mathrm{c}', 'cdot', '2', 'sqrt{2}', 'pi', 'and', '2', 'pi', 'mathrm{mm}', '/', 'mathrm{s}', 'd', '2', 'pi', 'and', '2', 'sqrt{3}', 'pi', 'mathrm{mm}', '/', 'mathrm{s}'], ['two', 'zinc', 'rods', 'are', 'placed', 'in', 'contact', 'with', 'dil', 'h', 'n', 'o_{3}', 'and', 'conc', 'h', 'n', 'o_{3}', 'in', 'two', 'separate', 'containers', 'a', 'and', 'b', 'the', 'characteristics', 'of', 'gases', 'evolved', 'in', 'the', 'containers', 'are', 'respectively:', 'a', 'the', 'gas', 'in', 'container', 'a', 'turns', 'k_{2}', 'c', 'r_{2}', 'o_{7}', 'green', 'and', 'the', 'gas', 'in', 'container', 'b', 'turns', 'lead', 'acetate', 'black', 'b', 'a', 'rightarrow', 'pungent', 'smelling', 'gas', 'b', 'rightarrow', 'colourless', 'odourless', 'gass', 'mathrm{c}', 'cdot', 'mathrm{a}', 'rightarrow', 'operatorname{inflammable}', 'operatorname{gas}', 'mathrm{b}', 'rightarrow', 'operatorname{turns}', 'k_{2}', 'mathrm{cr}_{2}', 'mathrm{o}_{7}', 'green', 'd', 'a', 'rightarrow', 'can', 'react', 'with', 'o_{2}', 'explosively', 'b', 'rightarrow', 'no', 'reaction', 'with', 'o_{2}', 'at', 'all'], ['a', 'cylinder', 'of', 'gas', 'assumed', 'to', 'contain', '112', 'k', 'g', 'of', 'butane', 'c_{4}', 'h_{10}', 'if', 'a', 'normal', 'family', 'needs', '20000', 'k', 'j', 'of', 'energy', 'per', 'day', 'the', 'cylinder', 'will', 'last:', 'given', 'that', 'delta', 'h', 'for', 'combustion', 'of', 'butane', 'is', '2658', 'kj', 'a', '20', 'days', 'b', '25', 'days', 'c', '26', 'days', 'd', '24', 'days'], ['equivalent', 'resistance', 'between', 'a', 'and', 'b', 'in', 'figure', 'is', 'a', 'cdot', '8', 'r', '/', '7', '37', 'r', '/', '8', 'c', 'cdot', '3', 'r', '/', '4', 'd'], ['cells', 'of', 'the', 'pancreas', 'are', 'not', 'digested', 'by', 'their', 'own', 'enzymes', 'because', 'a', 'enzymes', 'are', 'secreted', 'in', 'inactive', 'form', 'b', 'cells', 'are', 'not', 'lined', 'by', 'mucous', 'membrane', 'c', 'enzymes', 'are', 'released', 'only', 'when', 'needed', 'd', 'none', 'of', 'the', 'above'], ['if', 'a', 'plant', 'cell', 'is', 'covered', 'with', 'the', 'cell', 'wall', 'but', 'the', 'plasma', 'membrane', 'is', 'absent', 'will', 'it', 'affect', 'the', 'cell?', 'explain', 'how', 'and', 'why?'], ['largest', 'ovule', 'is', 'present', 'in', 'a', 'cycas', 'b', 'pinus', 'c', 'wolffia', 'd', 'rafflesia'], ['no', 'of', '5', 'membered', 'ring', 'in', 'left[boldsymbol{c', 'a}boldsymbol{e}', 'boldsymbol{d}', 'boldsymbol{t}', 'boldsymbol{a}]^{2}', 'boldsymbol{i', 's}right', 'a', '5', 'b', '6', 'c', 'cdot', '7', 'd', '8'], ['which', 'of', 'the', 'following', 'statement', 'is', 'true', 'about', 'pvc', 'polyvinyl', 'chloride', 'and', 'polythene?', 'a', 'they', 'are', 'thermoplastics', 'b', 'they', 'are', 'thermosetting', 'plastics', 'c', 'they', 'are', 'examples', 'of', 'natural', 'substances', 'd', 'they', 'are', 'natural', 'fibres']]\n"
          ]
        }
      ]
    },
    {
      "cell_type": "code",
      "source": [
        "dct = gensim.corpora.Dictionary(list_of_all_words)\n",
        "\n",
        "word2idx = dct.token2id\n",
        "idx2word = [dct[i] for i in range(len(dct.token2id))]\n",
        "idx2word = ['PAD', 'UNK'] + idx2word  # Add a token for unknown words and padding\n",
        "word2idx = {w: i for i, w in enumerate(idx2word)}\n",
        "\n",
        "print(f'Unique words: {len(idx2word)}')\n",
        "print(idx2word[:30])\n",
        "\n",
        "with open('idx2word.txt', 'w', encoding='utf-8') as idx2word_file:\n",
        "  idx2word_file.write('\\n'.join(idx2word))"
      ],
      "metadata": {
        "id": "X5_1zu6clZ8o",
        "colab": {
          "base_uri": "https://localhost:8080/"
        },
        "outputId": "c53559a8-e704-4c64-e0e4-4a46e08842e7"
      },
      "execution_count": 12,
      "outputs": [
        {
          "output_type": "stream",
          "name": "stdout",
          "text": [
            "Unique words: 139869\n",
            "['PAD', 'UNK', 'a', 'b', 'b_{3}', 'cdot', 'e_{2}', 'f', 'following', 'is', 'mathbf{c}', 'mathbf{d}', 'mixed', 'o_{2}', 'o_{3}', 'o_{4}', 'of', 'oxide?', 'p', 'the', 'which', 'в', '/', '0', '2', '444', '6', 'and', 'any', 'at']\n"
          ]
        }
      ]
    },
    {
      "cell_type": "code",
      "source": [
        "print(dct)"
      ],
      "metadata": {
        "id": "lSJI9OCpChF8",
        "colab": {
          "base_uri": "https://localhost:8080/"
        },
        "outputId": "0e888f91-349f-4a4b-a8d2-75836e64a6ec"
      },
      "execution_count": 13,
      "outputs": [
        {
          "output_type": "stream",
          "name": "stdout",
          "text": [
            "Dictionary<139867 unique tokens: ['a', 'b', 'b_{3}', 'cdot', 'e_{2}']...>\n"
          ]
        }
      ]
    },
    {
      "cell_type": "code",
      "source": [
        "from sklearn.feature_extraction.text import TfidfVectorizer\n",
        "\n",
        "tfidf_vectorizer = TfidfVectorizer(vocabulary=idx2word)\n",
        "\n",
        "# Calculate TF-IDF scores\n",
        "tfidf_matrix = tfidf_vectorizer.fit_transform(sentences)\n",
        "\n",
        "# Define a threshold\n",
        "threshold = 0.5\n",
        "\n",
        "# Filter and delete low TF-IDF words\n",
        "filtered_words = [word for word, tfidf_score in zip(idx2word, tfidf_matrix.max(axis=0).toarray()[0]) if tfidf_score >= threshold]\n"
      ],
      "metadata": {
        "colab": {
          "base_uri": "https://localhost:8080/"
        },
        "id": "sI9sZmldqJfI",
        "outputId": "c87eed99-73ba-4c8a-a924-ef5b0d3746d4"
      },
      "execution_count": 14,
      "outputs": [
        {
          "output_type": "stream",
          "name": "stderr",
          "text": [
            "/usr/local/lib/python3.10/dist-packages/sklearn/feature_extraction/text.py:1380: UserWarning: Upper case characters found in vocabulary while 'lowercase' is True. These entries will not be matched with any documents\n",
            "  warnings.warn(\n"
          ]
        }
      ]
    },
    {
      "cell_type": "code",
      "source": [
        "\n",
        "print(f'Unique words: {len(filtered_words)}')\n",
        "print(filtered_words[:30])\n",
        "\n",
        "idx2word = ['PAD', 'UNK'] + filtered_words\n",
        "\n",
        "print(f'Unique words: {len(idx2word)}')\n",
        "print(idx2word[:30])\n"
      ],
      "metadata": {
        "colab": {
          "base_uri": "https://localhost:8080/"
        },
        "id": "EP54Fuq1qtJS",
        "outputId": "3ee85c54-ed19-4af4-c915-1b326c6e980a"
      },
      "execution_count": 15,
      "outputs": [
        {
          "output_type": "stream",
          "name": "stdout",
          "text": [
            "Unique words: 13256\n",
            "['cdot', 'following', 'mixed', 'of', 'the', 'and', 'any', 'at', 'difference', 'hand', 'has', 'in', 'its', 'length', 'magnitude', 'perpendicular', 'pi', 'speed', 'tip', 'tis', 'two', 'velocity', 'watch', 'will', 'acetate', 'all', 'black', 'characteristics', 'colourless', 'conc']\n",
            "Unique words: 13258\n",
            "['PAD', 'UNK', 'cdot', 'following', 'mixed', 'of', 'the', 'and', 'any', 'at', 'difference', 'hand', 'has', 'in', 'its', 'length', 'magnitude', 'perpendicular', 'pi', 'speed', 'tip', 'tis', 'two', 'velocity', 'watch', 'will', 'acetate', 'all', 'black', 'characteristics']\n"
          ]
        }
      ]
    },
    {
      "cell_type": "code",
      "source": [
        "VOCAB_SIZE = 13185\n",
        "encoder = tf.keras.layers.TextVectorization(\n",
        "    max_tokens=VOCAB_SIZE)\n",
        "encoder.adapt(idx2word)"
      ],
      "metadata": {
        "id": "K5hFRS5TmCb1"
      },
      "execution_count": 16,
      "outputs": []
    },
    {
      "cell_type": "code",
      "source": [
        "print(sentences[1])\n",
        "encoded_example = encoder(sentences[1])\n",
        "print(encoded_example)"
      ],
      "metadata": {
        "colab": {
          "base_uri": "https://localhost:8080/"
        },
        "id": "X4LYW1j0nO22",
        "outputId": "c676ecad-10bc-4aa2-fabe-fb885271d55d"
      },
      "execution_count": 17,
      "outputs": [
        {
          "output_type": "stream",
          "name": "stdout",
          "text": [
            "the second's hand of a watch has  6 mathrm{cm} \n",
            "length the speed of tis tip and magnitude of difference in velocity of its at any two perpendicular positions will be respectively:\n",
            " mathbf{a} cdot 2 pi  and  0 mathrm{mm} / mathrm{s} \n",
            "b  2 sqrt{2} pi  and  444 mathrm{mm} / mathrm{s} \n",
            " mathrm{c} cdot 2 sqrt{2} pi  and  2 pi mathrm{mm} / mathrm{s} \n",
            "d  2 pi  and  2 sqrt{3} pi mathrm{mm} / mathrm{s} \n",
            "tf.Tensor(\n",
            "[ 1708  2707  7161  4632 11665   848  7139     1     1  5920  1708  2293\n",
            "  4632  1542  1544 11172  5627  4632  8851  6673  1011  4632  6338 10925\n",
            " 11088  1264  4148     1   756     1  3044     1 10081     1  4041 11172\n",
            "     1     1     1     1     1     1  4041 11172     1     1     1     1\n",
            " 10081     1     1  4041 11172     1  4041     1     1     1     1  4041\n",
            " 11172     1     1  4041     1     1], shape=(66,), dtype=int64)\n"
          ]
        }
      ]
    },
    {
      "cell_type": "code",
      "source": [
        "print(encoder.get_vocabulary())"
      ],
      "metadata": {
        "colab": {
          "base_uri": "https://localhost:8080/"
        },
        "id": "DK9yuWHToBg3",
        "outputId": "d0ae17e9-8211-44b7-9c9c-4c872feff231"
      },
      "execution_count": 18,
      "outputs": [
        {
          "output_type": "stream",
          "name": "stdout",
          "text": [
            "['', '[UNK]', 'question', '高广', '田田', '彥光', 'ルiva', 'กก', '२ᅵ', 'яа', 'чuestion', 'уочт', 'уочr', 'уоиг', 'туре', 'те', 'твр', 'ст', 'сс', 'сосс', 'соснс', 'сосн', 'соос', 'соон', 'соок', 'со', 'снон', 'сно', 'сн', 'см', 'си', 'сд', 'сансо', 'сам', 'сlсоон', 'сl', 'сfc', 'рос', 'рнз', 'рнву', 'ра', 'пт', 'ос', 'он', 'ова', 'ов', 'о931цн931ин', 'ну', 'нсоосн', 'нсоон', 'нсно', 'нсн', 'нс', 'нр', 'нос', 'нопо', 'но', 'не', 'нвт', 'нz', 'нp', 'нgон', 'нg', 'мпо4', 'мп', 'мо', 'мнz', 'мн', 'ми', 'меон', 'мв', 'мауbе', 'мау', 'маон', 'маdр', 'ма', 'мn', 'мineral', 'мgмg', 'мg', 'мd', 'ку', 'ксl', 'кон', 'кмпо', 'ка', 'кrf', 'кgf', 'еtон', 'еts', 'еdta', 'гос', 'го', 'вслз', 'вс', 'внс', 'вм', 'ве', 'вг', 'ва', 'вlue', 'атр', 'амр', 'ам', 'аи', 'аlме', 'аl', 'аin', 'zzx', 'zzww', 'zz', 'zymase', 'zygote', 'zy30', 'zy2', 'zxy', 'zxi', 'zx', 'zwitter', 'zw', 'zsin', 'zright', 'zrand', 'zr', 'zpi', 'zpansion', 'zones', 'zone', 'zomega', 'zns', 'zno', 'znc', 'zn', 'zlefta', 'zinç', 'zinc', 'zieglernatta', 'zi', 'zh', 'zf', 'zeta', 'zerowhich', 'zerowaste', 'zeroth', 'zeros', 'zeroes', 'zero', 'zer', 'zepto', 'zeolite', 'zener', 'zdots', 'zdirection', 'zd0', 'zcos', 'zc', 'zaxis', 'zarg', 'zare', 'zai', 'zab', 'za', 'z912', 'z91', 'z90', 'z9', 'z80', 'z70', 'z7', 'z690', 'z6', 'z58', 'z57', 'z55', 'z52', 'z50', 'z5', 'z4i', 'z43', 'z41', 'z40', 'z4', 'z37', 'z36', 'z35', 'z34', 'z30', 'z3', 'z29', 'z28', 'z259', 'z25', 'z24', 'z23', 'z2', 'z1i', 'z18', 'z150', 'z15', 'z13', 'z12', 'z100', 'z10', 'z1', 'z0', 'yzxy', 'yzx2', 'yz40', 'yz2', 'yz10', 'yz', 'yy2', 'yy100', 'yy1', 'yy', 'yxyc', 'yxy', 'yxx4', 'yxx', 'yxsin', 'yxright', 'yxlog', 'yxk', 'yxc', 'yx8', 'yx5y4', 'yx4', 'yx30', 'yx3', 'yx2', 'yx1k', 'yx140', 'yx1', 'yx0', 'yx', 'yuv', 'yusuf', 'ytheta', 'ytan', 'yt', 'ysin', 'ysec', 'yrs', 'yrightleft4', 'yright0', 'yright', 'yrays', 'yr', 'ypx', 'ypm', 'ype', 'your', 'younger', 'young', 'you', 'yo', 'yn0', 'yn', 'ymn', 'ym', 'ylog', 'yln', 'yleftx', 'ylefttan', 'yleftsin', 'yleftcos', 'ylefta', 'yleft9', 'yleft5', 'yleft4', 'yk0', 'yk', 'yintercept', 'yields', 'yield', 'yi', 'yg', 'yfx', 'yf', 'yeta', 'yes', 'yellowing', 'yellowbrown', 'yellow', 'years', 'yeariii', 'year', 'ye', 'ydirection', 'yd', 'ycot', 'ycos', 'ycoordinate', 'ycomponent', 'ychromosome', 'yca', 'yc0', 'yc', 'yb', 'yaxis', 'yangle', 'yand', 'ya5', 'ya', 'y99', 'y960', 'y90', 'y9', 'y8x', 'y89', 'y813', 'y80', 'y8', 'y77', 'y75', 'y70', 'y7', 'y650', 'y65', 'y60', 'y6', 'y54', 'y5190', 'y50', 'y5', 'y4y5', 'y4rightleft8', 'y450', 'y45', 'y40', 'y4', 'y3right', 'y390', 'y35', 'y33', 'y310', 'y30', 'y3', 'y2y20', 'y29', 'y28', 'y275', 'y260', 'y26', 'y25', 'y24right', 'y24', 'y2350', 'y230', 'y23', 'y200', 'y20', 'y2', 'y1y', 'y1right', 'y1k', 'y1i', 'y1cos', 'y1c', 'y190', 'y18', 'y16right0', 'y16right', 'y160', 'y16', 'y15lambda3', 'y1510', 'y15', 'y140', 'y130', 'y13', 'y1280', 'y125', 'y120', 'y12', 'y115', 'y110', 'y11', 'y10right', 'y108', 'y102', 'y100', 'y10', 'y1', 'y0500', 'y05', 'y02025', 'y02', 'y01', 'y002', 'y0', 'xz', 'xyzxyz', 'xyzx', 'xyzin', 'xyz9', 'xyz540', 'xyz5', 'xyz180', 'xyz0', 'xyz', 'xyuvi', 'xytan', 'xysin', 'xysec', 'xyr', 'xypi', 'xym', 'xylene', 'xylem', 'xylary', 'xyk', 'xycos', 'xyc', 'xy9', 'xy70', 'xy7', 'xy6', 'xy50', 'xy5', 'xy40', 'xy4', 'xy30', 'xy3', 'xy2c', 'xy23', 'xy2', 'xy1lambdaxy', 'xy1k', 'xy140', 'xy14', 'xy13', 'xy120', 'xy11', 'xy10', 'xy1', 'xy0', 'xy', 'xxy', 'xx80', 'xx40', 'xx4', 'xx390', 'xx3', 'xx2', 'xx1x2', 'xx1', 'xx0', 'xx', 'xv', 'xture', 'xtan', 'xsin', 'xsec', 'xrightsin', 'xrightright', 'xrightcot', 'xrightcos', 'xrightc', 'xrightb', 'xright3', 'xright2', 'xright1', 'xright0', 'xright', 'xr', 'xq', 'xpm', 'xpix', 'xpi', 'xphiright', 'xp', 'xoxxx', 'xon', 'xomega', 'xo', 'xnxn', 'xn0', 'xn', 'xlog', 'xleftx', 'xleftc', 'xleftb', 'xleft32', 'xleft2', 'xleft1cot', 'xldots', 'xlambda', 'xl', 'xkright', 'xk40', 'xk0', 'xk', 'xintercept', 'xint', 'xinfty2', 'xiiy', 'xi', 'xhx', 'xh', 'xgx', 'xg', 'xenon', 'xef', 'xe', 'xdotssin', 'xdots', 'xdirection', 'xd0', 'xd', 'xcsin', 'xcsc', 'xcrightlefta', 'xcright', 'xcot', 'xcos', 'xchromosome', 'xccos', 'xcab0', 'xc0', 'xc', 'xbright', 'xbc', 'xb0', 'xb', 'xaxis', 'xaxb', 'xathetasin', 'xalpha', 'xaleftcos', 'xagog', 'xab', 'xa', 'x9x11', 'x9right', 'x99', 'x9261', 'x903', 'x90', 'x9', 'x8x3', 'x8right1', 'x8right', 'x84', 'x817', 'x80', 'x8', 'x7y5', 'x7right', 'x785', 'x76', 'x75', 'x715', 'x70', 'x7', 'x6right4', 'x6right', 'x6c', 'x675', 'x642x', 'x63', 'x612', 'x610', 'x60', 'x6', 'x5x5', 'x5x2', 'x5rightx1', 'x5rightleft3', 'x5right', 'x5c', 'x5886', 'x55', 'x53', 'x52', 'x50', 'x5', 'x4x1', 'x4right', 'x49', 'x48', 'x46', 'x45x', 'x45367', 'x450', 'x45', 'x43', 'x42', 'x413', 'x40', 'x4', 'x3x5', 'x3x4', 'x3x2', 'x3x10', 'x3rightright', 'x3rightleft10', 'x3right', 'x3log', 'x3cos', 'x39', 'x375', 'x37', 'x36', 'x3562', 'x34', 'x33', 'x32', 'x316', 'x315', 'x313', 'x3122', 'x30', 'x3', 'x2x3', 'x2x11', 'x2rightright', 'x2rightleft3', 'x2rightc', 'x2right', 'x2log', 'x2leftcos', 'x2left9', 'x2left4', 'x29', 'x280', 'x28', 'x27', 'x267', 'x26', 'x25', 'x240', 'x24', 'x23', 'x22', 'x21', 'x20', 'x2', 'x1y', 'x1x2x3', 'x1x2', 'x1x1x', 'x1x', 'x1tan', 'x1sin', 'x1rightx1', 'x1rightleftsin', 'x1right', 'x1log', 'x1leftcos', 'x1c', 'x19', 'x180', 'x18', 'x171', 'x170', 'x16023', 'x150', 'x15', 'x14right', 'x14', 'x13x17', 'x1352', 'x133right', 'x13', 'x12right38', 'x12alpha', 'x1253', 'x125', 'x122', 'x121', 'x120', 'x12', 'x116', 'x114x', 'x11', 'x10right', 'x1080', 'x1050', 'x105', 'x100', 'x10', 'x1', 'x08028', 'x0500', 'x012', 'x009', 'x004', 'x002', 'x0', 'wвс', 'ww', 'wurtzfitting', 'wurtzfittig', 'wurtz', 'wt', 'wrtx', 'wrt', 'wrote', 'wrong', 'writer', 'write', 'wrist', 'wrinkled', 'wrench', 'wrapping', 'wrap', 'wr', 'wow', 'wounds', 'would', 'worts', 'worth', 'worst', 'worm', 'world', 'works', 'working', 'workers', 'workenergy', 'work', 'words', 'word', 'wool', 'wooden', 'wooded', 'woodd', 'wood', 'won', 'women', 'woman', 'wolffian', 'wolffia', 'wohler', 'wmu', 'withstanding', 'without', 'within', 'with', 'wise', 'wirh', 'wires', 'wire', 'winter', 'winners', 'wings', 'wing', 'wine', 'winds', 'window', 'windmill', 'winding', 'wind', 'williamson', 'william', 'willemite', 'will', 'wiin', 'width', 'wide', 'wicks', 'wickets', 'wi', 'why', 'whose', 'whorls', 'whorl', 'whole', 'who', 'whm', 'white', 'whipping', 'whional', 'whi', 'whereas', 'where', 'whenever', 'when', 'wheels', 'wheelers', 'wheel', 'wheatstone', 'wheater', 'wheat', 'wheastone', 'what', 'whan', 'whales', 'wg', 'wetlands', 'westwards', 'westrosol', 'westron', 'west', 'werners', 'werner', 'were', 'welwitchiales', 'welldeveloped', 'well', 'welders', 'weigth', 'weights', 'weighted', 'weight', 'weighs', 'weigh', 'weedicides', 'wedgesim', 'wedgedash', 'wedge', 'weber', 'web', 'weather', 'wearing', 'weapons', 'weakly', 'weakest', 'weaker', 'weak', 'we', 'wdr', 'wbcs', 'wbc', 'wb', 'waysyou', 'ways', 'waxing', 'wax', 'waves', 'wavelets', 'wavelengths', 'wavelength', 'wavefront', 'wave', 'watts', 'wattless', 'watt', 'watsoncrick', 'watson', 'waterwhich', 'waterthe', 'watersoluble', 'waterheater', 'waterfall', 'waterexcess', 'water', 'watchmakers', 'watch', 'wastewater', 'wastes', 'wasteful', 'waste', 'washing', 'washer', 'wash', 'was', 'warmth', 'warming', 'warmed', 'warm', 'warfare', 'ware', 'wand', 'walls', 'walled', 'wall', 'wakes', 'wagon', 'wages', 'wage', 'w4', 'w30', 'w1x', 'w0', 'vıи', 'vıl', 'vı', 'vw', 'vv', 'vulcanization', 'vulcanisation', 'vuk', 'vuf', 'vuat', 'vualpha', 'vua', 'vth', 'vt', 'vsepr', 'vs', 'vright', 'vrhosigma', 'vr1e1', 'vr', 'vowels', 'vourg', 'votes', 'voters', 'voted', 'voso', 'vortex', 'vomega', 'volvox', 'voluntary', 'volumes', 'volume', 'volum', 'volts', 'voltmetre', 'voltmeter', 'voltm', 'voltameter', 'voltage', 'volt', 'volatility', 'volatile', 'vol', 'voice', 'voe', 'vm', 'vlambda', 'vl', 'viz', 'vitrol', 'vitro', 'vitriol', 'vitreous', 'vitamins', 'vitamin12', 'vitamin', 'vital', 'visual', 'visking', 'visitors', 'vision', 'visible', 'viscous', 'viscosity', 'viruses', 'virus', 'virtual', 'virial', 'violet', 'violently', 'violence', 'violates', 'violated', 'vinyl', 'villis', 'villi', 'village', 'viii', 'vii', 'vigorously', 'vigna', 'views', 'viewing', 'viewers', 'view', 'victor', 'vicostheta', 'vicinity', 'vicinaldihalides', 'vicinal', 'vibrio', 'vibrator', 'vibrations', 'vibrational', 'vibration', 'vibrating', 'vibrates', 'vibrate', 'vibgyor', 'via', 'vi', 'vetical', 'vesselsarteryvein', 'vesselsartery', 'vessels', 'vessel', 'very', 'vertices', 'vertically', 'vertex', 'vertebrates', 'vertebrate', 'vertebra', 'versus', 'versions', 'veronal', 'vernier', 'vermi', 'verify', 'verandah', 'veocity', 'venus', 'venturimeter', 'ventricular', 'ventricles', 'ventricle', 'ventral', 'ventilator', 'ventilation', 'venosus', 'venndiagram', 'venn', 'venation', 'vena', 'velocitytime', 'velocityposition', 'velocity', 'velocities', 'veins', 'vein', 'vehicle', 'vegetative', 'vegetation', 'vegetarian', 'vegetable', 'veena', 'vee', 'vectors', 'vectorially', 'vector', 've', 'vdots', 'vc', 'vbt', 'vb', 'vaurauestion', 'vaue', 'vaucheria', 'vat', 'vasopressin', 'vase', 'vascular', 'varying', 'vary', 'varphi', 'various', 'variety', 'varieties', 'varies', 'variations', 'variation', 'variates', 'variate', 'variants', 'variance', 'variables', 'variable', 'varepsilon', 'varangle', 'var', 'vapours', 'vapourise', 'vapourisation', 'vapoures', 'vapour', 'vapors', 'vaporisation', 'vapor', 'vant', 'vanish', 'vanaspathi', 'vanarkel', 'vanadium', 'van', 'vampires', 'valves', 'valve', 'valuesat', 'values', 'valued', 'value', 'validity', 'valid', 'valency', 'valencies', 'valence', 'valance', 'vacuum', 'vacuole', 'vaccumm', 'vaccine', 'va4', 'va', 'v90', 'v5', 'v4', 'v3', 'v2', 'v16', 'v100', 'v1', 'v076', 'v05', 'v0', 'uw', 'uv5', 'uv', 'uut', 'uus', 'uuo', 'uun', 'utilized', 'utility', 'utilised', 'utilise', 'uterus', 'utensils', 'usually', 'usual', 'using', 'uses', 'usefulness', 'usefull', 'useful', 'used', 'use', 'usa', 'us', 'ursa', 'urochordates', 'urn', 'uriniferous', 'urine', 'urinary', 'uright', 'uricotelic', 'uric', 'urey', 'urethra', 'urethane', 'ureter', 'ureotelic', 'urease', 'urea', 'uranus', 'uranium', 'uracil', 'upwhat', 'upwards', 'upward', 'upton', 'uptake', 'upsilon', 'upright', 'uparrow', 'up', 'uo', 'unwanted', 'unsymmetrical', 'unstable', 'unshaded', 'unsensitized', 'unsaturation', 'unsaturated', 'unreactive', 'unreacted', 'unpredictable', 'unpolarished', 'unpolarised', 'unpaired', 'unlikely', 'unknown', 'unk', 'university', 'universe', 'universal', 'unity', 'unitt', 'units', 'unitary', 'unit', 'unison', 'uniqueness', 'unipositive', 'uniport', 'uninucleate', 'unimportant', 'unimolecular', 'unimodular', 'unilayer', 'uniformly', 'uniform', 'unified', 'unification', 'unicostate', 'unicellular', 'unhybridised', 'ungulates', 'unfertilized', 'unequal', 'undoped', 'undissolved', 'underwater', 'understand', 'underlying', 'underlined', 'underline', 'undergoing', 'undergoes', 'undergo', 'under', 'undefined', 'uncountably', 'uncontrolled', 'uncombined', 'uncharged', 'unchanged', 'uncertainty', 'uncertainties', 'uncertainly', 'uncertainity', 'uncatalysed', 'unbonded', 'unbiassed', 'unary', 'unable', 'un', 'umbel', 'ultraviolet', 'ultrasound', 'ultrasonics', 'ultrasonic', 'ultrapure', 'ultra', 'uleftocleftn', 'uleftn', 'ulcers', 'uk', 'ui', 'uh', 'ufo', 'uf', 'uestion', 'ucm', 'uc', 'ubs', 'ua', 'u6243', 'u3', 'u2', 'u1right', 'u1990', 'u1492', 'u10', 'u0', 'tyres', 'tyre', 'typr', 'types', 'type', 'tyndall', 'tyndal', 'tyloses', 'tx', 'twoton', 'twothirds', 'twothird', 'twodimensional', 'twodigit', 'two', 'twins', 'twinning', 'twinkling', 'twinkle', 'twiners', 'twenty', 'twelve', 'twelth', 'tve', 'tv', 'turpentine', 'turns', 'turning', 'turn', 'turbulent', 'turbidity', 'turban', 'tunnel', 'tuning', 'tungsten', 'tumblers', 'tumbler', 'tuesdays', 'tuesday', 'tubules', 'tubule', 'tubes', 'tubers', 'tuber', 'tube', 'tub', 'tt', 'tshaped', 'tshape', 'tsa', 'ts', 'tryptophan', 'trypsin', 'truth', 'trunk', 'true1', 'true', 'trucks', 'truck', 'trpesourr', 'troughs', 'trough', 'tropylium', 'troposphere', 'troponin', 'tropomyosin', 'tropic', 'trophic', 'trom', 'trolley', 'trna', 'trivial', 'tritium', 'triticum', 'trisects', 'trisection', 'trisect', 'trisaccharide', 'triprotic', 'tripolysaccharide', 'triploblastic', 'tripledd', 'triple', 'triphosphate', 'triphenylphosphine', 'tripeptides', 'trip', 'trioxalatoferrateiii', 'triode', 'trinomial', 'trinium', 'trinitrobenzene', 'trinitortoluene', 'trimethylmethane', 'trimethylcyclohex', 'trimethyl', 'trimester', 'trimerous', 'trimer', 'trihydric', 'trihalomethanes', 'trihalides', 'trihalide', 'trigonometrical', 'trigonometric', 'trigonal', 'triglycerides', 'tright', 'triethylamine', 'trienes', 'triene', 'tricuspid', 'trick', 'trichloromethyl', 'trichloroacetic', 'trichloride', 'tribromophenol', 'tribromooctaoxide', 'tribe', 'tribasic', 'triazine', 'triatomic', 'triangular', 'triangluar', 'trianglesif', 'triangles', 'triangleq', 'trianglel', 'triangle', 'triangal', 'triamminetrinitrocobaltiii', 'triamminetriaquachromium', 'trial', 'triagonal', 'triads', 'triad', 'trends', 'trend', 'trench', 'trehalose', 'trees', 'tree', 'treatment', 'treating', 'treated', 'treat', 'travels', 'travells', 'travelled', 'traveling', 'traveled', 'travel', 'traumatic', 'traps', 'trapezoids', 'trapezoid', 'trapeziums', 'trapezium', 'traped', 'trap', 'transverse', 'transversals', 'transversallf', 'transversal', 'transuranic', 'transposing', 'transpose', 'transports', 'transported', 'transport', 'transpolyisoprene', 'transpiring', 'transpiration', 'transparent', 'transmitted', 'transmit', 'transmission', 'translocation', 'translatory', 'translational', 'translation', 'transitive', 'transitions', 'transitional', 'transition', 'transistors', 'transistor', 'transient', 'transformers', 'transformer', 'transformations', 'transform', 'transfers', 'transferred', 'transference', 'transfer', 'transdichlorobisethylenediamine', 'transcriptionally', 'transcriptional', 'transcription', 'transalkene', 'trans12', 'trans1', 'trans', 'tranquilizers', 'tranquilizer', 'tranlational', 'trajectory', 'traits', 'trait', 'trains', 'train', 'traffic', 'tract', 'tracks', 'track', 'tracheid', 'traces', 'traced', 'trace', 'tr', 'tq', 'tpi', 'tphik', 'tphi', 'tp', 'toys', 'toy', 'toxin', 'town', 'tower', 'towards', 'toward', 'tourmaline', 'tour', 'toulene', 'touching', 'touched', 'touch', 'total', 'tot', 'tossing', 'tosses', 'tossed', 'toss', 'torsional', 'torricellian', 'torr', 'torques', 'torque', 'toroidal', 'toroid', 'topsoil', 'toppr', 'topp', 'toothpaste', 'tooth', 'toossed', 'toone', 'tools', 'took', 'tood', 'too', 'tons', 'tonnes', 'tonic', 'tongue', 'tones', 'toner', 'ton', 'tomato', 'toluidine', 'toluene', 'tolerance', 'toilet', 'toggles', 'to', 'tnt', 'tn1', 'tm', 'tlog', 'tleftn', 'tlc', 'tlambda', 'tk', 'titre', 'titrations', 'titration', 'titrating', 'titanium', 'tissues', 'tissue', 'tis', 'tire', 'tip', 'tins', 'tincture', 'tincal', 'tina', 'tin', 'timesnr', 'timesmn', 'timesleft18', 'timesl', 'timesc', 'timesa', 'times856', 'times64', 'times6', 'times42', 'times4', 'times35', 'times3', 'times27', 'times25', 'times24', 'times2', 'times13416', 'times11', 'times10', 'times1', 'times0', 'times', 'timein', 'time', 'tim', 'till', 'tiles', 'tight', 'tie', 'tides', 'tickets', 'ticket', 'ti', 'thyroxin', 'thyroid', 'thymus', 'thymine', 'thylakoids', 'thylakoid', 'thunderstorm', 'thundering', 'thunder', 'thumb', 'tht', 'thsecond', 'thrust', 'thrown', 'thrower', 'throw', 'throughout', 'through', 'thromoboplastin', 'thromboplastin', 'threesevenths', 'threedimensional', 'three', 'thread', 'thought', 'those', 'thorium', 'thorax', 'thoracic', 'thirteen', 'thirdorder', 'third', 'thiosulphuric', 'thiosulphates', 'thiophene', 'thionitro', 'thinking', 'things', 'thief', 'thickness', 'thickenings', 'thiamine', 'thhe', 'thf', 'they', 'thetay', 'thetax', 'thetaw', 'thetatan', 'thetasin', 'thetasec', 'thetaright5', 'thetaright1', 'thetaright0', 'thetaright', 'thetaq', 'thetaphi2', 'thetaphi', 'thetap', 'thetan', 'thetamu', 'thetaleft11', 'thetak', 'thetaj', 'thetai', 'thetacot', 'thetacos', 'thetac', 'thetab', 'thetaa', 'theta9', 'theta5', 'theta40', 'theta4', 'theta3', 'theta20', 'theta2', 'theta1tan', 'theta1sin', 'theta10', 'theta1', 'theta09664', 'theta02334', 'theta00958', 'theta0', 'theta', 'these', 'thes', 'thermostat', 'thermosetting', 'thermoresistant', 'thermoplastics', 'thermoplastic', 'thermophilic', 'thermometry', 'thermometric', 'thermometers', 'thermometer', 'thermodynamics', 'thermodynamically', 'thermodynamical', 'thermodynamic', 'thermochemical', 'thermo', 'thermite', 'thermit', 'thermally', 'thermal', 'therm', 'therein', 'therefore', 'there', 'therapy', 'theory', 'theoritical', 'theoretical', 'theorem', 'then', 'themometric', 'them', 'their', 'thecodont', 'thechosen', 'theatre', 'the', 'that', 'than', 'thallophyta', 'thallium', 'th', 'tf', 'text', 'tetravalents', 'tetravalent', 'tetravalency', 'tetrathionate', 'tetrathiocyanatocobaltate', 'tetrapolyphosphoric', 'tetranucleated', 'tetrahydrocannabinol', 'tetrahydridoaluminate', 'tetrahedron', 'tetrahedral', 'tetraheadron', 'tetragonal', 'tetrafluorobromate', 'tetrafluoridocobaltate', 'tetracyanothylene', 'tetracyanonickelii', 'tetracyanonickelate', 'tetracyanoaurate', 'tetrachloronickelateii', 'tetrachloronickel', 'tetrachloro', 'tetrachloridoplatinateii', 'tetrachloride', 'tetracarbonylnickelate', 'tetracarbonylnickel', 'tetracarbonylcobaltate', 'tetracarbonylcobalt', 'tetrabromide', 'tetraatomic', 'tetraammineplatinateii', 'tetraamminediaquacobalt', 'tetraamineaquachloridocobalt', 'tete', 'tetany', 'testtube', 'tests', 'testis', 'testing', 'tester', 'tested', 'test', 'tesla', 'tes', 'tertiary', 'tertbutylbromide', 'tertbutyl', 'tertbutanol', 'terpinen', 'termsalso', 'terms24816', 'terms', 'terminating', 'terminal', 'term', 'teritary', 'tergum', 'tequive', 'tenth', 'tent', 'tensor', 'tension', 'tenfold', 'tends', 'tendrils', 'tendril', 'tendency', 'ten', 'temprature', 'temperaure', 'temperaturetime', 'temperatures', 'temperature', 'temp', 'telophase', 'tells', 'televisions', 'telescope', 'teflon', 'teeth', 'technologies', 'techniques', 'tearing', 'tear', 'team', 'teachers', 'teacher', 'teach', 'tea', 'te', 'tdistribution', 'tcos', 'tbutanol', 'tb', 'taylor', 'taxonomy', 'taxonomical', 'taxonomic', 'taxon', 'taxa', 'tax', 'tautomerism', 'tautology', 'taut', 'taub', 'tau', 'taste', 'task', 'tarun', 'tartaric', 'tartarate', 'tarpaulin', 'tarnishing', 'targets', 'target', 'tap', 'tantalum', 'tanning', 'tannic', 'tank', 'tangle', 'tangents', 'tangential', 'tangent', 'tan', 'tallow', 'taller', 'tall', 'taking', 'takes', 'taken', 'take', 'taj', 'tailing', 'tail', 'taht', 'tagc', 'tabular', 'tablewith', 'tablewill', 'tabletop', 'tablethe', 'table', 'ta', 't7', 't52', 't500', 't5', 't4', 't31', 't300', 't3', 't20', 't2', 't1y', 't1c', 't1', 't025', 't0', 'systole', 'systemthe', 'systemic', 'systematics', 'systematic', 'systema', 'system', 'syringe', 'synthetic', 'synthesize', 'synthesised', 'synthesis', 'synthesiged', 'synonymous', 'synonym', 'syngas', 'synergic', 'syndrome', 'synaptic', 'synapsed', 'synapse', 'symptoms', 'symport', 'symplastic', 'symplast', 'symphysis', 'symmetrythen', 'symmetry', 'symmetries', 'symmetric', 'symmeteric', 'symbolic', 'symbol', 'symbiotic', 'sylvius', 'sylvine', 'sx', 'switching', 'switch', 'swingg', 'swimmer', 'swim', 'swell', 'sweets', 'sweetest', 'sweetening', 'sweet', 'sweaters', 'sweat', 'swastik', 'sv', 'sutable', 'sustaining', 'suspensions', 'suspended', 'sushant', 'susceptibility', 'susceptibilities', 'susan', 'survives', 'survived', 'survive', 'surveys', 'surrounds', 'surroundings', 'surrounding', 'surnames', 'surjective', 'surjections', 'surjection', 'surgeon', 'surfactants', 'surfactant', 'surfacing', 'surfaces', 'surface', 'surely', 'sure', 'surds', 'surd', 'suppressed', 'supposed', 'supports', 'supporter', 'supply', 'supplied', 'supplementary', 'supplement', 'suphuric', 'superphosphate', 'superoxides', 'superoxide', 'superman', 'superior', 'superhalogen', 'superconductors', 'superconductivity', 'super', 'sunset', 'sunlightexpalin', 'sunlight', 'sunflower', 'sundays', 'sunbeam', 'sun', 'sums', 'summer', 'summation', 'sum1', 'sum', 'sulphurous', 'sulphurite', 'sulphuric', 'sulphur', 'sulphonic', 'sulphonation', 'sulphonamides', 'sulphite', 'sulphides', 'sulphide', 'sulphates', 'sulphate', 'sulpharyl', 'sulfuric', 'sulfur', 'sulfonate', 'sulfide', 'sulfate', 'sulcus', 'suitable', 'suggested', 'suggest', 'sugden', 'sugars', 'sugarbeet', 'sugar', 'suffix', 'sufficient', 'sucvh', 'sucrose', 'suck', 'suchs', 'succunic', 'succinic', 'succession', 'successful', 'success', 'succeed', 'subunits', 'subunit', 'subtraction', 'subtracting', 'subtracted', 'subtract', 'substrates', 'substrate', 'substraction', 'substract', 'substitutions', 'substitutioneas', 'substitution', 'substituting', 'substitutes', 'substituted', 'substituents', 'substances', 'substance', 'subspecies', 'subsoil', 'subsitution', 'subshells', 'subshell', 'subsets', 'subseteq', 'subseta', 'subset', 'suboxide', 'suborbit', 'submucosa', 'submerged', 'submarines', 'submarine', 'sublime', 'sublimatory', 'sublevels', 'sublevel', 'subjective', 'subgroups', 'suberised', 'subatomic', 'sub', 'sua', 'su', 'styrene', 'studying', 'study', 'studs', 'studied', 'students', 'student', 'stucture', 'structures', 'structure', 'structural', 'strontium', 'strongly', 'strongest', 'stronger', 'strong', 'stroma', 'stroller', 'stroke', 'strips', 'stripes', 'strip', 'strings', 'string', 'strikes', 'striker', 'strike', 'strictly', 'striated', 'striaght', 'stretching', 'stretched', 'stress', 'strengths', 'strengthen', 'strength', 'streamlines', 'streamlined', 'streamline', 'stream', 'straws', 'strawberries', 'straw', 'stratosphere', 'stranger', 'stranded', 'strand', 'straindimensionless', 'strain', 'straight', 'stos', 'storey', 'stored', 'store', 'storages', 'storage', 'stops', 'stopping', 'stool', 'stonger', 'stone', 'stomatal', 'stomata', 'stomach', 'stoma', 'stolen', 'stoichiometric', 'stocky', 'stocks', 'stock', 'sto', 'stipe', 'stinging', 'sting', 'stimulator', 'stimulated', 'stick', 'sth', 'stf', 'stetroisomers', 'sterioisomers', 'sterio', 'sterilizing', 'sterilizes', 'sterilize', 'sterile', 'steric', 'stereoselective', 'stereoisomers', 'stereoisomer', 'stereogenic', 'stereochemistry', 'stereocenters', 'stereo', 'steradians', 'steradian', 'stepup', 'steps', 'step', 'stems', 'stem', 'stelar', 'steel', 'steamer', 'steam', 'steady', 'steadily', 'statoreceptors', 'stator', 'stations', 'stationary', 'station', 'static', 'states', 'staten', 'statements1', 'statements', 'statementll', 'statementii', 'statementi', 'statement2', 'statement1', 'statement', 'state', 'stat', 'starting', 'stars', 'starred', 'stark', 'starfish', 'starch', 'star', 'stapes', 'stannous', 'stannic', 'stands', 'standards', 'standard', 'stand', 'stamp', 'stamens', 'stamen', 'stalor', 'stake', 'stairs', 'staircase', 'stainless', 'staggered', 'stages', 'stage', 'stable', 'stabilized', 'stability', 'stabilise', 'ss', 'srp', 'srightc', 'sright', 'sr', 'squnits', 'squnit', 'squnis', 'squirrels', 'squeeze', 'squaring', 'squaric', 'squares', 'squared', 'square', 'squamata', 'sqrt', 'sqm', 'sqcm', 'sq', 'sprouting', 'sprinkle', 'springs', 'spring', 'spot', 'sportsmen', 'sporophytic', 'sporophyte', 'spores', 'spore', 'sporangiospores', 'spoon', 'spools', 'spool', 'spontaneous', 'sponge', 'spokes', 'spoke', 'spleen', 'spitting', 'spirullina', 'spiro', 'spirit', 'spiracles', 'spins', 'spinning', 'spinner', 'spindle', 'spinal', 'spin', 'spikes', 'spike', 'spieces', 'spider', 'spicy', 'spices', 'sphingolipids', 'sphincter', 'sphigmomanometer', 'spherical', 'spheres', 'sphere', 'sphase', 'sphare', 'sperms', 'spermatophyta', 'sperm', 'speparanationa', 'speedtime', 'speeds', 'speedd', 'speed', 'spectrum', 'spectroscopy', 'spectrograph', 'spectrochemical', 'spectral', 'spectra', 'spectacles', 'specimen', 'specified', 'specificity', 'specificheat', 'specification', 'specific', 'specifed', 'species', 'specialized', 'special', 'speaks', 'speakers', 'speaker', 'speak', 'spathic', 'sparrow', 'sparkless', 'span', 'spaceship', 'spaces', 'space', 'sp3', 'sp', 'southwest', 'southward', 'sources', 'source', 'soup', 'sounds', 'sound', 'soultion', 'sos', 'sorting', 'sorghum', 'sop', 'sons', 'sonorous', 'sonmon', 'song', 'sonar', 'son', 'somu', 'somin', 'sometimes', 'sometime', 'something', 'some', 'somatic', 'solvents', 'solvent', 'solved', 'solve', 'solvay', 'solvated', 'solutions', 'solution', 'solutes', 'solute', 'solutbility', 'solul', 'soluble', 'solubility', 'sols', 'soln', 'solids', 'solidification', 'solider', 'solid', 'solenoids', 'solenoid', 'sold', 'solar', 'sol', 'soils', 'soild', 'soil', 'soid', 'softener', 'soften', 'soft', 'sodium', 'sodalime', 'soda', 'socks', 'society', 'soaps', 'soapmaking', 'soap', 'so', 'snowing', 'snow', 'sno', 'snells', 'sncl', 'snail', 'sn', 'smut', 'smokeless', 'smoke', 'smog', 'smelting', 'smells', 'smell', 'smallest', 'smaller', 'small', 'sm', 'slunit', 'sluminium', 'sludge', 'slowest', 'slower', 'slow', 'sloth', 'slopes', 'slope', 'slogans', 'slits', 'slit', 'slip', 'slime', 'slightly', 'sliding', 'slider', 'slide', 'slice', 'sleft0', 'sleeping', 'sleep', 'slaked', 'slag', 'slab', 'sl', 'sky', 'skipping', 'skin', 'skewsymmetric', 'skewed', 'sketch', 'skeleton', 'skeeter', 'skater', 'skateboard', 'sk1', 'sk', 'sizes', 'sized', 'size', 'sixteenth', 'six', 'situation', 'situated', 'sites', 'site', 'sit', 'sister', 'sisicla', 'sio', 'sinwt', 'sinusoid', 'sinus', 'sinoatrial', 'sink', 'sinh', 'singular', 'sings', 'singly', 'singleton', 'singlet', 'singlephase', 'singlecelled', 'single', 'sines', 'sine', 'since', 'sin', 'simpllify', 'simplifying', 'simplify', 'simplified', 'simplification', 'simplest', 'simpler', 'simple', 'simpify', 'simon', 'similarity', 'similarities', 'similar', 'simeq', 'sim710', 'sim', 'silvered', 'silvercadmium', 'silver', 'sillk', 'silk', 'silicones', 'silicon', 'silicates', 'silica', 'silghtly', 'silent', 'sikkim', 'signify', 'signifies', 'significant', 'significance', 'signals', 'signaling', 'signal', 'sign', 'sigmoid', 'sigmaright', 'sigmaj', 'sigma', 'sightedness', 'sif', 'sieve', 'siemens', 'siemen', 'sidewise', 'sideways', 'sidewalk', 'sides', 'siderite', 'sidelength', 'sided', 'side', 'sicl', 'sickness', 'si', 'shyam', 'shweta', 'shunt', 'shubh', 'shrink', 'shredding', 'shows1', 'showing', 'show', 'shovel', 'shoulder', 'should', 'shots', 'shotput', 'shot', 'shortsightedness', 'shortly', 'shortest', 'shortcut', 'shortcoming', 'short', 'shore', 'shopkeeper', 'shooting', 'shoot', 'shoes', 'shock', 'shobos', 'shm', 'shirts', 'shirt', 'ships', 'ship', 'shiny', 'shining', 'shingles', 'shiney', 'shikha', 'shifts', 'shifted', 'shift', 'shielding', 'shielded', 'shield', 'shelly', 'shells', 'shellac', 'shell', 'shelflength', 'shelf', 'shekar', 'sheilding', 'sheets', 'sheet', 'sheep', 'shedding', 'sheathing', 'sheath', 'shearing', 'she', 'sharpness', 'sharply', 'sharp', 'shark', 'sharing', 'shares', 'shared', 'share', 'shapes', 'shaped', 'shape', 'shampoo', 'shalu', 'shall', 'shakes', 'shafts', 'shaft', 'shadow', 'shaded', 'shade', 'sh', 'sgn', 'sg', 'sf', 'sexual', 'sextet', 'sexes', 'sexdetermination', 'sex', 'sewage', 'seventh', 'seven', 'setup', 'settle', 'sets', 'set', 'sesquioxide', 'sesqui', 'sese', 'services', 'serum', 'serosa', 'series', 'sericulture', 'sericin', 'sere', 'ser', 'sequences', 'sequence', 'septate', 'septafluoride', 'seperation', 'seperate', 'separation', 'separated', 'separate', 'sepals', 'seo', 'sentence', 'sensory', 'sensitivity', 'sensitive', 'senses', 'sense', 'sensation', 'sending', 'semisolid', 'semipermeable', 'seminal', 'semiliquid', 'semifundamental', 'semiderived', 'semicular', 'semiconductors', 'semiconductor', 'semiconducting', 'semicircular', 'semicircle', 'semiabsorbent', 'semi', 'semester', 'selfsufficient', 'selfinductance', 'self', 'selenium', 'selective', 'selections', 'selection', 'selected', 'seld', 'selaginella', 'sekhar', 'seismic', 'segments', 'segment', 'seg', 'seeta', 'seesaw', 'seepage', 'seem', 'seedless', 'seed', 'see', 'sedimentation', 'sedimentary', 'secured', 'sectors', 'sector', 'section', 'secs', 'secretory', 'secretes', 'secreted', 'secrete', 'seconds', 'secondary', 'second', 'secants', 'secant', 'sec', 'seawater', 'seawalnuts', 'seats', 'season', 'sealing', 'sealed', 'seaborgium', 'sea', 'se', 'sdq', 'sdis', 'sd', 'screw', 'screens', 'screening', 'screen', 'screams', 'scream', 'scoring', 'scores', 'scored', 'score', 'scooty', 'scooterist', 'scooter', 'sconfiguration', 'scm', 'sclerenchymatous', 'scientist', 'scientific', 'science', 'schwann', 'schrodinger', 'schools', 'school', 'schemes', 'scheme', 'schematics', 'schematic', 'scharacter', 'scenario', 'scattering', 'scattered', 'scatter', 'scarlet', 'scapula', 'scanner', 'scandium', 'scaler', 'scalene', 'scale', 'scalar', 'scala', 'sc', 'sblock', 'sb', 'saying', 'saw', 'saviour', 'saucer', 'satya', 'saturn', 'saturation', 'saturated', 'satisifying', 'satisfying', 'satisfies', 'satisfied', 'satify', 'satellites', 'satellite', 'saree', 'sara', 'sapwood', 'saprophytes', 'saprophyte', 'saponification', 'santosh', 'sanjana', 'sanitation', 'sania', 'sangle', 'sandmeyer', 'sand', 'samples', 'sample', 'samir', 'sameness', 'same', 'salvinia', 'salute', 'salts', 'saltpetre', 'salt', 'salma', 'saliva', 'salinity', 'salim', 'salient', 'salicyldehyde', 'salicylate', 'sales', 'salary', 'sakshi', 'sailing', 'said', 'safe', 'sacred', 'saccharum', 'saccharide', 'sa', 's554', 's43', 's40', 's4', 's3', 's25', 's2', 's17', 's144', 's12', 's1', 's0', 'rz', 'rydberg', 'rx7', 'rx3', 'rx', 'rwhen', 'rutherford', 'rusts', 'rusting', 'rust', 'russia', 'rupees', 'rupee', 'runs', 'rumen', 'rules', 'ruler', 'rulec', 'rule', 'ruby', 'rubp', 'rubidium', 'rubberexplain', 'rubberband', 'rubber', 'rtriangle', 'rth', 'rt', 'rsultant', 'rst', 'rs96', 'rs6400', 'rs5050', 'rs32000', 'rs30', 'rs250', 'rs150', 'rs1', 'rs', 'rroev', 'rright', 'rr', 'rq', 'rps', 'rpqqrrp', 'rpm', 'rpesour', 'rp', 'rows', 'rowed', 'row', 'routes', 'route', 'roundworm', 'rounds', 'round', 'rotten', 'rotor', 'rotatory', 'rotational', 'rotation', 'rotatingthen', 'rotates', 'rotate', 'rotary', 'rosenmund', 'ropes', 'rope', 'rootsrespire', 'roots', 'root', 'room', 'roof', 'rooe', 'ronly', 'rolls', 'rollowıng', 'rolling', 'rolles', 'roller', 'roll', 'roles', 'role', 'roh', 'rogue', 'rods', 'rod', 'rocksalt', 'rocks', 'rocketpowered', 'rocket', 'rock', 'robert', 'roasting', 'roaster', 'road', 'ro', 'rna', 'rn1', 'rn', 'rms', 'rm', 'rleftn', 'rlc', 'rl', 'rkt7', 'rk', 'rivers', 'river', 'risk', 'rises', 'risen', 'rise', 'ris', 'ripples', 'ripens', 'ripening', 'rio', 'rings', 'ring', 'rinal', 'rims', 'rim', 'rii', 'rigidity', 'rigid', 'rightleftharpoons', 'rightend', 'rightarrowv', 'rightarrowtext', 'rightarrowsim', 'rightarrowp', 'rightarrown2', 'rightarrown1', 'rightarrowleftn', 'rightarrowleftc', 'rightarrowinfty', 'rightarrowi', 'rightarrowa', 'rightarrow44', 'rightarrow2', 'rightarrow1', 'rightarrow', 'right', 'rifle', 'ridge', 'rider', 'ride', 'rickettsiae', 'rickets', 'richmond', 'richer', 'richardson', 'rich', 'rice', 'ribulose', 'ribs', 'ribosomes', 'ribosome', 'ribosomal', 'ribonucleic', 'riboflavin', 'ribbon', 'rib', 'ri', 'rhve', 'rhor', 'rhoq2', 'rhombuses', 'rhombus', 'rhombic', 'rhodium', 'rho', 'rhizopus', 'rhizome', 'rheostat', 'rhd', 'rh', 'rewrite', 'revolution', 'reversible', 'reverse', 'reverberations', 'reverberation', 'revenue', 'rev', 'return', 'retraced', 'retort', 'retina', 'reticulate', 'retentivity', 'rete', 'retardation', 'retain', 'results', 'resultant', 'result', 'rests', 'restoring', 'restitution', 'rest', 'responsible', 'response', 'respiratory', 'respiration', 'respectivelygive', 'respectivelyfind', 'respectively', 'respectivelu', 'respectivel', 'respect', 'resources', 'resource', 'resorcinol', 'resonating', 'resonant', 'resonance', 'resolving', 'resolvable', 'resistors', 'resistor', 'resistivity', 'resistive', 'resistane', 'resistances', 'resistance', 'resist', 'resin', 'resilience', 'residue', 'resides', 'reshma', 'reservoir', 'reserved', 'reserve', 'resembling', 'resembles', 'resemblance', 'research', 'requires', 'requirements', 'requirement', 'required', 'require', 'repulsive', 'repulsion', 'reptiles', 'reptile', 'reproductive', 'reproduction', 'represents', 'representing', 'represented', 'representative', 'representation', 'represent', 'repositioning', 'reported', 'report', 'reply', 'replication', 'replaces', 'replacement', 'replaceable', 'replace', 'repetition', 'repersented', 'repelled', 'repellant', 'repel', 'repeats', 'repeating', 'repairers', 'repaired', 'reoccur', 'renin', 'renewable', 'renal', 'removing', 'removes', 'removed', 'remove', 'removal', 'remoulded', 'reminders', 'reminder', 'remarkable', 'remains', 'remainder', 'reliable', 'releave', 'releasing', 'releases', 'released', 'release', 'relaxes', 'relax', 'relatively', 'relative', 'relationships', 'relationship', 'relations', 'relation', 'related', 'rejector', 'rejected', 'reimertiemann', 'rehana', 'regulators', 'regulator', 'regulation', 'regulates', 'regular', 'regression', 'registers', 'regions', 'region', 'regiomers', 'regia', 'regents', 'regeneration', 'regarded', 'regained', 'refrigerator', 'refrigerating', 'refrigerants', 'refrigerant', 'refrigent', 'refractive', 'refraction', 'refracting', 'refracted', 'reflexive', 'reflex', 'reflects', 'reflectivity', 'reflection', 'reflecting', 'reflected', 'reflectance', 'refining', 'refined', 'refine', 'reference', 'refer', 'ref', 'reena', 'reel', 'reefs', 'reductive', 'reductional', 'reduction', 'reductant', 'reducing', 'reduces', 'reduced', 'reduce', 'redtides', 'redox', 'redistributed', 'rediscovered', 'redhot', 'reddishbrown', 'reddish', 'red', 'recycling', 'recycled', 'rectums', 'rectilinear', 'rectifier', 'rectified', 'rectification', 'rectangular', 'rectangles', 'rectangle', 'recorded', 'record', 'recognize', 'reciprocals', 'reciprocal', 'recharging', 'recharged', 'receptors', 'receptor', 'reception', 'reavrsible', 'reasons', 'reasonably', 'reason', 'rease', 'reap', 'realm', 'real', 'reagent', 'reads', 'readings', 'reading', 'readily', 'read', 'reacts', 'reactor', 'reactivity', 'reactive', 'reactions', 'reactionif', 'reaction', 'reacting', 'reacted', 'reactants', 'reactant', 'reactane', 'reactance', 'react', 'reacrions', 'reaches', 'reached', 'reach', 'reabsorption', 're', 'rdelta', 'rd', 'rcos', 'rch', 'rc', 'rbcs', 'rbc', 'rb', 'raysc', 'raysb', 'rays', 'rayon', 'ray', 'ravi', 'ratios', 'rationals', 'rationalise', 'rational', 'rationa', 'ration', 'ratio', 'rating', 'rates', 'rate', 'rat', 'rarely', 'rarefaction', 'rare', 'rapidity', 'rapid', 'raphides', 'raoult', 'rantidine', 'rantadine', 'ranks', 'ranked', 'rank', 'rangle', 'ranging', 'ranges', 'range', 'raney', 'random', 'rancidity', 'ramu', 'ramp', 'ramesh', 'raman', 'ram', 'ralambda', 'rajkumar', 'raja', 'raises', 'raised', 'rainwater', 'rains', 'raining', 'rainforests', 'rainfall', 'raindrop', 'rainbow', 'rain', 'rails', 'rads', 'radon', 'radius', 'radios', 'radioisotope', 'radiocarbon', 'radioactivity', 'radioactive', 'radio', 'radiiis', 'radii', 'radicals', 'radical', 'radiations', 'radiation', 'radiatic', 'radiate', 'radiant', 'radians', 'radian', 'radially', 'radial', 'radha', 'radars', 'rad', 'raction', 'racket', 'racing', 'racharging', 'racemose', 'racemic', 'racemates', 'race', 'rabbit', 'rab', 'ra', 'r7', 'r6right', 'r60', 'r51', 'r5', 'r48', 'r40', 'r4', 'r32', 'r30', 'r3', 'r2chlorobutane', 'r25', 'r2', 'r125', 'r12', 'r11', 'r100', 'r1', 'r04', 'r0', 'qxx3', 'qx', 'qw', 'quotient', 'quinoline', 'quinhydrone', 'quinaine', 'quiescent', 'quick', 'questions', 'questio', 'quest', 'quess', 'queen', 'qudratic', 'quation', 'quater', 'quartz', 'quarter', 'quark', 'quardrant', 'quantum', 'quantization', 'quantity', 'quantities', 'quantitatively', 'quantised', 'quantifier', 'quandrant', 'quality', 'qualitative', 'qualify', 'quake', 'quadtext', 'quadrupole', 'quadrilaterals', 'quadrilateral', 'quadratics', 'quadratic', 'quadrants', 'quadrant', 'quadquad', 'quad', 'qs', 'qrightleftp', 'qright', 'qr7', 'qr', 'qq', 'qpq', 'qp', 'qoppr', 'qglyoxylate', 'qe', 'qdots', 'qdelta', 'qd', 'qc', 'qb', 'qangle', 'qa', 'q8', 'q60', 'q6', 'q50', 'q5', 'q4', 'q34', 'q32', 'q26', 'q240', 'q211', 'q200', 'q2', 'q18', 'q124', 'q123', 'q10', 'q1', 'q05', 'q00', 'q0', 'pz10', 'pythagorean', 'pythagoras', 'pythagoran', 'pyruvic', 'pyruvate', 'pyrrole', 'pyrosulphuricacid', 'pyrosulphuric', 'pyrophosphorous', 'pyrophosphoric', 'pyrometer', 'pyrole', 'pyrogallol', 'pyrites', 'pyrite', 'pyrimidines', 'pyridinium', 'pyridine', 'pyrex', 'pyrenoids', 'pyrene', 'pyrazole', 'pyramidal', 'pyramid', 'pxy', 'pxx3', 'pxx', 'pxpi', 'px7', 'px6', 'px5', 'px3', 'px25', 'px2', 'px1', 'px0', 'px', 'pvc', 'pv', 'putting', 'putrefaction', 'put', 'pushing', 'pushed', 'push', 'purses', 'purse', 'purpose', 'purple', 'purnima', 'purity', 'purines', 'purine', 'purifier', 'purified', 'purification', 'purest', 'purely', 'pureform', 'pure', 'pupils', 'pupil', 'pumped', 'pump', 'pulses', 'pulse', 'pulsating', 'pulp', 'pulmonary', 'pulling', 'pulley', 'pull', 'puffball', 'public', 'pubis', 'puberty', 'pu', 'ptyxis', 'ptype', 'ptoludine', 'pth', 'ptext', 'pteridophytes', 'pteridophyta', 'pt', 'psuedo', 'psubshell', 'psiiqr', 'psii', 'pside', 'psi', 'pseudounimolecular', 'pseudoparenchyma', 'pseudohalogen', 'pseudohalidepolyhalide', 'pseudofirst', 'pseudocoelom', 'pseudo', 'ps', 'prussian', 'pructur', 'prpqr', 'prowling', 'provisions', 'providing', 'provide', 'proves', 'proved', 'prove', 'protractor', 'protozoa', 'protons', 'proton', 'protobiont', 'protium', 'protists', 'protista', 'protist', 'prothallial', 'proteins', 'protein', 'protector', 'protective', 'protection', 'protected', 'protect', 'prosthetic', 'prosper', 'propyne', 'propylehex', 'propulsion', 'propto', 'propoxypropane', 'propotional', 'proposed', 'proportions', 'proportionate', 'proportionality', 'proportional', 'proportion', 'propogation', 'prophase', 'propertyies', 'property', 'properties', 'propertie', 'proper', 'propene', 'propeller', 'propellants', 'propellant', 'propanone', 'propanol', 'propanoic', 'propanoate', 'propane1', 'propane', 'propan3ol', 'propan2ol', 'propan1ol', 'propan', 'propagation', 'propagating', 'propagates', 'propagate', 'prop', 'pronuclei', 'promotes', 'promium', 'prominent', 'prominence', 'prolonged', 'prolong', 'prokaryotic', 'prokaryotes', 'projection', 'projectile', 'project', 'prohibited', 'progressively', 'progressions', 'progression', 'progress', 'programme', 'progesterone', 'profit', 'proficient', 'products', 'production', 'producted', 'product', 'producl', 'producing', 'produces', 'producers', 'producer', 'produced', 'produce', 'processes', 'process', 'proceed', 'procedures', 'procedure', 'procaryotes', 'procambium', 'probosics', 'problems', 'problem', 'probable', 'probability', 'probabilities', 'proauct', 'prizes', 'prisms', 'prismatic', 'prism', 'printer', 'print', 'principles', 'principle', 'principals', 'principally', 'principal', 'primordial', 'primordia', 'prime', 'primates', 'primata', 'primary', 'pright', 'price', 'prho', 'previous', 'preventing', 'prevented', 'pressurevolume', 'pressures', 'pressure', 'press', 'preservatives', 'preservative', 'preservation', 'presents', 'presenting', 'presenta', 'present', 'presence', 'prescribed', 'presbyopia', 'prepenultimate', 'prepared', 'preparatory', 'preparation', 'premittivity', 'premature', 'prefix', 'preferred', 'preferentially', 'preferential', 'preferably', 'predominate', 'predominantly', 'predominantely', 'predicted', 'predictable', 'predict', 'precision', 'precise', 'precipite', 'precipitation', 'precipitated', 'precipitate', 'preceeds', 'precautions', 'pradesh', 'practical', 'pr', 'pqt', 'pqrs', 'pqrb', 'pqr', 'pqqp', 'pqpq', 'pqn', 'pqm', 'pq2', 'pq1', 'pq0', 'pq', 'ppt', 'ppq', 'pppp', 'ppn', 'ppm', 'pplo', 'ppb', 'pp', 'poynting', 'poyethylene', 'powers', 'powerful', 'power', 'powdering', 'powdered', 'powder', 'pour', 'pounds', 'pound', 'potentionmeter', 'potentiometer', 'potentio', 'potentimeter', 'potentiate', 'potential', 'potentia', 'potatoes', 'potato', 'potassiumtetracyanonickel0', 'potassiumi', 'potassiumhexacyanoferrateiii', 'potassium', 'pot', 'postulates', 'postulate', 'postmitotic', 'postive', 'postfertilization', 'post', 'possibly', 'possible', 'possibl', 'possesses', 'possess', 'posses', 'positrons', 'positron', 'positively', 'positive', 'positionvelocity', 'position1', 'position', 'portland', 'portion', 'portal', 'porportional', 'porous', 'porifera', 'pores', 'porcelain', 'porbital', 'poq', 'population', 'populated', 'poor', 'pool', 'ponds', 'pond', 'polyvinyl', 'polyuria', 'polythionic', 'polythene', 'polystyrene', 'polyster', 'polysomes', 'polysaccharides', 'polysaccharide', 'polypropylrnr', 'polypropylene', 'polyphosphates', 'polypeptide', 'polynucleotides', 'polynuclear', 'polynomials', 'polynomial', 'polynomars', 'polymorphs', 'polymorphic', 'polymorph', 'polymers', 'polymerization', 'polymerised', 'polymerisation', 'polymeric', 'polymerase', 'polymer', 'polyisobutene', 'polyhydroxy', 'polygons', 'polygon', 'polyethylene', 'polyethene', 'polyester', 'polydipsia', 'polychlorinated', 'polycarpic', 'polybutadiene', 'polyatomic', 'polyacrylate', 'polyacetylene', 'poly', 'polonium', 'pollution', 'polluting', 'pollutes', 'polluted', 'pollutants', 'pollutant', 'pollination', 'pollinated', 'pollen', 'polishing', 'polished', 'polish', 'poling', 'police', 'poles', 'pole', 'polaroids', 'polaroid', 'polarizer', 'polarized', 'polarization', 'polarity', 'polarities', 'polarising', 'polarisers', 'polarised', 'polarisation', 'polarisability', 'polar', 'poisson', 'poisonous', 'poisoning', 'poise', 'points', 'pointed', 'point', 'poikilothermic', 'poh', 'podomeres', 'pod', 'po', 'pnp', 'pnn', 'pnjunction', 'pnicogens', 'pneumatophore', 'pn', 'pmma', 'pmethylchlorobenzene', 'pmethylbenzaldehyde', 'pm43', 'pm', 'plywood', 'plutonium', 'plurals', 'plunger', 'plumule', 'plumbosolvency', 'plugs', 'plots', 'ploted', 'plot', 'ploidy', 'pleural', 'pleftm', 'pleftb', 'plefta', 'pleated', 'pleasing', 'pleasant', 'players', 'player', 'played', 'play', 'platyhelminthes', 'platinumiichloride', 'platinum', 'plating', 'platinateii', 'platform', 'plates', 'platelets', 'platelet', 'plated', 'plate', 'plastids', 'plasticç', 'plastics', 'plasticity', 'plastic', 'plaster', 'plasmogamy', 'plasmalemma', 'plasma', 'plants', 'plantarum', 'plant', 'plano', 'planner', 'planktons', 'planks', 'plank', 'planets', 'planetrary', 'planet', 'planes', 'plane', 'planck', 'planar', 'places', 'placentation', 'place', 'pkb', 'pk', 'pizza', 'piy', 'pix', 'pituitary', 'pithecanthropus', 'pith', 'pitcher', 'pitched', 'pitch', 'pit', 'pisum', 'pistons', 'piston', 'pistol', 'pisces', 'piright', 'pipette', 'pipes', 'piperidine', 'piperazine', 'pipe', 'pip', 'pinus', 'pinter', 'pinnate', 'pinnae', 'pink', 'pin', 'piln', 'pills', 'pillows', 'pillow', 'pillars', 'pill', 'pileft9', 'pile', 'pigments', 'pigmented', 'pigment', 'pig', 'pierce', 'pieces', 'piece', 'pie', 'pidgeon', 'pid', 'picture', 'pictography', 'picric', 'picos', 'pico', 'picking', 'pic', 'pibond', 'piba', 'piax0', 'pi9', 'pi4', 'pi340', 'pi32', 'pi314', 'pi3', 'pi24', 'pi22', 'pi2', 'pi10', 'pi1', 'pi', 'phytoplankton', 'phytochrome', 'phytochemical', 'physisorption', 'physiology', 'physiological', 'physics', 'physicist', 'physical', 'phylumm', 'phylum', 'phylogeny', 'phyllotaxy', 'phyllotaxis', 'phylloclades', 'phycoerythrin', 'phthalimide', 'phthalic', 'phrases', 'phototropism', 'photosystem', 'photosynthetic', 'photosynthesizers', 'photosynthesis', 'photorespiratory', 'photorespiration', 'photophosphorylation', 'photooxidation', 'photon', 'photolytic', 'photography', 'photoelectrons', 'photoelectron', 'photoelectric', 'photodiodes', 'photodiode', 'photodecomposition', 'photocurrent', 'photocathode', 'photoautotrophs', 'photo', 'phosphorylation', 'phosphorylate', 'phosphorylase', 'phosphorus', 'phosphorous', 'phosphoric', 'phospholipid', 'phosphoglycolate', 'phosphodiester', 'phosphites', 'phosphine', 'phosphide', 'phosphates', 'phosphate', 'phoshorus', 'phosgene', 'phones', 'phloem', 'phixx', 'phix', 'phisin', 'philosopher', 'phie', 'phia', 'phi3', 'phi', 'phenylacetic', 'phenyl1propyne', 'phenyl', 'phenotypes', 'phenomenon', 'phenomena', 'phenolwater', 'phenols', 'phenolpthalein', 'phenol', 'phenacetin', 'phellogen', 'phelloderm', 'phellem', 'phbv', 'phasewhat', 'phases', 'phase', 'phanerogams', 'phagocytosis', 'ph', 'pgaa', 'pg', 'pf5', 'pf1', 'pf', 'petroleum', 'petrol', 'petioles', 'petals', 'pesticides', 'perxenate', 'pertitanic', 'persulphide', 'persons', 'person', 'persistence', 'perpex', 'perpendiculars', 'perpendicular', 'perp', 'peroxymonosulfuric', 'peroxydisulphate', 'peroxy', 'peroxonitrous', 'peroxomonosulphuric', 'peroxodisulphuric', 'peroxoacids', 'peroxo', 'peroxisomes', 'peroxisome', 'peroxides', 'peroxide', 'permutit', 'permittivity', 'permitivity', 'permissible', 'permease', 'permeable', 'permeability', 'permanganate', 'permanently', 'permanent', 'peritoneum', 'periods', 'periodicity', 'periodically', 'periodic', 'periodatomic', 'period3', 'period', 'perimeter', 'periderm', 'pericardium', 'pericardial', 'peric', 'perianth', 'perhydrol', 'perfume', 'performance', 'perform', 'perfectly', 'perfect', 'percolation', 'percents', 'percentille', 'percentiles', 'percentile', 'percentages', 'percentage', 'percent', 'per', 'pepup', 'peptization', 'peptisation', 'peptide', 'pependicular', 'pep', 'people', 'pentyne', 'pentavalent', 'pentavalency', 'pentapolysaccharide', 'pentanone', 'pentanol', 'pentanedione', 'pentane', 'pentanal', 'pentan1ol', 'pentan', 'pentamine', 'pentamerous', 'pentahedral', 'pentahalides', 'pentagon', 'pentafluorides', 'pentafluoride', 'pentachloride', 'pentaaqua', 'pentaammine', 'pentaacetate', 'pent3yne', 'pens', 'penny', 'pennsylvania', 'pennies', 'penicillin', 'penetrating', 'pendulums', 'pendulum', 'pencils', 'pencil', 'pelvic', 'pellets', 'pelectrons', 'pelectron', 'peel', 'pedicle', 'pedal', 'peculiar', 'pectoral', 'pectin', 'pectate', 'pearl', 'peak', 'peacock', 'pea', 'pe1', 'pe005', 'pe0', 'pe', 'pdirecting', 'pdichlorobenzene', 'pdi', 'pd', 'pcresol', 'pcls', 'pcl', 'pci', 'pchlorophenol', 'pc', 'pbso', 'pbs', 'pbromophenol', 'pbo', 'pbn', 'pb', 'pauling', 'pattern', 'patient', 'pathways', 'pathway', 'paths', 'pathogen', 'pathak', 'path', 'paternal', 'passivity', 'passive', 'passing', 'passes', 'passage', 'pass', 'pases', 'paschen', 'pascal', 'parts', 'partly', 'partitions', 'partition', 'particular', 'particles', 'particle', 'participates', 'participate', 'partially', 'partial', 'parthenogenetic', 'part', 'parsec', 'parking', 'park', 'paris', 'parents', 'parental', 'parent', 'parenchyma', 'parathormone', 'parasite', 'parasexuality', 'paramagnetism', 'paramagnetics', 'paramagnetic', 'paramaecium', 'parallelopiped', 'parallelogramif', 'parallelogram', 'parallelepiped', 'parallel', 'parallax', 'paraldehyde', 'paraffins', 'paraffin', 'parachute', 'parabolas', 'parabola', 'pappilionaceae', 'papillary', 'papilionaceous', 'paper', 'papbpa', 'papb', 'pants', 'panthera', 'pans', 'paneth', 'panel', 'pand', 'pancreaswrite', 'pan', 'palmitate', 'palmella', 'palm', 'pallavi', 'palladium', 'palindromic', 'pale', 'paise', 'paisa', 'pairs', 'pairing', 'pair', 'painted', 'paint', 'pain', 'paid', 'pahs', 'pages', 'page', 'pad', 'packing', 'packet', 'packaging', 'pack', 'pacific', 'pa', 'p8right', 'p8', 'p70', 'p7', 'p68', 'p60', 'p6', 'p58', 'p53', 'p52', 'p5', 'p48', 'p46', 'p45', 'p40', 'p3p3pp815', 'p3p3', 'p3711', 'p3512', 'p2p4', 'p2a', 'p230', 'p22', 'p21', 'p20right', 'p20', 'p2', 'p124', 'p12', 'p112', 'p10', 'p1', 'p05', 'p00030', 'ozonolysis', 'ozonide', 'ozone', 'oz42', 'oz', 'oy', 'oxylene', 'oxyhb', 'oxyhaemoglobin', 'oxygenrich', 'oxygenpoor', 'oxygenoxygen', 'oxygenic', 'oxygenhemoglobin', 'oxygenhaemoglobin', 'oxygenated', 'oxygen', 'oxychloride', 'oxyanions', 'oxyacids', 'oxyacid', 'oxy', 'oxopentanoic', 'oxopentan', 'oxoanions', 'oxoanion', 'oxoacids', 'oxoacid', 'oxo', 'oximes', 'oxime', 'oxidizing', 'oxidizes', 'oxidized', 'oxidize', 'oxidising', 'oxidises', 'oxidised', 'oxidise', 'oxides', 'oxide', 'oxidative', 'oxidationreduction', 'oxidation', 'oxidant', 'oxalic', 'oxalate', 'ox', 'own', 'owl', 'ovulation', 'overtone', 'overtaking', 'overstretching', 'oversecretion', 'overproduction', 'overlapping', 'overlapped', 'overlap', 'overall', 'overal', 'over', 'oven', 'ovary', 'ovaries', 'ova', 'ov', 'outwards', 'outside', 'output', 'outgrowth', 'outermost', 'outcomes', 'outcome', 'out', 'our', 'ounces', 'otimes', 'others', 'other', 'ossification', 'ossicles', 'osmotic', 'osmosis', 'osmoregulation', 'osmium', 'oscillatory', 'oscillator', 'oscillations', 'oscillation', 'oscillating', 'osa', 'os', 'orthosilicic', 'orthorhombic', 'orthophosphorus', 'orthophosphorous', 'orthophosphoric', 'orthogonally', 'orthogonal', 'orthocenter', 'orthoboric', 'ortho', 'ort', 'orlon', 'originated', 'originate', 'original', 'origin', 'oright', 'orifice', 'oriented', 'orientations', 'orientation', 'organs', 'organometallic', 'organisms', 'organism', 'organisations', 'organisation', 'organic', 'organelles', 'organelle', 'organ', 'ores', 'ore', 'ordinate', 'ordinary', 'orders', 'ordered', 'order', 'ord', 'orchard', 'orbtials', 'orbitt', 'orbits', 'orbiting', 'orbitals', 'orbital', 'orbit', 'oranges', 'orange', 'or', 'optoelectronic', 'options', 'option', 'optima', 'optically', 'optical', 'optic', 'opted', 'opposite', 'opposes', 'opp', 'opo', 'oplus', 'operon', 'operatorname', 'operations', 'operation', 'operates', 'operated', 'openings', 'opened', 'open', 'op', 'ootheca', 'oo', 'onwo', 'ontohence', 'onto', 'onset', 'ons', 'ono', 'onm', 'only', 'onitro', 'onequarter', 'oneone', 'onehundredths', 'onefourths', 'onefourth', 'one', 'ond', 'oncewhat', 'once', 'on', 'ominus', 'omethylchlorobenzene', 'omethylaniline', 'omegatext', 'omegaa', 'omega2', 'omega1', 'omega', 'om', 'olympiad', 'olumn', 'olright28411', 'oleum', 'oleftn', 'old', 'ol4', 'ol', 'ok', 'oint', 'oilseeds', 'oils', 'oil', 'oi', 'ohms', 'ohmic', 'ohm', 'oh', 'ogc', 'ogb', 'og', 'ofthese', 'offspring', 'office', 'offered', 'offer', 'ofcurrent', 'of', 'oesophagus', 'oersted', 'oelum', 'oe', 'odour', 'odot', 'odor', 'odds', 'odd', 'od', 'octet', 'octaves', 'octave', 'octate', 'octants', 'octant', 'octane', 'octahedron', 'octahedral', 'octagon', 'octaatomic', 'oct', 'ocresol', 'oceansany', 'oceans', 'ocean', 'occurs', 'occurring', 'occurrence', 'occurred', 'occured', 'occur', 'occupy', 'occupies', 'occupied', 'occupational', 'occupation', 'oc', 'obtuseangled', 'obtuse', 'obtaining', 'obtained', 'obtain', 'obstuse', 'obstacle', 'observer', 'observed', 'observe', 'observatory', 'observations', 'observation', 'observable', 'obligatory', 'objects', 'objectivesany', 'objective', 'object', 'obeys', 'obeyed', 'obesity', 'ob', 'oa', 'o8', 'o5', 'o4', 'o3', 'o2is', 'o2', 'nz', 'nymbers', 'nylon2nylon6', 'nylon2nylon', 'nylon', 'ny', 'nxi52', 'nutrition', 'nutrients', 'nutrient', 'nutral', 'nut', 'nurturing', 'nurtures', 'numerous', 'numerically', 'numeric', 'numerators', 'numerator', 'numberz', 'numbers', 'numberof', 'numbering', 'number', 'nullify', 'null', 'nuj', 'nuetral', 'nuclide', 'nucleus', 'nucleotides', 'nucleotide', 'nucleosomes', 'nucleosome', 'nucleoside', 'nucleophilicity', 'nucleophilicities', 'nucleophilic', 'nucleophiles', 'nucleophile', 'nucleon', 'nucleic', 'nuclei', 'nucleated', 'nuclear', 'nu', 'ntype', 'ntp', 'nth', 'ntensities', 'ntegrate', 'nt', 'nss', 'nsin', 'nside', 'nsec', 'ns13', 'ns', 'nright', 'nr1', 'nr', 'nq', 'npv', 'npentane', 'np', 'nowhere', 'novolac', 'novestrol', 'notochord', 'noting', 'notin', 'notes', 'noted', 'note', 'notation', 'notangle', 'not', 'northwest', 'northsouth', 'northeast', 'north', 'normally', 'normalized', 'normality', 'normal', 'nora', 'noof', 'nonzero', 'nonwobbly', 'nonvolatile', 'nonviable', 'nonvertical', 'nonuniformly', 'nonuniform', 'nontransferable', 'nontoxic', 'nonterminating', 'nonstoichiometric', 'nonstick', 'nonstereospecific', 'nonspherical', 'nonsingular', 'nonsimilar', 'nonresolvable', 'nonrepeating', 'nonreal', 'nonreacting', 'nonprimes', 'nonpolar', 'nonplanar', 'nonparallel', 'nonmultidirectional', 'nonmotile', 'nonmetals', 'nonmetallic', 'nonmetal', 'nonmatter', 'nonluminous', 'nonlinear', 'nonlanthanoid', 'nonionic', 'nonintersecting', 'noninflammable', 'nonideal', 'nonhorizontal', 'nonhistone', 'nonexistent', 'nonexhaustible', 'nonessential', 'noneofthese', 'nonelectrolytes', 'nonelectrolyte', 'nondirectional', 'nondifferentiable', 'noncross', 'nonconventional', 'noncongruent', 'nonconductors', 'noncombustible', 'nonbonding', 'nonaromatic', 'non', 'nomenclature', 'nof', 'nodules', 'nodulated', 'nodes', 'node', 'nodal', 'nocturnal', 'noble', 'nobel', 'no64', 'no', 'nndimethyl', 'nn1n2n3', 'nn1n2', 'nn12', 'nn1', 'nn', 'nmpq', 'nmethylpropan2amine', 'nm3', 'nm1n1', 'nm', 'nlog', 'nlefts', 'nleftn', 'nleftc', 'nleft2', 'nk', 'njunction', 'nitya', 'nitrous', 'nitrotoluene', 'nitrosonium', 'nitropropane', 'nitrophenol', 'nitromethane', 'nitrolium', 'nitrolic', 'nitrogenous', 'nitrogennitrogen', 'nitrogenase', 'nitrogen', 'nitrobenzoic', 'nitrobenzene', 'nitroaniline', 'nitroalkanes', 'nitro', 'nitritonpentamminecobalt', 'nitrito', 'nitrite', 'nitride', 'nitric', 'nitration', 'nitrates', 'nitrate', 'nitramide', 'nitogen', 'nitesh', 'nisha', 'nirenberg', 'ninth', 'nine', 'nights', 'night', 'nicotinamide', 'nicket', 'nickel', 'nichrome', 'nicd', 'ni2', 'ni', 'nheptane', 'nhe', 'nh', 'ngiven', 'nfactor', 'nf3', 'nf', 'next', 'newtons', 'newtonif', 'newton', 'newspapers', 'news', 'newly', 'newlands', 'newland', 'newborn', 'new', 'never', 'neutrophils', 'neutrophil', 'neutrons', 'neutronless', 'neutron', 'neutralize', 'neutralised', 'neutralisation', 'neutral', 'neurons', 'neuron', 'neuromyogenic', 'neuroglial', 'neural', 'networks', 'network', 'nettle', 'nets', 'nethylphthalimide', 'nether', 'net', 'nervous', 'nerves', 'nerve', 'nereast', 'neq', 'neptune', 'nephrons', 'nephron', 'nephrolepis', 'nephridia', 'neoprene', 'neon', 'neohydrocarbons', 'nematodes', 'nematocysts', 'nelson', 'nektons', 'neha', 'negetive', 'negatively', 'negative', 'negation', 'negate', 'needs', 'needle', 'need', 'nector', 'necessity', 'necessary', 'necessarily', 'nebula', 'neat', 'nearly', 'nearest', 'nearer', 'nearby', 'near', 'neanderthals', 'ne', 'ndimethyl', 'nd', 'ncl', 'ncc', 'nc', 'nbutane', 'nbs', 'nb8', 'nb6', 'nb5', 'nb', 'nax', 'navigation', 'nature', 'naturally', 'natural', 'naturae', 'natriuretic', 'native', 'national', 'nat', 'nascent', 'narcotic', 'naphthelene', 'naphthalene', 'naohwhat', 'naohaq', 'naoh', 'naocl', 'nanosecond', 'nanometer', 'nano', 'nanh', 'nangle', 'nand', 'nanc', 'nanbnab', 'nanbm', 'nan', 'namre', 'names', 'name', 'nam', 'nal', 'nails', 'nail', 'nahso', 'nahco', 'nah', 'naf', 'nadph', 'nadh', 'nad', 'nacı', 'nacs', 'nacns', 'nacn', 'naclo', 'nacl', 'naci', 'nabr', 'nabla', 'nabh', 'nab', 'na7', 'na43', 'na4', 'na1', 'na', 'n9', 'n8', 'n7', 'n67', 'n5', 'n49', 'n413', 'n4', 'n32', 'n312', 'n3', 'n2n', 'n23', 'n211', 'n205', 'n20', 'n2', 'n1d', 'n18', 'n16', 'n14', 'n13', 'n1234', 'n123', 'n12', 'n10', 'n1', 'n0pm', 'n001', 'n0', 'mz', 'myopia', 'myoglobin', 'myofilaments', 'myelin', 'mycoplasma', 'mycelium', 'mx', 'mv', 'muzzle', 'muv', 'mutually', 'mutual', 'mutation', 'mustard', 'must', 'mushroom', 'museum', 'muscularis', 'muscles', 'muscle', 'musa', 'murugan', 'mur', 'mumps', 'multiplying', 'multiply', 'multiplied', 'multiplicative', 'multiplications', 'multiplication', 'multiplicate', 'multiples', 'multiple', 'multicostate', 'multicellular', 'mud', 'mucus', 'mucosa', 'mucopolysaccharide', 'muc', 'mu1', 'mu08', 'mu', 'mtp', 'mt', 'ms', 'mrna', 'mright', 'mr', 'mph', 'mp', 'moving', 'movies', 'moves', 'movements', 'movement', 'moved', 'move', 'mouse', 'moult', 'moulds', 'mould', 'motors', 'motorist', 'motorcyclist', 'motorcycles', 'motorcycle', 'motor', 'motional', 'motion', 'motile', 'moth', 'mot', 'mostmaximum', 'mostly', 'most', 'moss', 'mosley', 'mosaic', 'morphology', 'morning', 'more', 'moon', 'mood', 'months', 'monthly', 'monsoon', 'monoxide', 'monotonically', 'monothiocarbonate', 'monosulphuric', 'monosaccharides', 'monosaccharide', 'monorial', 'monophyodont', 'monooxide', 'monomial', 'monomers', 'monomer', 'monohydric', 'monohalo', 'monoecious', 'monodentate', 'monocytes', 'monocots', 'monocot', 'monoclinic', 'monochromatic', 'monochloroethane', 'monochloro', 'monochlorides', 'monochloriation', 'monocarpic', 'monocarboxylic', 'monobromodichloro', 'monobromo', 'monobromination', 'monobasic', 'monoatomic', 'mono', 'monkey', 'money', 'moneran', 'monds', 'mondays', 'mond', 'monatomic', 'mometum', 'momentums', 'momentum', 'moments', 'momenta', 'moment', 'molybdenum', 'molten', 'mols', 'mollitre', 'mollit', 'moll', 'molkg', 'molk', 'molina', 'moles', 'molecules', 'molecule', 'molecularity', 'molecular', 'molecul', 'mole', 'molds', 'molars', 'molarity', 'molar', 'molality', 'molal', 'mol', 'moist', 'mohan', 'moeba', 'modulus', 'modulii', 'modules', 'module', 'modulas', 'modified', 'modifications', 'modification', 'modes', 'modern', 'moderators', 'moderator', 'moderate', 'model', 'mode', 'mobit', 'mobility', 'mobilities', 'mo', 'mnu', 'mnp', 'mno', 'mnin', 'mn', 'mmol', 'mmhg', 'mmethylchlorobenzene', 'mm', 'mleftc', 'mlefta', 'ml', 'mks', 'mkg', 'mk', 'mj', 'mixtures', 'mixture', 'mixotrophic', 'mixing', 'mixed', 'mix', 'mitotic', 'mitosiss', 'mitosis', 'mitochondrion', 'mitochondrial', 'mitochondria', 'mitiosis', 'mississippi', 'missing', 'missile', 'misomer', 'miscible', 'mischmetal', 'misch', 'miscelles', 'mirrors', 'mirror', 'mirage', 'minutes', 'minutefind', 'minute', 'minus', 'mins', 'ministers', 'minimum', 'minimize', 'minimised', 'minerals', 'mineralocorticoid', 'mineralisation', 'mineral', 'mind', 'min', 'millisecond', 'million', 'millimoles', 'millimetre', 'millimeters', 'millihenry', 'millibar', 'milli', 'millets', 'milky', 'milkiness', 'milk', 'mile', 'migration', 'midpoints', 'midpoint', 'midinfty', 'midgut', 'middleman', 'middle', 'midair', 'mid5', 'mid47', 'mid2', 'mid', 'microwaves', 'microtubules', 'microscopes', 'microscope', 'microorganisms', 'micronutrients', 'micronutrient', 'micron', 'microgram', 'microfarads', 'microelements', 'microcoulombs', 'microcoulomb', 'microcosmic', 'microconsumers', 'microbial', 'microbes', 'micro', 'micelles', 'micelle', 'mice', 'mi', 'mho', 'mh', 'mgrt', 'mgr', 'mgo', 'mgl', 'mgh', 'mgbr', 'mg', 'mf', 'mev', 'metric', 'metres', 'metre', 'metolachlor', 'methylpropanal', 'methylpropan2ol', 'methylpentane', 'methylpent3en2one', 'methylorange', 'methylcyclopropane', 'methylcyclohexane', 'methylcycloheptane', 'methylbenzaldehyde', 'methylating', 'methylamine', 'methyl4hexyne', 'methyl1butanol', 'methyl', 'methoxypropane', 'methoxymethane', 'methoxyethane', 'methoxide', 'methods', 'method', 'methionine', 'methene', 'methanone', 'methanol', 'methanogens', 'methanobacterium', 'methane', 'meters', 'meterbridge', 'meter', 'meteors', 'metazoa', 'metaphosphoric', 'metaphase', 'metamers', 'metamerism', 'metameric', 'metals', 'metallurgy', 'metalloids', 'metalloid', 'metallic', 'metaldehdye', 'metal', 'metacentric', 'metacarpal', 'metaboric', 'metabolites', 'metabolism', 'metabolically', 'metabolic', 'mess', 'mesosphere', 'mesosomes', 'mesons', 'mesoglea', 'mesoderm', 'meso', 'mesitylene', 'mesh', 'meromyosin', 'merit', 'meristmatic', 'meristems', 'meristematic', 'meristem', 'meridian', 'mercury', 'mercurous', 'mercuric', 'mercaptan', 'meoet', 'mentioned', 'mention', 'menstruation', 'menopause', 'meniscus', 'meninges', 'mendeleevs', 'mendeleev', 'mendeleefs', 'mendel', 'menarche', 'menaing', 'men', 'memory', 'memorize', 'memgbr', 'membranes', 'membranebound', 'membrane', 'members', 'membered', 'member', 'melts', 'melting', 'melt', 'melamine', 'meiosis', 'meiocytes', 'megawatt', 'megaspore', 'megameter', 'megacoulombs', 'mega', 'meets', 'meeta', 'meet', 'meera', 'meena', 'medullary', 'medulla', 'medium2', 'medium', 'medicines', 'medical', 'medians', 'median', 'media', 'mechanisms', 'mechanism', 'mechanics', 'mechanical', 'measuring', 'measuresin', 'measures', 'measurements', 'measurement', 'measured', 'measure', 'meant', 'means', 'meaning', 'mean', 'meal', 'me', 'mcb', 'mc', 'mbar', 'mb', 'mayjudge', 'mayer', 'may', 'maxwell', 'maxium', 'maximum', 'maxima', 'maxillae', 'maxilla', 'max', 'mature', 'maturation', 'matter', 'matte', 'matt', 'matrix', 'matrices', 'matrice', 'maths', 'mathematical', 'mathemati', 'mathbf', 'maternal', 'materials', 'material', 'matchsticks', 'matching', 'matches', 'matched', 'match', 'matallic', 'mastication', 'mast', 'masswhat', 'masses', 'mass', 'mary', 'marshmallows', 'marshes', 'marsh', 'mars', 'married', 'marriage', 'marks', 'marked', 'mark', 'marine', 'marginal', 'margin', 'marbles', 'marble', 'mapping', 'maple', 'map', 'manyone', 'many', 'manufacturing', 'manufactured', 'manufacture', 'mannose', 'manmade', 'mangoes', 'mangitude', 'mangification', 'mangifera', 'manganesewhy', 'manganese', 'mandip', 'mandible', 'mandelic', 'manchester', 'man', 'mamu', 'mammals', 'mammal', 'malus', 'maltose', 'malpighian', 'malleus', 'malleable', 'malleability', 'malic', 'males', 'maleic', 'male', 'malachite', 'maker', 'make', 'majority', 'major', 'maintaining', 'maintainable', 'maintain', 'mainly', 'main', 'mahal', 'magnus', 'magnitudes', 'magnitude', 'magnifying', 'magnified', 'magnification', 'magnets', 'magnetron', 'magnetons', 'magneton', 'magnetization', 'magnetite', 'magnetism', 'magnetic', 'magnet', 'magnesium', 'magnesia', 'magnese', 'magnate', 'magazines', 'madribon', 'made', 'macroscopic', 'macromolecules', 'macromolecule', 'macroelement', 'macro', 'machines', 'machinery', 'machine', 'macarthurforrest', 'mac', 'ma', 'm9', 'm8', 'm7', 'm68', 'm60', 'm6', 'm54', 'm5', 'm4n1', 'm4', 'm3', 'm2right', 'm24', 'm2', 'm19', 'm16', 'm117', 'm11', 'm10right', 'm101', 'm1', 'm012', 'm0', 'lysine', 'lymphocytes', 'lymphatic', 'lymph', 'lye', 'lx', 'lv', 'luxflood', 'lux', 'lusture', 'lustrous', 'lustre', 'lussac', 'lungs', 'lung', 'lunar', 'lump', 'luminous', 'lumen', 'luggage', 'luge', 'lubricating', 'lubricates', 'lubricants', 'lubricant', 'lu', 'lt', 'lsa', 'ls2', 'ls', 'lright', 'lr', 'lpc', 'lowspin', 'lowest', 'lowers', 'lowered', 'lower', 'low', 'loving', 'love', 'loudspeaker', 'loudness', 'lottery', 'lotion', 'lot', 'lost', 'losses', 'loss', 'loses', 'lose', 'looses', 'loose', 'loops', 'loop', 'looms', 'look', 'lons', 'lonosphere', 'lonization', 'lonisation', 'lonic', 'longrightarrowi', 'longrightarrowetext', 'longrightarrowb', 'longrightarrow', 'longitudinal', 'longest', 'long', 'lonepairs', 'lone', 'london', 'lon', 'logk', 'logil', 'logic', 'logarithmic', 'log', 'lof', 'lodoform', 'lodoethane', 'lodobutane', 'lodobenzene', 'lodine', 'lodide', 'locus', 'locomotion', 'lock', 'loci', 'locations', 'location', 'locating', 'locate', 'localised', 'local', 'lobes', 'lobe', 'loaw', 'loading', 'loadextension', 'loadd', 'load', 'lo', 'ln2', 'ln', 'lmvt', 'lmn1', 'lm4', 'lm1', 'lm', 'llium', 'llefts', 'lleftc', 'lleft2', 'll', 'lk', 'liсl', 'lizard', 'living', 'liver', 'live', 'little', 'litt', 'litres', 'litre', 'litmus', 'lithopone', 'lithium', 'litharge', 'liters', 'literate', 'literacy', 'liter', 'lit', 'lists', 'listii', 'listi', 'listener', 'listed', 'listb', 'lista', 'list', 'liquor', 'liquified', 'liquids', 'liquid', 'liquefied', 'liquation', 'lipoprotein', 'lipophilic', 'lipids', 'lipid', 'linked', 'linkages', 'linkage', 'link', 'lining', 'lines', 'linel', 'linearly', 'linear', 'line', 'lindlarcatalyst', 'lindlar', 'lin', 'limits', 'limiting', 'limitations', 'limit', 'limewater', 'limestone', 'lime', 'limbs', 'limb', 'lim', 'liked', 'like', 'liie', 'lih', 'ligule', 'lignite', 'lights', 'lightning', 'lighting', 'lightest', 'lighter', 'lightenings', 'lightening', 'lightcoloured', 'light', 'ligases', 'ligands', 'ligand', 'ligament', 'lifting', 'lift', 'life', 'lif', 'lies', 'lie', 'licl', 'lici', 'lichens', 'lichen', 'liberation', 'liberated', 'liberate', 'lialh', 'li', 'lhs', 'lh', 'lg', 'lf', 'lewis', 'levied', 'lever', 'levels', 'level', 'leukocytes', 'leucoplasts', 'leucocytes', 'leucine', 'letters', 'lettered', 'letter', 'let', 'lesser', 'less', 'les', 'leqslant', 'leq32', 'leq1', 'leq', 'leptome', 'lenz', 'lent', 'lenses', 'lens', 'lengths', 'length', 'lend', 'lemur', 'lemonjuice', 'leguminous', 'legumes', 'legume', 'legs', 'leghaemoglobin', 'legal', 'leg', 'leftz', 'leftyx', 'lefty', 'leftx', 'leftward', 'leftv', 'lefttriangle', 'lefttext', 'lefttan', 'leftt', 'leftsum', 'leftsin', 'leftsec', 'lefts', 'leftrightharpoons', 'leftrightarrow', 'leftr', 'leftq', 'leftpi', 'leftp', 'leftomega', 'lefto', 'leftn', 'leftm', 'leftlog', 'leftleft3', 'leftleft1', 'leftl', 'leftint', 'lefti', 'lefth', 'leftg', 'lefte', 'leftdelta', 'leftcsc', 'leftcot', 'leftcos', 'leftc', 'leftbc', 'leftb', 'leftarrow', 'lefta', 'left9', 'left8', 'left628', 'left62', 'left6', 'left50', 'left5', 'left49', 'left45', 'left40', 'left4', 'left34', 'left314', 'left3', 'left250', 'left25', 'left2', 'left1x2', 'left1x', 'left1tan', 'left1sin', 'left1log', 'left1i', 'left1cos', 'left1a', 'left17', 'left16', 'left15', 'left140', 'left13', 'left12', 'left11', 'left102', 'left10', 'left1', 'left00', 'left0', 'left', 'leds', 'led', 'lecithin', 'lechatlier', 'leaves', 'leave', 'least', 'leaks', 'leaflets', 'leaf', 'leads', 'leading', 'leadacid', 'lead', 'leaching', 'leached', 'le', 'ldp', 'ldotsu', 'ldotsn', 'ldotsi', 'ldotsa', 'ldots512', 'ldots3', 'ldots2', 'ldots', 'ldentify', 'lcr', 'lcm', 'lc', 'lbs', 'lbegin', 'lb', 'layout', 'layers', 'layeredd', 'layered', 'layer', 'lay', 'laws', 'lawn', 'law', 'laughing', 'latusrectum', 'latus', 'lattice', 'latter', 'latm', 'latitude', 'latin', 'lathers', 'latex', 'laterally', 'lateral', 'latent', 'late', 'last', 'lassaignes', 'laser', 'larval', 'larvae', 'larva', 'largest', 'largely', 'large', 'laptop', 'laplace', 'lanthanoids', 'lanthanoid', 'lanthanides', 'lanthanide', 'language', 'langle', 'lang', 'landslide', 'land', 'lamu', 'lamps', 'lamp', 'laminarin', 'lamina', 'lambdav', 'lambdamu1', 'lambdamu', 'lambda66', 'lambda4000', 'lambda2000', 'lambda1u', 'lambda16', 'lambda', 'lamb', 'lakshadweep', 'lakhs', 'lakh', 'lakes', 'lake', 'laid', 'lah', 'lag', 'laevorotatory', 'ladder', 'lactose', 'lactone', 'lactometer', 'lactide', 'lactic', 'lacks', 'lack', 'lac', 'laboratory', 'labelled', 'labeled', 'label', 'lab', 'l4right', 'l37', 'l35', 'l3', 'l28', 'l2', 'l10', 'l1', 'l05', 'l0', 'kx4', 'kwh', 'kw', 'kv', 'kt', 'krypton', 'kright', 'krebs', 'kreb', 'kraft', 'kr', 'kq', 'kpa', 'korper', 'kooc', 'kolbeschmitt', 'kohlrausch', 'koh', 'ko', 'known', 'know', 'kno', 'knife', 'knew', 'kn', 'kms', 'kmph', 'kmh', 'km', 'klmn', 'klim', 'kl', 'kk12', 'kk0', 'kjmol', 'kjeldahls', 'kj', 'kitty', 'kite', 'kirchhoffs', 'kirchhoff', 'kink', 'kinin', 'kingdoms', 'kingdom', 'king', 'kinetin', 'kinetics', 'kinetically', 'kinetic', 'kinds', 'kind', 'kilowatthour', 'kilowatt', 'kilonewtons', 'kilometres', 'kilometre', 'kilometers', 'kilojoules', 'kilojoule', 'kilogramme', 'kilogramforce', 'kilogram', 'killer', 'kill', 'kieselguhr', 'kids', 'kidneys', 'kidney', 'ki', 'khz', 'kgwtt', 'kgwt', 'kgms', 'kgm', 'kgg', 'kgf', 'kg', 'key', 'kev', 'kettle', 'ketonuria', 'ketones', 'ketone', 'ketol', 'ketoglutarate', 'keto', 'kerosene', 'kept', 'kepler', 'kelvin', 'kelp', 'keeping', 'keep', 'ke', 'kdelta', 'kcl', 'kcio', 'kci', 'kcals', 'kcall', 'kcal7809kcal', 'kcal', 'kbr', 'kb', 'kavita', 'kate', 'karyoplasmic', 'karyokinesis', 'karyogamy', 'karat', 'kappe', 'kappa', 'kaolin', 'kaleidoscope', 'kachch', 'kabbcca', 'ka', 'k92', 'k7', 'k6', 'k55', 'k4k', 'k47', 'k4', 'k327', 'k3', 'k23', 'k2', 'k1k', 'k12', 'k10', 'k1', 'k03014', 'k01507', 'k0', 'juxtamedullary', 'juxtaglomerular', 'jute', 'justify', 'justified', 'justifiable', 'just', 'jupiter', 'jupitar', 'junk', 'junctions', 'junction', 'jump', 'julie', 'juice', 'judge', 'js', 'journal', 'joulesec', 'joules', 'joule', 'joul', 'joints', 'joint', 'joins', 'joinning', 'join', 'john', 'job', 'jn', 'jmol', 'jmath', 'jlefta', 'jkg', 'jk', 'jjthomson', 'jg', 'jewellery', 'jet', 'jerk', 'jellies', 'jc', 'jawless', 'java', 'jatom', 'jarticle', 'jar', 'jammu', 'jaipur', 'jacks', 'jacketed', 'jack', 'ja', 'j6', 'j3', 'j2', 'j1', 'iymph', 'ivsiv', 'iven', 'iv', 'iupac', 'iung', 'iubricant', 'iub', 'iuapc', 'itself', 'its', 'itrs', 'itext', 'items', 'item', 'itand', 'it', 'issoceles', 'isro', 'isotropes', 'isotopic', 'isotopes', 'isotope', 'isotonic', 'isotones', 'isothiocyante', 'isothiocyanato', 'isotherms', 'isothermals', 'isothermal', 'isotherm', 'isostructural', 'isosceles', 'isopropyl', 'isopropanol', 'isoprene', 'isopolyacid', 'isopentane', 'isomorphous', 'isomers', 'isomeriç', 'isomerism', 'isomeric', 'isomer', 'isome', 'isolation', 'isohexane', 'isoelectronics', 'isoelectronic', 'isodiaphers', 'isocitrate', 'isobuty', 'isobutene', 'isobutane', 'isobars', 'isobaric', 'isobar', 'iso', 'islet', 'islare', 'ischium', 'isare', 'is', 'irving', 'irv', 'irrigation', 'irreversible', 'irregular', 'irrationals', 'irrational', 'ironii', 'iron', 'iris', 'iright', 'ir', 'iq', 'ipbp', 'ip', 'iota', 'ions', 'ionized', 'ionization', 'ionised', 'ionisation', 'ionisable', 'ionic', 'iongitudinal', 'iongest', 'ionexchange', 'iondipole', 'ion', 'ioiiowing', 'iodomethane', 'iodobutane', 'iodobenzene', 'iodine', 'iodination', 'iodide', 'iodic', 'iodate', 'io', 'inward', 'involves', 'involved', 'involve', 'involuntary', 'involed', 'inviscous', 'investment', 'investing', 'invested', 'invertible', 'inverted', 'invertebrates', 'invert', 'inversly', 'inversion', 'inversely', 'inverse', 'invented', 'invariably', 'intx2', 'intx1', 'inttan', 'intsin', 'introns', 'introducing', 'introduced', 'intrinsic', 'intramolecular', 'intramembranous', 'into', 'intlog', 'intleftx', 'intleftsin', 'intleftsec', 'intleft4', 'intleft3', 'intleft2', 'intleft12', 'intestines', 'intestine', 'intervening', 'intervals', 'interval', 'interstitial', 'intersection', 'intersecting', 'intersect', 'interpreting', 'interpret', 'interparticle', 'international', 'internally', 'internal', 'intermolecular', 'intermediates', 'intermediate', 'interior', 'interhalogens', 'interhalogen', 'interference', 'interfere', 'interface', 'interest', 'intercostal', 'interconvertible', 'intercoastal', 'interchangeable', 'intercepts', 'intercept', 'intercellular', 'interbreeding', 'interbreed', 'interatomic', 'interacts', 'interactions', 'interaction', 'interacting', 'inter', 'intensive', 'intensity', 'intensities', 'intense', 'intelligent', 'integument', 'integration', 'integrating', 'integrated', 'integrate', 'integrals', 'integral', 'integers', 'integerjust', 'integer', 'intake', 'inta', 'int7', 'int3', 'int2log', 'int2', 'int1x', 'int', 'insulin', 'insulators', 'insulator', 'insulation', 'insulated', 'instruments', 'instrument', 'instructions', 'institute', 'instar', 'instantaneouslf', 'instantaneous', 'instalment', 'installment', 'installation', 'inspiratory', 'inspiration', 'inspirable', 'insoluble', 'insolation', 'inside', 'inserted', 'insert', 'inserated', 'insects', 'insect', 'inscribed', 'inreasing', 'inradius', 'inr', 'inputs', 'input', 'inorganic', 'inoculated', 'inner', 'inkage', 'ink', 'injuice', 'injective', 'injection', 'initiated', 'initial', 'ininfty', 'inhibitor', 'inhibition', 'inhibiting', 'inherits', 'inherited', 'inheritance', 'inherent', 'inhaled', 'inhalation', 'ingrams', 'ingestion', 'inftyrightcos', 'inftyright', 'infty8', 'infty5', 'infty3', 'infty1', 'infty0', 'infty', 'infrastructure', 'infrasonics', 'infrared', 'infra', 'informations', 'influx', 'influencing', 'influenced', 'inflexion', 'inflation', 'infinty', 'infinity', 'infinite', 'infection', 'inexhaustible', 'inertial', 'inertia', 'inert', 'inequations', 'inequation', 'inequality', 'inequalities', 'inelastic', 'industry', 'industrially', 'inductor', 'induction', 'inducted', 'inductance', 'inducing', 'induces', 'induced', 'induce', 'indower', 'indole', 'individuals', 'individual', 'indirectly', 'indirect', 'indicator', 'indications', 'indicates', 'indica', 'india', 'index', 'indepndent', 'independent', 'indelta', 'incus', 'increment', 'increasing', 'increasesair', 'increases', 'increased', 'increase', 'increaing', 'incorrectly', 'incorrect', 'inconsistency', 'incompressible', 'incomplete', 'income', 'incoherent', 'included', 'inclined', 'incline', 'inclinationin', 'inclination', 'incisors', 'incident', 'incidence', 'inches', 'inch', 'inactive', 'in21', 'in13', 'in12', 'in11', 'in01', 'in0', 'in', 'imu', 'impurity', 'impurities', 'impure', 'impulse', 'improper', 'impregnated', 'impossible', 'important', 'importance', 'imply', 'implies', 'implict', 'impinged', 'imperfect', 'impeller', 'impede', 'impedance', 'impart', 'impairment', 'impact', 'immersed', 'imitsto', 'imine', 'ime', 'imbibing', 'imbalance', 'imaginary', 'images', 'image', 'im', 'ilog', 'iln', 'illustration', 'illustrates', 'illustrate', 'illumination', 'ill', 'ileftn', 'ilambda', 'il', 'ik', 'ijk', 'ij4', 'ij2', 'ij', 'iint', 'iii', 'iia', 'ii', 'ih', 'ifrntical', 'if', 'ies', 'iei', 'ieadd', 'iead', 'ie', 'identity', 'identities', 'identify', 'identified', 'idenlıly', 'ideal', 'id', 'icos', 'icl', 'ici', 'icewater', 'ice', 'ic', 'ibl', 'ib', 'iarge', 'ialpha1', 'iaa', 'ia4', 'ia', 'i9a', 'i96', 'i95', 'i9', 'i80', 'i712', 'i4i', 'i420', 'i4', 'i3', 'i2i', 'i298', 'i2711108', 'i23', 'i2', 'i1x', 'i1i', 'i1alpha', 'i1', 'i0', 'hz', 'hysteresis', 'hypothyroidism', 'hypothetical', 'hypothesis', 'hypotheca', 'hypotenuse', 'hyposecretion', 'hypophosphorus', 'hypophosphorous', 'hypophosphite', 'hypopharynx', 'hypoglycemic', 'hypochlorous', 'hypervalent', 'hyperthyroidism', 'hypersecretion', 'hyperol', 'hypermetropia', 'hyperconjugation', 'hypercalcemic', 'hyperbola', 'hygroscopic', 'hydroxypropane', 'hydroxypentan', 'hydroxylic', 'hydroxyl', 'hydroxybutanoic', 'hydroxybenzonitrile', 'hydroxy', 'hydroxide', 'hydrous', 'hydrotropism', 'hydrostatic', 'hydrosphere', 'hydroscopic', 'hydroquinone', 'hydroquinol', 'hydroponics', 'hydrophytes', 'hydrophobic', 'hydrophilic', 'hydronium', 'hydrometer', 'hydrometallurgy', 'hydrometallurgical', 'hydrolyzes', 'hydrolytic', 'hydrolysis', 'hydrolysed', 'hydrolyse', 'hydrological', 'hydrolith', 'hydrolised', 'hydrogenwhat', 'hydrogentocarbon', 'hydrogens', 'hydrogenhydrogen', 'hydrogenhexachloridoplatinate', 'hydrogencarbonate', 'hydrogenation', 'hydrogen', 'hydroelectricç', 'hydrocarbons', 'hydrocarbon', 'hydroborationoxidation', 'hydro', 'hydrin', 'hydridization', 'hydrides', 'hydride', 'hydrazone', 'hydrazoic', 'hydrazine', 'hydraulic', 'hydration', 'hydrated', 'hydrate', 'hydrargyrum', 'hydra', 'hydolysis', 'hydel', 'hydbridization', 'hydathode', 'hybridsation', 'hybridized', 'hybridizations', 'hybridization', 'hybridised', 'hybridisation', 'hybrides', 'hybrid', 'hybrdisation', 'hy2', 'hxx', 'hx2', 'hx', 'hv', 'huygens', 'huygen', 'husk', 'hurted', 'hunting', 'hunter', 'humus', 'humour', 'humidity', 'humid', 'humans', 'human', 'hubballi', 'ht', 'hso', 'hs', 'hrs', 'hright', 'hrc', 'hr', 'hp', 'hown', 'houses', 'house', 'hours', 'hourly', 'hour', 'hotter', 'hotness', 'hot', 'host', 'hose', 'horses', 'horse', 'hormones', 'hormone', 'hormonal', 'horizontal', 'horizonta', 'horizon', 'hoop', 'hooke', 'hooc', 'honor', 'honeybees', 'homopolysaccharide', 'homopolymer', 'homomers', 'homologue', 'homologous', 'homogenous', 'homogeneously', 'homogeneous', 'homogametic', 'homogametes', 'homo', 'hominoidea', 'hominidae', 'homework', 'holozoic', 'holotype', 'holoenzymes', 'holmes', 'hollow', 'holes', 'hole', 'holds', 'holdfast', 'hold', 'hoh', 'hofmann', 'hoffman', 'hoff', 'hof', 'hocl', 'hockey', 'hoci', 'ho', 'hno', 'hnh', 'hn2', 'hn', 'hm', 'hlo', 'hline', 'hlefto', 'hleftn', 'hleftc', 'hleft12', 'hl', 'hk', 'hj7', 'hiv', 'hitting', 'histrogram', 'history', 'histones', 'histolysis', 'histogram', 'histogens', 'histamine', 'his', 'hirudin', 'hire', 'hip', 'hio', 'hinged', 'hinge', 'hindi', 'hindbrain', 'him', 'hill', 'highway', 'highly', 'highest', 'higher', 'high', 'hierarchical', 'hi', 'hh', 'hgx', 'hgo', 'hgcl', 'hg', 'hfh', 'hf', 'hexyne', 'hexene', 'hexapolysaccharide', 'hexanone', 'hexanitrocobaltate', 'hexanitritoncobaltate', 'hexanitritocobaltate', 'hexanitrito0', 'hexaneheptane', 'hexane', 'hexanamine', 'hexanal', 'hexamethylene', 'hexahedral', 'hexagons', 'hexagonal', 'hexagon', 'hexafluorido', 'hexadentate', 'hexacyanoironii', 'hexacyanoferrate', 'hexacyano', 'hexacyanidoironii', 'hexacyanido', 'hexachloroplatinic', 'hexaaquaironii', 'hexaamminecobalt', 'hexa16diene', 'hex2en4ynoic', 'hex1en3ol', 'heterozygous', 'heterozygosity', 'heterotrophs', 'heterotrophic', 'heterogenous', 'heterogeneous', 'heterogamety', 'heterogametes', 'heterogamete', 'heterodont', 'heterocrine', 'heterochromatin', 'hertz', 'hershey', 'heroine', 'hermaphrodites', 'heredity', 'hereditary', 'here', 'herbs', 'herbivore', 'herbicides', 'herbarium', 'herbaria', 'her', 'heptane', 'heptagon', 'heptafluoride', 'hept', 'hepatitia', 'hepatic', 'hens', 'henry', 'henle', 'henery', 'henderson', 'hemorrhagic', 'hemopoiesis', 'hemolysis', 'hemoglobin', 'hemodialysis', 'hemispheres', 'hemisphere', 'hemiphere', 'hemimorphite', 'hemiacetal', 'helps', 'help', 'helix', 'heliumneon', 'helium', 'helicotrema', 'helicopter', 'helical', 'heisenberg', 'height', 'hef', 'heel', 'hedge', 'heavy', 'heaviest', 'heavier', 'heavenly', 'heatstate', 'heats', 'heating', 'heatiing', 'heater', 'heated', 'heat', 'heartwood', 'heartbeat', 'heart', 'hears', 'heard', 'hear', 'heap', 'healthy', 'headtotail', 'heads', 'headlight', 'headed', 'head', 'he', 'hdpe', 'hdp', 'hdelta', 'hcr', 'hcooh', 'hco', 'hcn', 'hclo', 'hcl', 'hci', 'hcho', 'hch', 'hcf', 'hcc', 'hc', 'hbro', 'hbr', 'hbonds', 'hbonding', 'hb', 'having', 'have', 'haustoria', 'hatoms', 'hatom', 'hatchslack', 'hatchling', 'hat', 'hasselbalch', 'has', 'harworth', 'harvesting', 'harmonics', 'harmonic', 'harmone', 'harmful', 'hare', 'hardyschulze', 'hardness', 'hardest', 'hard', 'happy', 'happens', 'happened', 'happen', 'haploid', 'haplodiploid', 'hapen', 'hang', 'handles', 'handed', 'hand', 'hammer', 'halves', 'halothane', 'halophiles', 'halogens', 'halogenoalkanes', 'halogenation', 'halogenated', 'halogen', 'haloform', 'halobenzene', 'haloarenes', 'haloarene', 'haloalkanes', 'haloalkane', 'halley', 'hall', 'halides', 'halide', 'halflives', 'halflife', 'halffilled', 'half', 'haldol', 'hairs', 'hair', 'hagfish', 'haemoç', 'haemoglobin', 'haemodialysis', 'haemocyanin', 'haemocoel', 'haematite', 'had', 'habits', 'habitats', 'habitat', 'habilis', 'haber', 'ha', 'h24058', 'h2', 'h1', 'h0', 'gр', 'gz', 'gypsum', 'gynoecium', 'gymnosperms', 'gxx5x7', 'gxx5', 'gxx', 'gxsin', 'gxsec', 'gxlog', 'gxgx0', 'gx5', 'gx0', 'gx', 'gwalior', 'gv', 'guns', 'gunpowder', 'gun', 'guitar', 'guests', 'guessing', 'guation', 'guard', 'guanine', 'gu', 'gs', 'grpah', 'growth', 'growing', 'groves', 'groups', 'groupings', 'grouped', 'group15', 'group', 'groundwater', 'grounded', 'ground', 'grinding', 'grind', 'grignard', 'gright', 'gridd', 'grid', 'grey', 'greenhouse', 'green', 'greatest', 'greater', 'great', 'graze', 'gravity', 'gravitational', 'gravitation', 'grating', 'grater', 'grasshopper', 'grapns', 'grapillation', 'graphs', 'graphite', 'graphical', 'graphed', 'graph', 'granules', 'granular', 'grand', 'grams', 'gram', 'grains', 'grah', 'graduated', 'graduate', 'gradient', 'grades', 'grade', 'gr', 'gq', 'gp5', 'gp', 'government', 'got', 'goods', 'good', 'gonadotrophins', 'goldsmiths', 'goldsmith', 'goldfish', 'gold', 'going', 'gof', 'goes', 'gobar', 'go', 'gn', 'gms', 'gmol', 'gm', 'glycoxylate', 'glycosuria', 'glycosidic', 'glycoprotein', 'glycolysis', 'glycolate', 'glycol', 'glycogenolysis', 'glycogen', 'glycocalyx', 'glycine', 'glycerol', 'glycerine', 'glyceraldehyde', 'glutamic', 'glumaceae', 'glues', 'glucoside', 'glucose', 'glucosazone', 'glucosamine', 'glucopyranose', 'glucocorticoid', 'glows', 'glow', 'glomerulus', 'glomerular', 'globular', 'globin', 'global', 'glial', 'gleftsin', 'glefts', 'gleftn', 'glefth', 'gleftc', 'glaucoma', 'glasses', 'glass', 'glands', 'gland', 'glancing', 'glance', 'glacial', 'gl', 'gk', 'gizzard', 'giving', 'gives', 'given', 'give', 'girls', 'girl', 'girish', 'girdle', 'girder', 'giraffe', 'gills', 'gigameter', 'gibbs', 'gibberellins', 'gibberellin', 'giant', 'ghz', 'ghee', 'gh', 'ggu', 'gg', 'gfxhx', 'gfx', 'gf', 'geyser', 'getting', 'gets', 'get', 'germinal', 'germanium', 'german', 'geq6', 'geq5', 'geq3', 'geq1n', 'geq16', 'geq1', 'geq', 'geotropic', 'geostationary', 'geometry', 'geometrically', 'geometrical', 'geometric', 'geographic', 'geocenter', 'genus', 'genotypes', 'genomics', 'genetics', 'genetically', 'genetic', 'genes', 'generators', 'generator', 'generations', 'generation', 'generates', 'generated', 'general', 'genera', 'gene', 'gems', 'geminal', 'gemdihalide', 'gem', 'geeta', 'ge', 'gdelta', 'gd', 'gc', 'gb', 'gaylussac', 'gaussian', 'gauss', 'gauge', 'gattermann', 'gattermankoch', 'gates', 'gate', 'gastric', 'gass', 'gasphase', 'gasoline', 'gasohol', 'gasification', 'gasesous', 'gases', 'gaseous', 'gas', 'gardner', 'gardener', 'garden', 'garbage', 'gaps', 'gap', 'gangue', 'gammexane', 'gammaxene', 'gammadelta', 'gamma1', 'gamma0', 'gamma', 'gametophytic', 'gametophytes', 'gametes', 'gamete', 'games', 'game', 'galvanometer', 'galvanizing', 'galvanized', 'galvanization', 'galvanisation', 'galvanic', 'gallium', 'galena', 'gale', 'galaxy', 'galaxies', 'galactosidase', 'galactose', 'gains', 'gained', 'gain', 'gadolinium', 'gadgets', 'gabriel', 'ga', 'g98', 'g965', 'g7', 'g6pd', 'g45', 'g271', 'g2', 'g108', 'g1', 'fz', 'fy', 'fxyfxfy', 'fxy', 'fxxx3', 'fxxsin', 'fxxlog', 'fxxcos', 'fxx9', 'fxx4', 'fxx3', 'fxx2x3x4', 'fxx2', 'fxx1x2', 'fxx1', 'fxx', 'fxtan', 'fxsin', 'fxs', 'fxmid', 'fxlog', 'fxlim', 'fxk', 'fxinfty', 'fxgx', 'fxfx0', 'fxfax', 'fxf1x', 'fxcot', 'fxcos', 'fxc', 'fxa', 'fx8', 'fx7', 'fx6x', 'fx4', 'fx3', 'fx2', 'fx1cos', 'fx13', 'fx12', 'fx106', 'fx1', 'fx0', 'fx', 'fv', 'future', 'fusion', 'fusiform', 'fuses', 'fused', 'fuse', 'fusarium', 'furnace', 'furan', 'fur', 'fungus', 'fungi', 'fundamental', 'fundamenta', 'functionthen', 'functions', 'functionality', 'functional', 'function', 'funaria', 'fuming', 'fumes', 'fume', 'fullyjustified', 'fullerene', 'fullerence', 'full', 'fulcrum', 'fugacity', 'fuels', 'fuelcell', 'fuel', 'fue', 'fu', 'ftt', 'ftheta', 'fthes', 'ftftt', 'ft', 'fsum', 'fsin', 'fsh', 'frying', 'fry', 'fruits', 'fruit', 'fructose', 'fructofuranose', 'frp', 'frothing', 'froth', 'frontward', 'frontview', 'fronts', 'front', 'frond', 'from43', 'from', 'frog', 'fringes', 'fringe', 'fright', 'friesrearrangement', 'friends', 'friedal', 'frictionless', 'frictional', 'friction', 'freundlich', 'frequency', 'frequencies', 'freqency', 'freon112', 'freon', 'freezes', 'freeze', 'freedom', 'free', 'fraunhofer', 'frasch', 'francium', 'frames', 'frame', 'fragments', 'fragmentation', 'fractose', 'fractorisaiton', 'fractions', 'fractionating', 'fractional', 'fraction', 'frac', 'fr1', 'fpi', 'fox', 'fourth', 'fourteenth', 'fourier', 'four', 'founder', 'found', 'fossils', 'fossil', 'forward', 'formylated', 'formulas', 'formulae', 'formula', 'forms', 'formla', 'forming', 'formic', 'former', 'formed', 'formation', 'formality', 'formalin', 'formaledehyde', 'formaldehyde', 'formaldehide', 'formal', 'form', 'fork', 'forests', 'forestation', 'forest', 'forecasting', 'forebrain', 'forcible', 'forcetime', 'forces', 'forceful', 'force', 'forbitals', 'forbidden', 'foramen', 'forall', 'for', 'footwear', 'football', 'foods', 'food', 'follwoing', 'follows', 'followoing', 'followings', 'following', 'followed', 'follow', 'folloing', 'folllowing', 'follicular', 'fold', 'foil', 'fog', 'fof', 'foetus', 'focus', 'foci', 'focal', 'foam', 'fo', 'fn1left1', 'fn', 'fmm', 'fm2', 'fm', 'flywheel', 'fly', 'flux', 'flutes', 'flute', 'fluroine', 'fluorspar', 'fluorobenzene', 'fluorine', 'fluorinating', 'fluorides', 'fluoride', 'fluorescent', 'fluorescence', 'fluorapatite', 'fluids', 'fluidity', 'fluid', 'fluctuating', 'flu', 'flows', 'flowing', 'flowers', 'flowerpot', 'flowering', 'flowered', 'flower', 'flowchart', 'flow', 'flourspar', 'flourine', 'flourides', 'flouride', 'florine', 'floride', 'florets', 'floor', 'flooding', 'flog', 'flocs', 'floats', 'floatation', 'float', 'fliter', 'flint', 'flight', 'flickering', 'flexidentate', 'flemings', 'fleming', 'fleftsin', 'fleftab3', 'fleft3', 'fleft2', 'fleece', 'flax', 'flat', 'flasks', 'flask', 'flashes', 'flash', 'flase', 'flammable', 'flame', 'flags', 'flagella', 'fizzy', 'fizziness', 'fixers', 'fixer', 'fixed', 'fixation', 'fix', 'fivemembered', 'fivefold', 'five', 'fitting', 'fittig', 'fitness', 'fit', 'fissionable', 'fission', 'fissile', 'fishy', 'fishes', 'fishertropsch', 'fisherman', 'fisheries', 'fish', 'fischer', 'fis', 'firstly', 'first', 'firing', 'fireworks', 'fireflies', 'fire', 'finkelstein', 'finite', 'fingers', 'fingerlike', 'finger', 'finely', 'findthe', 'find', 'finches', 'final', 'fin', 'filtration', 'filter', 'films', 'film', 'filling', 'filled', 'fill', 'filed', 'filaments', 'filament', 'fiind', 'figurines', 'figures', 'figureprove', 'figure', 'fight', 'fig1', 'fig', 'fifth', 'fieldwhich', 'fields', 'fielder', 'field', 'fidn', 'ficus', 'fibrous', 'fibroin', 'fibrin', 'fibres', 'fibre', 'fibonacci', 'fiberspinning', 'fiberdying', 'fiber', 'fh', 'fg', 'ffx1x', 'ffx', 'ffigure', 'ff', 'feso', 'fertilizers', 'fertilization', 'fertility', 'fertiliser', 'fertilisedit', 'fertilisation', 'ferrous', 'ferromagnetism', 'ferromagnetic', 'ferromagnet', 'ferrocyanide', 'ferrocene', 'ferro', 'ferrimagnetism', 'ferrimagnetic', 'ferricyanide', 'ferric', 'ferri', 'ferrate', 'fern', 'fermi', 'fermentation', 'feo', 'fencing', 'femurs', 'femtometre', 'femtometer', 'femto', 'females', 'femaleness', 'female', 'felt', 'felis', 'felectrons', 'feldspar', 'fel', 'feiii', 'feet', 'feel', 'feeding', 'feedback', 'feed', 'feebly', 'feces', 'february', 'features', 'feature', 'feather', 'feasible', 'fe', 'fdi', 'fcos', 'fcc', 'fc0', 'fc', 'fbridge', 'fbfa', 'fb', 'favours', 'favourite', 'favourable', 'favour', 'favoring', 'favored', 'faulty', 'fatty', 'fats', 'fatigued', 'father', 'fat', 'fastest', 'faster', 'fast', 'fascicular', 'farmer', 'faradays', 'faraday', 'farad', 'far', 'fan', 'famous', 'family', 'families', 'familiar', 'falss', 'false0', 'false', 'fals', 'falling', 'fall', 'fairly', 'failed', 'fail', 'fahfah', 'faeces', 'faculty', 'factors', 'factorize', 'factorization', 'factorise', 'factorisation', 'factories', 'factorial', 'factori', 'factor', 'faces', 'facecream', 'face', 'facatorization', 'fabrics', 'fabricate', 'fa2', 'fa', 'f6', 'f50', 'f5', 'f44', 'f4', 'f3f15', 'f3beta', 'f32', 'f316', 'f315', 'f3', 'f24', 'f22', 'f2', 'f143', 'f10', 'f1', 'f0f3', 'f022', 'f01', 'f0', 'ez', 'eyesight', 'eyes', 'eyepiece', 'eyelens', 'eyed', 'eyeball', 'eye', 'eycle', 'extrinsic', 'extremum', 'extremely', 'extreme', 'extracts', 'extraction', 'extracted', 'extra', 'extinguishers', 'extinguisher', 'extinction', 'externally', 'external', 'exterior', 'extent', 'extensive', 'extension', 'extended', 'expt', 'expressions', 'expression', 'expressing', 'expressed', 'express', 'exprement', 'exposure', 'exponents', 'exponentially', 'exponential', 'exponent', 'exponenets', 'explosively', 'explosive', 'explosion', 'explanation', 'explains', 'explaining', 'explain', 'expired', 'expiration', 'experiments', 'experimental', 'experiment', 'experience', 'expenditure', 'expels', 'expelling', 'expelled', 'expansivity', 'expansion', 'expanse', 'expanding', 'expanded', 'expand', 'exothermically', 'exothermic', 'exocyclic', 'exits', 'exists', 'existent', 'existed', 'exist', 'exhibits', 'exhibited', 'exhibit', 'exhaustive', 'exhaustible', 'exhausted', 'exhaled', 'exhalation', 'exerts', 'exerted', 'exert', 'exercises', 'exercised', 'execute', 'excretory', 'excretion', 'exclusive', 'excluding', 'excitedthen', 'excited', 'exchanged', 'excessive', 'excess', 'exception', 'except', 'excellent', 'exceed', 'examples', 'example', 'examination', 'exameter', 'exam', 'exactly', 'exact', 'exa', 'evolving', 'evolved', 'evolution', 'evil', 'everywhere', 'every', 'eveporation', 'events', 'event', 'even', 'evaporator', 'evaporation', 'evaporating', 'evaporates', 'evalute', 'evaluating', 'evaluated', 'evaluate', 'evaluat', 'evalaute', 'eva', 'ev', 'eutrophication', 'european', 'eukaryote', 'euglenoids', 'euglena', 'euclids', 'euclidian', 'euclid', 'euchromatin', 'euchlorine', 'eucalyptus', 'eubacterium', 'eubacterial', 'eubacteria', 'eu', 'etters', 'ets', 'etoh', 'etmgx', 'ethyne', 'ethyloctane', 'ethylenediaminetetraacetic', 'ethylenediamine', 'ethylene', 'ethylbenzoate', 'ethylbenzene', 'ethylamine', 'ethyl3methyloctane', 'ethyl12', 'ethyl', 'ethoxycarbonyl', 'ethly', 'ethers', 'etherification', 'ether', 'ethenylbenzene', 'ethene', 'ethanol', 'ethanoic', 'ethanoate', 'ethanedioic', 'ethane', 'ethanamine', 'ethanamide', 'ethanal', 'ethana', 'etching', 'etc', 'etard', 'eta', 'esu', 'estrogens', 'estimationof', 'estimation', 'estimated', 'esters', 'esterification', 'ester', 'established', 'establish', 'essentially', 'essential', 'essay', 'especially', 'escapes', 'escape', 'escalator', 'es', 'erythropoietin', 'erythrocyte', 'erv', 'errors', 'error', 'erosion', 'ero', 'eright', 'ergsec', 'ergs', 'ergocalciferol', 'erg', 'erect', 'eray', 'erasers', 'eraser', 'era', 'er', 'equivelent', 'equivalent', 'equivalence', 'equiv', 'equipotentials', 'equipotential', 'equipment', 'equipartition', 'equimolar', 'equimer', 'equilibrium', 'equilateral', 'equidistant', 'equidistance', 'equiangular', 'equatorial', 'equator', 'equations', 'equational', 'equation', 'equals', 'equality', 'equalff', 'equal', 'eqaution', 'eq', 'epsom', 'epsilonleft0', 'epsilonalpha', 'epsilon', 'epoch', 'epithelium', 'epitheca', 'epidermis', 'epidermal', 'epiblema', 'ephedrine', 'ephedra', 'ep', 'eon', 'eo', 'enzymes', 'enzyme', 'enzymatic', 'environmental', 'environment', 'envelopes', 'envelope', 'enumerate', 'enudeate', 'entry', 'entropy', 'entries', 'entirely', 'enthalpy', 'enthalpies', 'enter', 'enolic', 'enolation', 'enolase', 'enol', 'enlarged', 'enhance', 'england', 'engines', 'engineers', 'engine', 'engg', 'energythe', 'energy', 'energies', 'energetic', 'enentiomer', 'enemy', 'ene', 'ends', 'endproduct', 'endothermic', 'endothelium', 'endosperm', 'endolymph', 'endodermis', 'endocrine', 'endless', 'endergonic', 'endangered', 'encouraging', 'encoding', 'enclosure', 'enclosing', 'enclosed', 'encircle', 'enantiomers', 'enantiomerically', 'enantiomer', 'en', 'emulsions', 'emulsion', 'emulsifying', 'emulsifier', 'emptyset', 'employees', 'employed', 'empirical', 'emmission', 'emitting', 'emitter', 'emitted', 'emits', 'emission', 'emf', 'emergent', 'emergency', 'emergence', 'embryophyta', 'embryo', 'embden', 'embankment', 'em', 'eluted', 'elustronic', 'eluent', 'elucidate', 'elongation', 'ellп', 'ellipsethen', 'ellipse', 'ellingham', 'ell0', 'ell', 'eliptical', 'elimination', 'eliminating', 'eliminates', 'eliminated', 'eliminate', 'eleven', 'elevator', 'elevations', 'elevation', 'elephant', 'elements', 'elementary', 'element', 'eleftsin', 'eleftcos', 'electroyte', 'electrovalent', 'electrovalency', 'electrostatics', 'electrostatic', 'electroscopes', 'electroscope', 'electropostive', 'electropositivity', 'electropositive', 'electroplating', 'electrophoresis', 'electrophillic', 'electrophilic', 'electrophile', 'electronsexplain', 'electrons', 'electronprecise', 'electronics', 'electronic', 'electronegativity', 'electronegativites', 'electronegative', 'electrone', 'electron', 'electromotive', 'electrometallurgy', 'electrometallurgical', 'electromagnetism', 'electromagnetic', 'electromagnet', 'electrolytic', 'electrolytes', 'electrolyte', 'electrolysis', 'electrolyse', 'electrokinesis', 'electroic', 'electrodynamics', 'electrodes', 'electrodeposition', 'electrode', 'electro', 'electrification', 'electricity', 'electrical', 'electrica', 'electric', 'electopositive', 'electolytic', 'electode', 'election', 'elation', 'elaters', 'elastomers', 'elasticity', 'elastic', 'elaboration', 'el', 'ekasilicon', 'ekaaluminium', 'eka', 'ek', 'ejected', 'eject', 'either1', 'either', 'einstein', 'eight', 'eigen', 'ei', 'eh', 'eggs', 'egg', 'egdes', 'eg', 'effluents', 'effluent', 'efficiency', 'effficiency', 'effervescence', 'effects', 'effectors', 'effector', 'effective', 'effected', 'effectdecreases', 'effect', 'ef', 'ee1', 'ee', 'edta', 'edges', 'edge', 'edelta', 'eddy', 'ect', 'ecosystems', 'ecosystem', 'economic', 'ecology', 'ecological', 'ecoli', 'ecofriendly', 'ecliptic', 'eclipsed', 'eclipse', 'echos', 'echolocation', 'echo', 'eccentricity', 'eccentricities', 'ec', 'ebonite', 'eats', 'eating', 'east', 'easily', 'ease', 'earthworms', 'earthworm', 'earths', 'earthquake', 'earthenter', 'earth', 'ears', 'earning', 'earn', 'early', 'ear', 'ean', 'eachother', 'each', 'ea', 'e73', 'e50', 'e48', 'e32', 'e3', 'e2', 'e1sin', 'e1', 'e0', 'dz64', 'dynes', 'dynecm', 'dyne', 'dynamo', 'dynamics', 'dynamic', 'dymanic', 'dyes', 'dyeing', 'dy', 'dxs', 'dwarfs', 'duterium', 'dusting', 'dust', 'during', 'duration', 'duplet', 'dup', 'duodenum', 'dung', 'dumbell', 'dumbbells', 'dumb', 'dumas', 'due', 'ductility', 'ductile', 'ductability', 'duct', 'ducks', 'dual', 'dt', 'drying', 'dry', 'drugs', 'drug', 'drs', 'drosophila', 'drops', 'dropper', 'droplets', 'droplet', 'drop', 'driving', 'drivers', 'driver', 'drive', 'drivative', 'drip', 'drink', 'dright', 'drift', 'dried', 'dribose', 'drawing', 'drawer', 'drawbacks', 'drawback', 'draw', 'drank', 'drag', 'dr', 'dps', 'dpm', 'dp', 'dozen', 'downwards', 'downward', 'downarrow', 'down', 'dow', 'dove', 'doughnut', 'doubtful', 'doubling', 'doublets', 'doublesalt', 'doublehelical', 'doubledthen', 'doubled', 'double', 'dotsright', 'dotsn', 'dots84', 'dots40', 'dots36', 'dots3', 'dots', 'dot', 'dorset', 'dorsal', 'dorbitals', 'doping', 'doped', 'dopants', 'door', 'donor', 'donly', 'donecharge', 'done', 'donar', 'don', 'domr', 'dominant', 'dominance', 'domian', 'dome', 'domains', 'domain', 'dolphins', 'dolomite', 'dolly', 'dolls', 'doll', 'doheriner', 'dog', 'doesnot', 'does', 'dodecagon', 'documentation', 'dobereiner', 'dna', 'dn', 'dmso', 'dms', 'dmannose', 'dm', 'dleftn', 'dleftc', 'dl', 'dixon', 'divy6', 'divy5', 'divy4', 'divy1', 'divx5', 'divx3', 'divx2', 'divp1', 'divm5', 'divisions', 'division', 'divisible', 'dividing', 'divides', 'dividend', 'divided', 'divide', 'diverted', 'diversity', 'diversities', 'divers', 'diverging', 'divergence', 'divc', 'div4', 'div2', 'div16', 'div', 'diurnal', 'dithionous', 'dithionic', 'ditertbutylamine', 'disulphuric', 'disulphide', 'disubstituted', 'disturbance', 'distribution', 'distinguishing', 'distinguish', 'distinctive', 'distinctions', 'distinct', 'distilled', 'distillationdistillation', 'distillation', 'distillate', 'distant', 'distancetime', 'distances', 'distance', 'dist', 'dissolving', 'dissolves', 'dissolved', 'dissolve', 'dissolution', 'dissociation', 'dissociating', 'dissociates', 'dissociate', 'dissipation', 'dissipated', 'dissimilarity', 'dissimilar', 'disproportionation', 'disproportionate', 'disproporitonation', 'dispresion', 'disposed', 'disposable', 'displayed', 'displacing', 'displacementtime', 'displacements', 'displacement', 'displace', 'dispersive', 'dispersion', 'disperses', 'dispersed', 'disperse', 'disorders', 'disordered', 'disorder', 'disks', 'disk', 'disintegrations', 'disintegration', 'disinfecting', 'disinfectants', 'disinfectant', 'disinfect', 'dishwashing', 'dish', 'disgonal', 'diseases', 'disease', 'discuss', 'discus', 'discs', 'discriminant', 'discribe', 'discrete', 'discovery', 'discovered', 'discount', 'discontinuous', 'discontinuity', 'discontinuities', 'discoloration', 'discharges', 'discharge', 'discarded', 'disc', 'disassociation', 'disappearance', 'disadvantages', 'disadvantage', 'disaccharides', 'disaccharide', 'directrixlastusrectum', 'directrix', 'director', 'directly', 'directions', 'directional', 'direction', 'directing', 'directed', 'direct', 'dipyridyl', 'diprotic', 'dipple', 'dipoles', 'dipoledipole', 'dipole', 'diploid', 'diploblastic', 'diphyodont', 'diphosphate', 'diphenyltrichloroethane', 'dip', 'dioxygen', 'dioxides', 'dioxide', 'diosgenin', 'dioptres', 'dioptre', 'diopters', 'diopter', 'dionaea', 'diol', 'diodes', 'diode', 'dinoflagellates', 'dinitrogen', 'dinitrobenzene', 'dimmer', 'diminished', 'dimethylpentanoyl', 'dimethylhexane', 'dimethylhept', 'dimethylethene', 'dimethylcyclohex', 'dimethylbutane', 'dimethylbutanal', 'dimethylbutan4amine', 'dimethylbutan1amine', 'dimethylaniline', 'dimethylamine', 'dimethyl24hexdiene', 'dimethyl', 'dimers', 'dimerizes', 'dimerise', 'dimer', 'dimensions', 'dimensionless', 'dimensionally', 'dimensional', 'dimension', 'dimagnetic', 'dilution', 'diluted', 'dilute', 'dilhcl', 'dil', 'diketone', 'diisopropyl', 'dihydroxybenzene', 'dihydroxyacetone', 'dihydroxy', 'dihydrogenwhich', 'dihydrogen', 'dihybrid', 'dihedral', 'dihalobenzene', 'dihalides', 'dihalide', 'digonal', 'digits', 'digit', 'digists', 'digestive', 'digestion', 'digested', 'digest', 'diffusion', 'diffused', 'diffrentiation', 'diffrentiate', 'diffraction', 'diffract', 'differs', 'differnce', 'differently', 'differentiation', 'differentiating', 'differentiated', 'differentiate', 'differentials', 'differential', 'differentiable', 'differentiability', 'differentia', 'different', 'differenciated', 'differences', 'difference', 'diff', 'diethylether', 'diethyl', 'diethenyl', 'diet', 'dienylethanone', 'dienes', 'diene', 'dielectrics', 'dielectric', 'die', 'did', 'dictionary', 'dicots', 'dicot', 'dichromate', 'dichloropropane', 'dichloroethylene', 'dichloroethane', 'dichlorobutane', 'dichlorobenzene', 'dichloro3methylhexane', 'dichloro', 'dichlorine', 'dichloridobisethylenediaminecobalt', 'dice', 'dibromopentane', 'dibromoethane', 'dibromo', 'diboromo', 'diborane', 'dibasic', 'diazotization', 'diazotisation', 'diazomethane', 'diatoms', 'diatomic', 'diatomaceous', 'diastole', 'diasteromerism', 'diastereomers', 'diaspore', 'diaphram', 'diaphragms', 'diaphragm', 'diamond', 'diamine', 'diameters', 'diameter', 'diamagnetiç', 'diamagnetism', 'diamagnetics', 'diamagnetic', 'dialysis', 'dialkylamide', 'dialkoxy', 'dial', 'diagrams', 'diagrammatically', 'diagrammatic', 'diagram', 'diagonals', 'diagonally', 'diagonal', 'diag', 'dia', 'dhap', 'dh', 'dglucose', 'dfructose', 'dfrac', 'dfferentiate', 'df', 'dextrorotatory', 'devices', 'device', 'deviations', 'deviation', 'deviating', 'deviates', 'deviated', 'deviate', 'develops', 'development', 'developed', 'devarda', 'deuterond', 'deuteron', 'deuteromethane', 'deuterium', 'deuterio', 'dettol', 'determining', 'determined', 'determine', 'determinats', 'determination', 'determinants', 'determinant', 'detergents', 'detergent', 'detects', 'detected', 'detect', 'detail', 'det', 'destructive', 'destroyed', 'destabilisation', 'desk', 'designations', 'designation', 'designated', 'design', 'desiccator', 'desiccation', 'desert', 'description', 'described', 'describe', 'descending', 'dermis', 'derived', 'derive', 'derivatives', 'derivative', 'derivation', 'derivaties', 'derivate', 'derivable', 'deprotonated', 'depressions', 'depression', 'depressants', 'depressant', 'depolarization', 'depletion', 'depleted', 'depicting', 'depends', 'dependent', 'dependency', 'dependence', 'department', 'denudation', 'dentition', 'dentist', 'dentify', 'dental', 'density', 'densities', 'denser', 'denotes', 'denoted', 'denote', 'denominators', 'denominator', 'denied', 'denial', 'dendron', 'dendritic', 'denaturing', 'denatured', 'denaturation', 'demonstrate', 'demodulator', 'demerits', 'demand', 'demagnetised', 'deltoid', 'deltax', 'deltatan', 'deltapi', 'deltam', 'delta8', 'delta43', 'delta', 'delocalized', 'delocalised', 'delocalisation', 'deliver', 'delimit', 'delicate', 'delectrons', 'delays', 'deicing', 'dehydrogenase', 'dehydration', 'dehydrating', 'dehydrated', 'dehumidification', 'degrees', 'degreemolkg', 'degree', 'degrades', 'degrade', 'degradation', 'degenerate', 'degeneracy', 'deg', 'deformation', 'deforestation', 'deflections', 'deflection', 'deflected', 'deflect', 'definitions', 'definition', 'definite', 'defines', 'defined', 'define', 'definate', 'deficit', 'deficient', 'deficiency', 'defg', 'deff', 'defective', 'defection', 'defect', 'defciency', 'def', 'deesterification', 'deep', 'deductively', 'deducting', 'deduce', 'dectrons', 'decreasing', 'decreases', 'decreased', 'decrease', 'decreas', 'decoxide', 'decomposition', 'decomposes', 'decomposers', 'decomposed', 'decolourized', 'decolourises', 'decolourisation', 'decline', 'declination', 'decimetre', 'decimeter', 'decimals', 'decimal', 'decigram', 'deciduous', 'decide', 'deceleration', 'decays', 'decay', 'decarboxylation', 'decane', 'decalin', 'decahydrate', 'decagon', 'decade', 'debroglle', 'debrogile', 'deals', 'dealer', 'dead', 'deactivating', 'deactivates', 'deacon', 'de', 'ddt', 'dd', 'dc', 'dbef', 'dbe', 'db', 'daytoday', 'daytime', 'dayscalculate', 'days', 'day', 'daughter', 'dative', 'data', 'dasiccator', 'dashrath', 'darwin', 'dark', 'dare', 'daphnia', 'daniel', 'dangle', 'dangerous', 'danger', 'dancer', 'dams', 'damping', 'damped', 'damages', 'damaged', 'damage', 'dam', 'daltonda', 'dalton', 'dalapon', 'dal', 'daily', 'dai', 'dactylella', 'dacron', 'dacoit', 'da', 'd81', 'd8', 'd7', 'd52', 'd50', 'd4', 'd35', 'd32', 'd30', 'd3', 'd24', 'd210', 'd20', 'd2', 'd1right', 'd13', 'd12', 'd10', 'd1', 'd0', 'cytosol', 'cytosis', 'cytosine', 'cytoplasm', 'cytokinins', 'cytokinesis', 'cytoglobin', 'cytochrome', 'cyt', 'cysts', 'cyst', 'cynohydrin', 'cyme', 'cymbopogon', 'cylist', 'cylindrically', 'cylinders', 'cylinder', 'cyclotron', 'cyclostomata', 'cyclopropyl4ethyl1heptene', 'cyclopropyl1propyne', 'cyclopropanecarboxylic', 'cyclopropane', 'cyclopentane', 'cyclopentadiene', 'cyclohexylidene', 'cyclohexylethyne', 'cyclohexylchloride', 'cyclohexyl', 'cyclohexanylbutane', 'cyclohexanone', 'cyclohexane', 'cyclobutane', 'cyclobutadienyl', 'cycloalkenes', 'cycloalkanes', 'cyclist', 'cycling', 'cyclic', 'cycles', 'cycle', 'cycasis', 'cycas', 'cyathium', 'cyanohydrin', 'cyanogen', 'cyanobacteria', 'cyano', 'cyanide', 'cyanamide', 'cyaclic', 'cy', 'cx3', 'cx', 'cv', 'cuts', 'cutoff', 'cut', 'customers', 'cuso4', 'cuso', 'curvilinear', 'curves', 'curved', 'curve', 'curvature', 'currents', 'current', 'currency', 'curie', 'cups', 'cupa', 'cup56', 'cup35', 'cup3', 'cup12', 'cup0', 'cup', 'cumene', 'culture', 'cucl', 'cuboidal', 'cuboid', 'cubic', 'cubes', 'cube', 'cu0', 'cu', 'cto', 'ctheta', 'ctext', 'ct', 'csf', 'csc', 'csa', 'cs', 'crystals', 'crystalloids', 'crystallization', 'crystallisation', 'crystalizes', 'crystal', 'cryoscopic', 'cryolite', 'crust', 'crude', 'crosssectional', 'crosssection', 'crossover', 'crossing', 'cross', 'crores', 'cropland', 'crop', 'cro', 'critical', 'criteria', 'cright', 'cricks', 'cricket', 'crick', 'crest', 'crescent', 'creats', 'creates', 'created', 'create', 'cream', 'crate', 'crane', 'crand', 'crafts', 'cracking', 'cr', 'cps', 'cpm', 'cphloem', 'cpeptide', 'cp', 'cows', 'cowdung', 'covert', 'covers', 'covelentradii', 'covalent', 'covalency', 'courage', 'coupons', 'couple', 'counts', 'country', 'countries', 'counterclockwise', 'countably', 'count', 'coumn', 'coulumb', 'coulomb', 'could', 'coulamb', 'cotyledons', 'cotton', 'cott', 'cot', 'costal', 'cost', 'cosines', 'cosh', 'cosec', 'cose', 'cos', 'corymb', 'corundum', 'cortisone', 'corticotrophin', 'corticoid', 'cortex', 'corrrect', 'corrosive', 'corrosion', 'corroded', 'corrode', 'corresponds', 'corresponding', 'corrective', 'correction', 'corrected', 'correct', 'corpuscular', 'corpuscles', 'corpuscle', 'corpus', 'corpora', 'coronary', 'corolla', 'corners', 'corner', 'cornea', 'corn', 'cork', 'corelated', 'core', 'cordite', 'cord', 'coral', 'coracoid', 'copy', 'copulation', 'coprimes', 'copperl', 'copper', 'copolymerization', 'copolymerisation', 'copolymer', 'copies', 'coorect', 'coordination', 'coordinates', 'coordinate', 'coona', 'cools', 'cooling', 'coolent', 'cooled', 'coolant', 'cool', 'cooking', 'cooker', 'cook', 'coohand', 'cooh', 'coof', 'coocl', 'coo', 'convulated', 'convoluted', 'convex', 'convertion', 'converted', 'convert', 'conversions', 'conversion', 'converse', 'converging', 'convergence', 'conver', 'conventions', 'convection', 'convalent', 'contropositive', 'controls', 'controlling', 'controller', 'controlledtemperature', 'control', 'contributor', 'contributes', 'contrapositve', 'contradiction', 'contracts', 'contraction', 'contract', 'contraceptives', 'contraceptive', 'contraception', 'continuum', 'continuously', 'continuous', 'continuity', 'continent', 'contentment', 'content', 'contant', 'contaminated', 'contains', 'containers', 'container', 'contain', 'contact', 'consumers', 'consumer', 'consumed', 'consume', 'construction', 'constructing', 'constructed', 'construct', 'constitutional', 'constitution', 'constitutes', 'constituents', 'constituent', 'constituency', 'constellations', 'constellation', 'constantan', 'constant', 'const', 'consonant', 'consoles', 'consists', 'consistent', 'considered', 'consider', 'conserves', 'conserved', 'conserve', 'conservative', 'conservation', 'consequences', 'consecutively', 'consecutive', 'connects', 'connector', 'connectives', 'connective', 'connection', 'connected', 'conjugate', 'conjoint', 'conidiospores', 'conics', 'conical', 'conic', 'congruent', 'congruency', 'congruence', 'congiguration', 'cong', 'conformation', 'confirmed', 'configured', 'configure', 'configurations', 'configurationfor', 'configurational', 'configuration', 'cones', 'cone', 'conductors', 'conductorc', 'conductor', 'conductivity', 'conductivities', 'conductive', 'conduction', 'conducting', 'conductance', 'conduct', 'condom', 'conditions', 'conditioner', 'condition', 'condenser', 'condensed', 'condense', 'condensation', 'condemn', 'concurrent', 'conclude', 'conchcl', 'conch', 'concepts', 'concept', 'concentric', 'concentrations', 'concentration', 'concentrated', 'concavity', 'concave', 'conc', 'compute', 'comproportionation', 'comprising', 'comprise', 'compressional', 'compression', 'compressible', 'compressibility', 'compressed', 'compounds', 'compound', 'compouds', 'composition', 'composite', 'composing', 'components', 'component', 'componds', 'complimentary', 'complexioned', 'complexes', 'complex', 'completion', 'completing', 'completes', 'completely', 'completed', 'complete', 'complementary', 'complementarity', 'complement', 'compensation', 'compass', 'compartment', 'comparison', 'compared', 'compare', 'comound', 'commutative', 'community', 'communities', 'communites', 'common', 'committee', 'commission', 'commercial', 'commercia', 'comment', 'comets', 'come', 'combustion', 'combustible', 'combustibility', 'combjellies', 'combining', 'combines', 'combined', 'combine', 'combination', 'comb', 'com', 'columnsi', 'columns', 'columnii', 'columni', 'column', 'colours', 'colourless', 'colouring', 'coloured', 'colour', 'coloumbs', 'coloumb', 'colors', 'colorless', 'colored', 'color', 'colon', 'colloids', 'colloidal', 'colloid', 'collisions', 'collision', 'colliod', 'collinear', 'collinaer', 'collimear', 'colliding', 'collide', 'colleges', 'collectors', 'collector', 'collections', 'collection', 'collecting', 'collected', 'collect', 'coll', 'coli', 'coldness', 'colder', 'coldanddil', 'cold', 'coke', 'cois', 'coins', 'coinitial', 'coined', 'coincides', 'coincident', 'coinage', 'coin', 'coils', 'coil', 'cohort', 'cohesive', 'coherent', 'cogulation', 'coffee', 'cofactor', 'coercivity', 'coenzyme', 'coelomic', 'coelom', 'coefficients', 'coefficient', 'codons', 'codon', 'codes', 'code', 'coconuts', 'cocl', 'cockroach', 'cochin', 'coch', 'cobalt', 'cobalamin', 'coating', 'coat', 'coasters', 'coastal', 'coast', 'coarse', 'coaltar', 'coalence', 'coal', 'coagulation', 'coagulating', 'coa', 'co2', 'co', 'cns', 'cnidarian', 'cng', 'cn', 'cms', 'cmc', 'cm', 'cluster', 'clue', 'club', 'clouds', 'cloud', 'clotting', 'clothing', 'clothes', 'cloth', 'clot', 'clostridium', 'closest', 'closer', 'closed', 'close', 'cloning', 'clones', 'clockwise', 'clock', 'clo', 'clitellum', 'clinostat', 'clinical', 'cline', 'climbs', 'climb', 'climatic', 'climate', 'cliffs', 'cliff', 'clemmensen', 'clement', 'cleistogamy', 'cleftk', 'cleftc', 'cleaved', 'cleavage', 'clearly', 'cleansing', 'cleaning', 'cleaned', 'clean', 'clcı', 'clcooh', 'clcho', 'clay', 'clastomers', 'classroom', 'classifying', 'classify', 'classified', 'classification', 'classes', 'class', 'clap', 'clam', 'cladding', 'cl', 'ck', 'city', 'citrus', 'citric', 'cite', 'cistrans', 'cistern', 'cispolyisoprene', 'cisplatin', 'cisisomer', 'cisalkene', 'cis', 'ciritical', 'circumstances', 'circumscribing', 'circumference', 'circumcenter', 'circulatory', 'circulation', 'circuitthe', 'circuits', 'circuitbreaker', 'circuital', 'circuit', 'circles', 'circle', 'circ', 'cipa', 'cinnamon', 'cinnabar', 'ciliary', 'ciderite', 'ci', 'chymotrypsin', 'chylomicron', 'churning', 'chromyl', 'chromosomes', 'chromosome', 'chromosomal', 'chromoplasts', 'chromonema', 'chromium', 'chromite', 'chromine', 'chromic', 'chrome', 'chromatography', 'chromatin', 'chromatids', 'chromate', 'christmas', 'chosen', 'chords', 'chordates', 'chordata', 'chord', 'choosing', 'cholrine', 'cholorofluorocarbons', 'choline', 'cholestrol', 'choke', 'choh', 'cho', 'chnage', 'chlorous', 'chlorotris', 'chlorotoluene', 'chlorotetracyano', 'chloropropane', 'chloroprene', 'chloroplasts', 'chloroplast', 'chloropicrin', 'chlorophyll', 'chlorophy', 'chlorophenylmethane', 'chloronitrobenzene', 'chloromethylbenzene', 'chloroform', 'chlorofom', 'chloroflorocarbons', 'chloroflorocarbon', 'chloroethane', 'chlorocyclohexanol', 'chlorochromate', 'chlorobutyric', 'chlorobromobenzene', 'chlorobenzoate', 'chlorobenzene', 'chloroacetophenone', 'chloroacetic', 'chloro2methylpropane', 'chloro', 'chlorine', 'chlorides', 'chloride', 'chloric', 'chloretone', 'chlorate', 'chloranitrobenzene', 'chloraminet', 'chloramines', 'chloral', 'chl', 'chitin', 'chirality', 'chiral', 'chips', 'chip', 'china', 'chimney', 'children', 'childhood', 'child', 'chief', 'chickpea', 'chickens', 'chi', 'chest', 'chernobyl', 'chemotrophic', 'chemotherapy', 'chemotaxonomy', 'chemistry', 'chemisorption', 'chemiosmotic', 'chemiosmosis', 'chemicals', 'chemically', 'chemical', 'chelating', 'chelate', 'cheetah', 'checks', 'check', 'chchohchohch', 'chatelier', 'charts', 'charging', 'charges', 'charged', 'charge', 'charecteristics', 'charecter', 'charcoal', 'charaterize', 'characters', 'characterized', 'characterize', 'characteristics', 'characterise', 'character', 'changes', 'changed', 'change', 'chandra', 'chambers13', 'chambers', 'chambered', 'chamber', 'chalk', 'chalcopyrite', 'chalcogens', 'chalcogen', 'chalcacite', 'chaitanya', 'chairs', 'chair', 'chains', 'chaingrowth', 'chain', 'ch', 'cgs', 'cg', 'cfl', 'cfcs', 'cfc', 'cf', 'cesiumdiaquatetrafluoridomanganese', 'cesiumdiaquatetrafluoridomanganate', 'cerussite', 'certificate', 'cerium', 'cephalochordates', 'century', 'cents', 'centrosomes', 'centroid', 'centripetal', 'centresome', 'centre', 'central', 'centimetres', 'centimetre', 'centimeter', 'centesimal', 'centers', 'center', 'cent', 'cementation', 'cement', 'celsius', 'cellulose', 'cellulase', 'cellular', 'cells', 'celled', 'celldivision', 'cell', 'celcius', 'ceiling', 'cecu', 'ce', 'cdotxyz', 'cdotx4x4x9x9', 'cdotx44xx99x', 'cdotx3', 'cdotx', 'cdots', 'cdotq', 'cdotpm', 'cdotpi', 'cdotp', 'cdoto', 'cdotn2', 'cdotn12', 'cdotn1', 'cdotn', 'cdotm', 'cdotlog', 'cdotleftx', 'cdotleftv', 'cdotleftsin', 'cdotleftpm', 'cdotleftpi', 'cdotleftn', 'cdotleftm', 'cdotleftlog', 'cdotlefte', 'cdotleftcos', 'cdotleftc', 'cdotlefta', 'cdotleft3', 'cdotleft200', 'cdotleft2', 'cdotleft12', 'cdotleft0', 'cdotinfty5', 'cdotinfty4', 'cdotinfty3', 'cdotinfty2', 'cdotinfty1', 'cdotinfty', 'cdoti', 'cdothh', 'cdotg', 'cdotf', 'cdote', 'cdotd', 'cdotcos', 'cdotc', 'cdotba', 'cdotb', 'cdotab', 'cdota', 'cdot92', 'cdot9', 'cdot84', 'cdot81517', 'cdot8', 'cdot7', 'cdot61', 'cdot60', 'cdot6', 'cdot58', 'cdot576', 'cdot5', 'cdot486', 'cdot44', 'cdot43', 'cdot42', 'cdot41', 'cdot40', 'cdot4', 'cdot3aba3', 'cdot38', 'cdot36', 'cdot32', 'cdot31', 'cdot3', 'cdot2pi', 'cdot25', 'cdot24', 'cdot236', 'cdot20', 'cdot2', 'cdot1infty', 'cdot18', 'cdot152', 'cdot14', 'cdot128', 'cdot12', 'cdot116', 'cdot110', 'cdot11', 'cdot101', 'cdot1', 'cdot0pm', 'cdot', 'cd', 'ccos', 'cco', 'ccleftc', 'cccc', 'cc', 'cbd', 'cb', 'cavity', 'cavendish', 'cava', 'caustic', 'causes', 'caused', 'cause', 'caught', 'cattle', 'catterpillar', 'catom', 'catla', 'catkin', 'cations', 'cationic', 'cation', 'cathode', 'caterpillars', 'catenation', 'categories', 'catecholamines', 'catechol', 'catches', 'catapult', 'catalyzed', 'catalyt', 'catalysts', 'catalyst', 'catalysis', 'catalysed', 'catabolic', 'cat', 'casts', 'cast', 'cassiterite', 'cassettes', 'caso', 'cases', 'case', 'cas', 'carvature', 'carts', 'cartilaginous', 'cartilage', 'cart', 'cars', 'carry', 'carriers', 'carpets', 'carpet', 'carpel', 'carotid', 'carnot', 'carnivores', 'carnivore', 'carnallite', 'carius', 'care', 'cards', 'cardinality', 'cardiac', 'cardboards', 'cardboard', 'card', 'carcinogenic', 'carbylamine', 'carboxylic', 'carboxylation', 'carboxylase', 'carboxyl', 'carboxyhaemoglobin', 'carborundum', 'carbonyls', 'carbonyl', 'carbony', 'carbons', 'carbonization', 'carbonium', 'carbonis', 'carbonion', 'carbonfluorine', 'carbondiamondlf', 'carboncycle', 'carbonato', 'carbonation', 'carbonates', 'carbonate', 'carbon14', 'carbon', 'carbolic', 'carbohydrates', 'carbohydrate', 'carbogen', 'carbocation', 'carbinol', 'carbine', 'carbides', 'carbide', 'carbanion', 'carbaminohaemoglobin', 'carbamate', 'caratgold', 'carat', 'car', 'capy', 'captured', 'capsules', 'capsule', 'caps', 'capital', 'capillary', 'capillaries', 'capacity', 'capacitors', 'capacitor', 'capacitive', 'capacities', 'capacitance', 'capable', 'cap', 'caocl', 'cao', 'cans', 'cannotbe', 'cannot', 'cannon', 'cannizzaro', 'canines', 'cangle', 'cane', 'candles', 'candle', 'candida', 'candela', 'cancer', 'canals', 'canal', 'camera', 'cambium', 'cam', 'calyx', 'calvin', 'calsium', 'cals', 'calpha', 'calorimetry', 'calorimeter', 'calorific', 'calories', 'calorie', 'calomel', 'callus', 'called', 'call', 'caliper', 'californium', 'calg', 'calenders', 'calendar', 'calculator', 'calculating', 'calculates', 'calculated', 'calculate', 'calculalte', 'calcium', 'calcitonine', 'calcitonin', 'calcination', 'calcilating', 'calcified', 'calamities', 'calamine', 'calalyst', 'cal', 'cakes', 'cake', 'cahningoldprelog', 'cage', 'caesium', 'cadmium', 'cad', 'caco', 'caclo', 'cacl', 'cable', 'cabc', 'cab', 'caa', 'ca19', 'ca', 'c90', 'c9', 'c8', 'c7', 'c682', 'c65', 'c63', 'c60', 'c6', 'c56', 'c54', 'c52', 'c50', 'c5', 'c48', 'c47', 'c46', 'c40', 'c38', 'c365', 'c35', 'c33', 'c32', 'c3101', 'c3', 'c2a', 'c28', 'c25', 'c2124108', 'c2', 'c18', 'c16', 'c15', 'c127', 'c121', 'c100', 'c10', 'c1', 'c00973', 'c0', 'byzx', 'byproduct', 'by', 'bx', 'buy', 'butyrate', 'butyne', 'butylphenylvinyl', 'butylated', 'butyl', 'butterfly', 'butter', 'butene', 'butanone', 'butanol', 'butanoic', 'butanoate', 'butanediol', 'butanedial', 'butane', 'butanal', 'butan2ol', 'butan1ol', 'butan', 'butadiene', 'but4ol1yne', 'but3yn1ol', 'but2enoic', 'but2ene', 'but2enc', 'bus', 'burnur', 'burntthe', 'burns', 'burning', 'burn', 'burette', 'bureau', 'bundles', 'bundle', 'bunch', 'bunan', 'buna', 'bullets', 'bullet', 'bulk', 'bulge', 'bulbs', 'bulb', 'buildings', 'building', 'buggy', 'buffer', 'buds', 'budding', 'buckminsterfullerene', 'bucket', 'bubbling', 'bubbles', 'bubble', 'bu', 'btissue', 'bt', 'bsin', 'bs', 'bryophyta', 'brxsc', 'brownian', 'brown', 'brother', 'bronze', 'bronstedlowry', 'bronstedlowery', 'bronsted', 'bronchioles', 'bromotoluene', 'bromophenol', 'bromopentane', 'bromonium', 'bromomethane', 'bromoethane', 'bromochlorobenzene', 'bromobutane', 'bromoalkane', 'bromo', 'bromine', 'bromination', 'bromide', 'bromethane', 'bromate', 'bromamide', 'broken', 'broglie', 'broadspectrum', 'broad', 'brittle', 'bright', 'briefly', 'brief', 'bridges', 'bridged', 'bridge', 'bricks', 'brick', 'brewster', 'breeze', 'breeds', 'breeding', 'breathing', 'breathe', 'breath', 'breaks', 'breaker', 'breakdown', 'break', 'breadth', 'bread', 'brbr', 'brassica', 'brass', 'brand', 'branching', 'branches', 'branched', 'branch', 'brakes', 'brake', 'brains', 'brain', 'braille', 'bradycardia', 'bra', 'br', 'bpq', 'bpi1', 'bphi', 'bp', 'boys', 'boyles', 'boy', 'boxes', 'box', 'bowmans', 'bowling', 'bowl', 'boundry', 'bounded', 'boundary', 'bound', 'bouncing', 'bounce', 'boun', 'bottles', 'bottle', 'both', 'botanical', 'boron', 'borohydride', 'boric', 'borazine', 'borax', 'borate', 'boolean', 'books', 'book', 'bony', 'bones', 'bone', 'bonds', 'bondorder', 'bondline', 'bonding', 'bond', 'bombs', 'bomb', 'bolts', 'bolt', 'boldsymbol', 'boils', 'boiling', 'boiled', 'bohrs', 'bohr', 'body', 'bodies', 'bod', 'bob', 'boats', 'boat', 'board', 'bo', 'bmu', 'bm', 'blv', 'blurred', 'blunt', 'blueliquid', 'bluegreen', 'blue', 'blows', 'blown', 'blooms', 'blooded', 'blood', 'blocks', 'blockers', 'block', 'bliver', 'blister', 'blinks', 'blindness', 'blind', 'blefts', 'bleftn', 'bleftc', 'bleft4', 'bleft3', 'bleaching', 'bleaches', 'bleached', 'blatta', 'blastopore', 'blast', 'blanks', 'blankets', 'blank', 'blade', 'blackman', 'black', 'bk', 'bivalents', 'biv', 'biuret', 'bituminous', 'bitter', 'bits', 'bithional', 'bite', 'bitcoin', 'bisulphite', 'bismuth', 'bismith', 'bishnoi', 'bisexual', 'bisects', 'bisectors', 'bisector', 'bisect', 'bis', 'birth', 'birds', 'bird', 'biquadratic', 'bipyramidalthe', 'bipyramidal', 'bipyramid', 'biprism', 'biphenyls', 'biphenyl', 'biotsavart', 'biotic', 'biota', 'biot', 'biosynthesis', 'biosphere', 'biopolymer', 'biomolecule', 'biomes', 'biomass', 'biomagnification', 'biological', 'bioinformatics', 'biogenesis', 'biogas', 'bioenergy', 'biodiversity', 'biodiesel', 'biodegradable', 'biochemical', 'binomials', 'binomial', 'binoculars', 'binds', 'binding', 'binary', 'billion', 'bile', 'bilayer', 'bilateral', 'bil', 'bike', 'bijk', 'bijections', 'bijection', 'bih', 'bigoplus', 'bigger', 'bigcircrangle', 'bigcirc', 'big', 'bidentate', 'bicyclobutane', 'bicyclo', 'bicycles', 'bicycle', 'biconcave', 'bicollateral', 'bicla', 'bicarbonates', 'bicarbonate', 'biasing', 'biased', 'bias', 'bi', 'bheeshm', 'bh', 'bg', 'bfind', 'bf3', 'beverages', 'between', 'better', 'betax', 'betak', 'betad', 'betacos', 'betaalpha', 'betaa', 'beta100', 'beta1', 'beta', 'best', 'beryllium', 'berthelot', 'berry', 'beri', 'berellium', 'benzylic', 'benzyl', 'benzoyl', 'benzoic', 'benzoate', 'benzenoid', 'benzene', 'benzaldehyde', 'bent', 'benefits', 'beneficial', 'bends', 'bend', 'belt', 'belowgiven', 'below', 'belongs', 'belong', 'bells', 'belladonna', 'bell', 'beings', 'being', 'beilstein', 'behind', 'behaviour', 'behavior', 'behaving', 'behaves', 'behave', 'before', 'bef', 'beetles', 'bees', 'been', 'bedrock', 'bed', 'becquerrel', 'becquerel', 'becomes', 'become', 'because', 'beaten', 'beat', 'bearings', 'bearing', 'bear', 'beam', 'beaker', 'beads', 'bead', 'bdf', 'bd', 'bci', 'bcc', 'bcb', 'bcacbd', 'bca', 'bc', 'bb', 'bayer', 'bauxite', 'battery', 'batteries', 'batter', 'bats', 'bat', 'basophils', 'baso', 'basket', 'basis', 'basidium', 'basidiomycotina', 'basicity', 'basically', 'basic', 'bases', 'basement', 'baseemitter', 'base', 'barye', 'bars', 'barrier', 'barrel', 'barr', 'barometric', 'barometeric', 'barometer', 'barium', 'bar', 'baove', 'bao', 'banzene', 'banking', 'bank', 'bangle', 'bandwidth', 'bands', 'band', 'banana', 'bambusa', 'bamboo', 'balmer', 'balls', 'balloons', 'balloon', 'ballon', 'ball', 'balances', 'balanced', 'balance', 'baking', 'bakelite', 'bags', 'bag', 'badminton', 'badd', 'bad', 'bacterium', 'bacteria', 'backwards', 'backslash', 'backpack', 'backlash', 'backbone', 'bacillus', 'bacb', 'baby', 'babies', 'babc', 'baba', 'bab5', 'bab4', 'ba2', 'ba', 'b90', 'b9', 'b8', 'b75', 'b611', 'b6', 'b5a', 'b58', 'b57', 'b56', 'b51', 'b50', 'b5', 'b47', 'b456', 'b45', 'b42', 'b403', 'b4', 'b36', 'b35', 'b33', 'b327', 'b32', 'b3', 'b27', 'b263', 'b250', 'b25', 'b24', 'b21', 'b2', 'b1k', 'b1cos', 'b18', 'b15', 'b146', 'b125', 'b123', 'b12', 'b10', 'b1', 'b03', 'b00', 'b0', 'azollae', 'azobenzene', 'azo', 'azide', 'azeotropic', 'azeotropes', 'azeotrope', 'az', 'aysin', 'ay', 'axyz', 'axon', 'axo', 'axlog', 'axisonly', 'axis', 'axile', 'axia', 'axes', 'axabybczc0', 'axa', 'ax', 'avoided', 'avogadros', 'avogadro', 'avidity', 'aves', 'average', 'avarage', 'avalvate', 'availability', 'auxin', 'auxia', 'autotrophs', 'autotrophic', 'autosomal', 'autorhythmicity', 'autoreduction', 'autoprotolysis', 'automobile', 'autoignition', 'auto', 'auricles', 'auricle', 'august', 'aug', 'aufbau', 'auditorium', 'audience', 'audible', 'au', 'attracts', 'attractive', 'attraction', 'attracted', 'attract', 'attometer', 'attended', 'attempts', 'attains', 'attainment', 'attained', 'attacking', 'attacked', 'attaching', 'attached', 'atrium', 'atrial', 'atria', 'atpase', 'atp', 'atop', 'atomslions', 'atoms', 'atomicity', 'atomic', 'atom', 'atmsec', 'atmospheric', 'atmosphere', 'atmospharic', 'atm', 'atleast', 'athlete', 'athelete', 'atanomegat', 'atan', 'at', 'asymptote', 'asymmetric', 'astronomy', 'astronomical', 'astronauts', 'astronaut', 'asthma', 'asteroids', 'asteroid', 'asterisk', 'assumption', 'assumes', 'associative', 'association', 'assimilation', 'assignment', 'assign', 'assertion', 'assay', 'ass', 'aspirine', 'aspirin', 'aspects', 'aspartic', 'aspartame', 'asparate', 'asinwt', 'asin', 'asia', 'ash', 'asexual', 'asec', 'ascus', 'ascospores', 'ascobolus', 'ascertained', 'ascaris', 'asbestos', 'asbestors', 'asb', 'as', 'aryl', 'arun', 'artificially', 'artificial', 'articles', 'article', 'arthur', 'arthropoda', 'artery', 'arteriole', 'arteries', 'art', 'arsenite', 'arsenide', 'arsenic', 'arrows', 'arrow', 'arrhenius', 'arresting', 'array', 'arrangements', 'arrangement', 'arranged', 'arrange', 'arp', 'around', 'arose', 'aror', 'aromatic', 'armature', 'arm', 'arithritis', 'arithmetic', 'arithmatic', 'aright', 'arhar', 'arguments', 'argument', 'argon', 'arginase', 'argentite', 'argand', 'arg', 'arene', 'arelation', 'areconductors', 'areas', 'areal', 'areain', 'area', 'are', 'arctan', 'arcsin', 'archegoniatae', 'archegonia', 'archaebacterium', 'archaea', 'arch', 'arcata', 'arc', 'arborescent', 'arbitrary', 'arbitarary', 'ar', 'aqueous', 'aquenous', 'aqueduct', 'aquasol', 'aquaregia', 'aqua', 'aq', 'apthen', 'aprotic', 'apq', 'approximately', 'approximate', 'approxd', 'approx', 'appropriately', 'appropriate', 'approaching', 'approaches', 'approach', 'applying', 'applies', 'applied', 'applications', 'application', 'applicance', 'applicable', 'applicability', 'appliance', 'apples', 'apple', 'appendix', 'appears', 'appearing', 'appearin', 'apparent', 'apparatus', 'apoplastic', 'apoplast', 'apoenzyme', 'apm', 'apis', 'apical', 'apib', 'aphids', 'apex', 'aperture', 'aperiodic', 'ape', 'apart', 'ap1062', 'ap', 'aorta', 'aof', 'aob', 'ao', 'anything', 'anyline', 'any', 'anvil', 'anup', 'antistokes', 'antiseptics', 'antiseptic', 'antiresonant', 'antipyretics', 'antipyretic', 'antipyratic', 'antiport', 'antiparallel', 'antioxidants', 'antioxidant', 'antinodes', 'antineutrino', 'antimony', 'antimicrobia', 'antilog', 'antihistamines', 'antifreeze', 'antifertility', 'antiderivative', 'antidepressant', 'anticodon', 'anticlockwise', 'antibonding', 'antibiotics', 'antibiotic', 'antiageing', 'anti', 'anthrogenic', 'anthracite', 'anthracene', 'anthocyanin', 'anthers', 'antherozoids', 'antheridia', 'antheraea', 'antenna', 'antacids', 'ant', 'answer', 'anoxygenic', 'another', 'anomers', 'anomalous', 'anodizing', 'anodising', 'anode', 'annually', 'annual', 'annihilation', 'annihilates', 'annelids', 'annelida', 'anisole', 'anions', 'anionic', 'anion', 'animals', 'animalium', 'animalia', 'animal', 'aniline', 'anil', 'anhydrous', 'anhydrides', 'anhydride', 'angularly', 'angular', 'angstrom', 'anglesthen', 'angles', 'angled', 'anglec', 'angle', 'angiosperms', 'angel', 'anesthetic', 'androgens', 'andolan', 'andmeiosis', 'and3', 'and', 'ancestor', 'anaysisshown', 'anatomical', 'anaphase', 'ananticancer', 'analyzer', 'analyser', 'analogy', 'analogous', 'analog', 'analgestic', 'analgesics', 'analgesic', 'anal', 'anaesthetic', 'anaerobic', 'anabolic', 'an', 'amylose', 'amyloplasts', 'amylopectin', 'amu', 'ampullae', 'ampm', 'amplitudes', 'amplitude', 'amplification', 'amplifer', 'amphoteric', 'amphithecium', 'amphibians', 'amphibia', 'amphetamine', 'amperesecond', 'amperemaxwell', 'ampere', 'amp', 'amounts', 'amount', 'amoung', 'amonosynaptic', 'amongst', 'among', 'amoeba', 'ammonotelic', 'ammonium', 'ammonical', 'ammoniated', 'ammoniate', 'ammoniasoda', 'ammoniacal', 'ammoniaboron', 'ammonia', 'ammoneotelic', 'amminetrichlorido', 'amminebromidochloridonitriton', 'ammeter', 'amitosis', 'aminoacylation', 'aminoacids', 'amino', 'amines', 'amine', 'amido', 'amide', 'americana', 'american', 'america', 'ambulance', 'ambiuous', 'ambience', 'ambidentate', 'ambident', 'amalgam', 'am', 'always', 'alveoli', 'alveolar', 'aluminum', 'aluminium', 'aluminates', 'aluminate', 'alumina', 'alum', 'altitude', 'alters', 'alternative', 'alternation', 'alternating', 'altering', 'altame', 'already', 'alphay', 'alphatan', 'alphasin', 'alpharight', 'alpharays', 'alphapi', 'alphaparticles', 'alphaparticle', 'alphalefts', 'alphad', 'alphacos', 'alphabets', 'alphabeta1', 'alphabeta', 'alphaa', 'alpha3', 'alpha2', 'alpha0', 'alpha', 'along', 'alone', 'alog', 'aln', 'almost', 'almirah', 'alloys', 'alloy', 'allows', 'allow', 'allotropy', 'allotrops', 'allotropic', 'allotropes', 'allosteric', 'allium', 'allenech2cch2ch2cch2', 'allene', 'allegra', 'all', 'alkynes', 'alkyne', 'alkylhalide', 'alkylbenzene', 'alkylation', 'alkyl', 'alky', 'alkoxyalkanes', 'alkenynes', 'alkenyl', 'alkenes', 'alkene', 'alkaptonuria', 'alkanes', 'alkane', 'alkalis', 'alkaline', 'alkalimetals', 'alkali', 'alkal', 'alkadiene', 'alike', 'aligned', 'align', 'aliens', 'alicyclic', 'algorithm', 'algebraic', 'algebra', 'algal', 'algae', 'algaa', 'alga', 'aleftn', 'alefth', 'aleftc', 'aleft121', 'aldosterone', 'aldopentose', 'aldols', 'aldol', 'aldehydes', 'aldehyde', 'alcohols', 'alcoholic', 'alcohol', 'alcoho', 'alcla', 'alckoh', 'alchol', 'alc', 'alaska', 'alanine', 'alaglysertyr', 'al', 'akhil', 'aissipatea', 'airways', 'aircraft', 'airconditioner', 'air', 'aioh3aioh3', 'aim', 'aids', 'aided', 'aid', 'aia', 'ai', 'agttcg', 'agriculture', 'agreement', 'agra', 'ago', 'agg', 'agf', 'ages', 'agentt', 'agents', 'agent', 'ageing', 'age', 'agcl', 'agci', 'agc', 'agbr', 'agamma', 'against', 'again', 'ag', 'afterwards', 'africanus', 'africa', 'afind', 'affiniy', 'affinity', 'affects', 'affective', 'affecting', 'affected', 'affect', 'af', 'aestivation', 'aeroso', 'aeroplanes', 'aerobic', 'aeration', 'aedes', 'ae', 'adventitious', 'advantages', 'advantage', 'adults', 'adulthood', 'adulteration', 'adult', 'adsorption', 'adsorbent', 'adsorbed', 'adsorb', 'adrenocorticotropic', 'adrenals', 'adrenal', 'adpatations', 'adp', 'adopting', 'adolescents', 'adolescent', 'adolescence', 'admittance', 'admission', 'adjusting', 'adjustable', 'adjust', 'adjoint', 'adjoining', 'adjecnt', 'adjacent', 'adj', 'adipose', 'adiantum', 'adiabatic', 'adhesive', 'adh', 'adenosine', 'adenine', 'adelta', 'additivity', 'additive', 'additionelimination', 'additional', 'addition', 'adding', 'added', 'addad', 'add', 'adaptations', 'adam', 'ad', 'acyclic', 'acuteangled', 'acute', 'actual', 'acts', 'activity', 'activities', 'active', 'activation', 'activating', 'activated', 'action', 'actinoids', 'actinoid', 'actinium', 'actinides', 'actinide', 'acting', 'actin', 'act', 'acsc', 'acrylic', 'across', 'acropetal', 'acquired', 'acquire', 'acot', 'acoswt', 'acos', 'acormcc', 'acilate', 'acidwhich', 'acidulated', 'acidsthe', 'acids', 'acidity', 'acidified', 'acidification', 'acidifed', 'acidic', 'acidd', 'acidbase', 'acid', 'acibd', 'achlarnydcius', 'achieved', 'acetylene', 'acetylbenzoate', 'acetylation', 'acetyl', 'acety', 'acetophenone', 'acetone', 'acetoacetate', 'acetice', 'acetic', 'acetate', 'acetanilide', 'acetamide', 'acetals', 'acetaldehyde', 'acetal', 'accurate', 'accuracy', 'accumulation', 'accordingly', 'according', 'accordance', 'accomplished', 'accommodation', 'accommodate', 'accleration', 'acceptors', 'acceptor', 'accepted', 'accelerations', 'acceleration', 'accelerating', 'accelerated', 'accelerate', 'accelera', 'acacia', 'ac', 'abundantly', 'abundant', 'abundance', 'abt', 'absorptive', 'absorption', 'absords', 'absorbs', 'absorber', 'absorbed', 'absorbance', 'absorb', 'absolute', 'absent', 'absence', 'abscissa', 'abov', 'about', 'abortions', 'abnormal', 'able', 'abldotsl', 'abject', 'ability', 'abilities', 'abfd', 'abeta', 'aberration', 'abducens', 'abdominal', 'abdomen', 'abd', 'abcos', 'abcissa', 'abcdef', 'abcdabcd', 'abcd', 'abcabc3', 'abc8', 'abc3', 'abc2', 'abc18', 'abc0', 'abc', 'abbreviations', 'abbey', 'abbcca', 'abba', 'aband', 'abacus', 'ababbcbcc', 'abab', 'aba', 'ab7', 'ab6', 'ab5', 'ab4', 'ab3', 'ab20', 'ab2', 'ab120', 'ab1', 'ab0', 'ab', 'aangle', 'aalpha', 'aadu', 'aabc', 'aabb', 'aab', 'aaa', 'aa2', 'aa', 'a9', 'a8', 'a7', 'a64', 'a60', 'a6', 'a56', 'a524', 'a52', 'a515', 'a50', 'a5', 'a49right', 'a44', 'a434', 'a4', 'a3a5a7', 'a36right', 'a347', 'a321', 'a32', 'a315', 'a31305', 'a3', 'a2right', 'a2n1', 'a280', 'a231', 'a23', 'a20', 'a2', 'a1tan', 'a1814', 'a18', 'a16', 'a15', 'a132b156', 'a127', 'a120', 'a12', 'a11', 'a100', 'a10', 'a1', 'a06', 'a05', 'a0', 'a', '9x', '9w', '9tan', '9right', '9log', '99999', '9999', '9997', '999', '998', '9970', '996', '992', '99', '9876', '9856', '9854371718262886105', '983', '98254', '980', '98', '978', '9761', '975', '972', '97', '96i', '966', '96500', '965', '960', '96', '956', '954', '953', '95000', '95', '94', '9399', '93215', '9315', '9311', '931', '93', '927', '9251', '925', '924', '9238', '92', '915', '91421197', '913172125', '9109', '9108', '91', '90theta', '9095', '9092', '906', '904', '90100125115110', '9000000', '90', '8x', '8sas', '8right', '8log', '8cos', '8a', '89900', '894', '89', '889', '8888888888', '888480', '886', '8854', '885389', '885', '88266', '88', '8788', '877869', '8735', '87', '8682', '864216343', '86400', '8640', '864', '8635', '8600', '86', '853', '8510', '850', '85', '84j', '8462', '845711', '845', '841', '840', '84', '8393', '836', '8354', '833', '831', '83', '8265', '8230', '82', '81k425', '817', '8152229', '813', '812793', '8124', '812', '81117', '810', '81', '80yatu', '8066', '80633', '800', '80', '7x6', '7x', '7i', '799', '79759918689', '79416', '79283456', '7920', '79', '789787', '7890', '789', '7874', '7870', '784', '782131318', '782', '7803', '78', '770', '77', '765', '764', '7634', '760', '76', '754', '753113', '752', '7500', '75', '749343', '743', '741', '74', '736182', '73510158', '731', '73', '729', '727068', '7266', '726', '72513', '7251', '725', '7241', '724', '721', '720', '72', '7194', '7171', '714', '7131925', '711', '71013', '71', '70311400', '701', '7000', '700', '70', '6y5', '6x', '6units', '6th', '6ldots', '6i', '6d', '6cm', '69825', '698', '695', '693', '692', '6912', '69', '6872808492100', '6868', '6867', '6857', '685', '684', '681012141618202224', '680', '68', '678', '6762', '67525', '673', '672', '671', '67048', '67', '669', '6675', '667', '6637', '663', '6627', '6626', '6625', '662', '66', '6575', '656', '6545', '654', '653', '650', '65', '6495', '6485217', '644934dots', '643', '6428', '6400', '64', '63tan', '639', '638', '636768', '636567', '636', '635', '634', '6324', '63', '629', '627', '6264', '62585350635255', '6250', '625', '62325', '62', '6191101', '618', '616', '614', '61320', '61287', '612', '61142', '6112', '6111621', '610', '61', '6078', '604', '6032', '6025', '6023', '6022', '6020', '602', '60160', '600k', '6000', '600', '60', '5x', '5th', '5text', '5right', '5n', '5log', '5left2', '5dimethyl', '5d', '5cos', '5chloro4methyl', '5973', '597', '594', '592', '59136', '5913172125', '591317', '59', '589', '588', '585', '5832', '581114', '581015', '5800', '58', '579', '576', '5745', '574', '5734', '5733', '571787', '571', '57', '56891213', '567', '5651', '565', '5625', '5600', '560', '56', '5585', '5544', '5537', '553', '552', '55101010', '55', '549', '548', '5474', '546', '5454', '544', '54367', '5436', '542', '54050', '540', '54', '53cos', '5329', '53240', '532', '53', '5293', '529', '5264', '5252', '525125', '524', '52346810', '52276748', '522', '52', '51814265', '516', '513552', '5122391065', '512', '5117471810', '511', '5100', '510', '51', '50e', '508', '50565960', '5050', '502', '500w', '5006', '500500', '5003020', '50006', '50000', '5000', '500', '50', '4y', '4x54', '4x2', '4x', '4v', '4t', '4sin', '4s', '4right', '4nitrophenol', '4methylphenol', '4methylpent3en2one', '4methyl', '4log', '4lefty', '4leftcos', '4lefta', '4left2', '4i', '4ethyl4cycloproyl1heptene', '4cyclopropyl4propyl1hexene', '4chloropentan2one', '4abbcca', '4a', '4999', '495a', '494', '493', '492549', '4925', '491419', '4914', '49', '488', '486', '484', '482', '481632ldots', '481632', '4812', '4805', '480', '48', '47l', '478910121317', '477', '4761', '474', '4732', '471013', '4704', '4700', '47', '469310132', '469', '4680', '46656', '466', '465000', '462', '4615', '4612', '4606', '46', '45766332', '4576', '457', '45689', '4562', '456', '454137', '453k221', '45312', '453', '452', '45102025', '450', '45', '44x', '449', '448z', '4489', '447', '4463', '44444dots', '444444', '443trimethylhex1yne', '4432', '442', '441567693', '441', '4401', '4400', '44', '439296', '4358', '4356', '4354645336', '435', '43243856223945', '43200', '432', '431', '43', '420', '42', '419', '4184', '4165', '415', '414815', '41454', '414', '413', '4125', '412', '410', '41', '40x', '4096', '4080', '406254906876', '4050', '40233231', '4012', '401', '400020', '4000', '400', '40', '3x93', '3x3', '3x25', '3x135x25x', '3x', '3v', '3tan', '3t', '3right', '3rd', '3propyl4methylbutan1oic', '3phenylpropan1ol', '3pgal', '3p25', '3p', '3only', '3omega', '3n2ldotsn', '3methylbutanal', '3methylbutan2ol', '3methyl2pentenebr', '3ln', '3leftsec', '3i', '3e', '3dtransition', '3dimethylbutanal', '3diene', '3cm3cm', '3chlorophenol', '3chloro4methyl', '3chloro', '3c', '3butadiene', '3bromo4phenylpentanoic', '3bromo2methylpropane', '3bromo2methyl', '3angle', '3aba3', '3ab7', '3a', '398', '396', '395', '3935', '39304', '392781', '3927', '3925', '392', '39', '38808', '386', '38500', '385', '384', '383', '3825', '38220', '381318', '3813', '381015', '381', '380', '38', '37tan', '379', '377', '375', '3745', '374', '3737', '373142434625394532', '373', '3727', '372', '3711', '370', '37', '3696', '36912', '369', '3680', '3673124', '365', '364', '363', '362', '3615', '36122448', '361224', '3612', '361', '36000', '3600', '360', '36', '35a', '3587', '3579ldots', '3575', '357', '356', '355', '354112', '3533', '352', '3519179', '3515', '350', '35', '349', '3484', '348', '3465147443', '3456', '345259528252', '34521', '344556', '343230ldots10', '343', '342213', '342107', '342', '34134', '341', '340710', '3400', '340', '34', '33h', '337v', '3375', '336', '334166', '3336', '3333', '333', '3328', '33275', '332', '3310', '3300', '330', '33', '32xx', '32x', '32pi1', '3295', '32844', '3280200', '328', '327', '3264', '3263x', '326', '325523', '324', '323771', '3228293031', '3228', '322', '321', '320', '32', '319', '3184', '3175', '317', '316512', '316', '315kj', '3152739', '3142', '314', '3138', '313233ldots', '31304', '313', '312825', '3125', '312', '311', '31013', '310', '31', '30800', '308', '3064', '306', '305', '304514', '302', '30184', '3011', '30000', '3000', '300', '30', '2yxlog', '2xsin', '2x1', '2x', '2vinyl', '2u3', '2tan', '2t1', '2t', '2so', '2sin', '2rightcsc', '2right', '2propoxycyclohexane', '2propanol', '2pi2', '2pi', '2phenyl', '2pentene', '2p305', '2p205', '2p', '2o', '2nylon', '2n', '2mm', '2methylpropane', '2methylbutan2ol', '2methyl3buntanol', '2methyl1propanol', '2methyl13cyclohexanedione', '2methyl', '2log', '2leftx', '2lefta', '2left140', '2left0', '2lb', '2i', '2hydroxybenzoic', '2g', '2fo', '2f', '2ethylphenol', '2ethylbutane', '2e1', '2e', '2dimethylethane', '2dimethylcyclopropane', '2dichloro', '2cos', '2chlorobutane', '2chloro4ethyl3methyl', '2chloro2methylpentane', '2c', '2b', '2a', '298', '296', '295306', '295', '2943', '294', '293', '2925', '29160', '290', '29', '28log', '289', '2881', '288', '287', '2860', '286', '28507', '2850', '285', '284', '2832', '2831', '28224', '282', '28132', '280', '28', '27th', '27tan', '27dimethylocta246triene', '2793', '278', '277', '2760000', '27512', '2750', '2747', '2744', '274195', '274', '273151217', '27315', '273', '27225', '2712', '27000', '27', '2698', '26824', '26734521', '26580', '263', '261854', '2607', '26', '25cm', '2597', '259', '256442', '25612864', '2560', '256', '2550', '255', '2546', '254', '25354555', '253235', '253', '2527', '252324', '252', '2518202216617123032101981120', '2515', '25112232', '25111513', '25025', '250240230', '25000', '250', '25', '24dinitro', '24d', '249', '2488', '248163264', '24816', '247757', '2473952', '246ldots', '246810', '2468', '246', '2456', '245364', '24500', '2447610ldotsn1', '2446', '244', '243456', '243230', '243', '242016', '242', '2418', '241', '24042', '240', '24', '239', '2389', '238', '23710', '237', '2367', '236', '2358', '23579', '235711', '2357', '235', '2346', '23456', '234478121', '2343', '234121125', '234105347', '234', '233215', '2330', '233', '23133425', '231024', '231', '2307737', '2303', '23', '228457', '2266', '226', '2250', '225', '224g', '22455656451231225610356', '22400', '2240', '224', '2233', '2232', '223', '222222', '222', '2211', '221', '22062', '220', '22', '21x', '21p1', '21n', '21mu', '21find', '2198', '2197000', '2197', '218', '217', '2168', '2163146', '216', '2154', '2147', '214033', '214', '213b7b20', '213431', '213', '21236', '2122', '2120', '212', '211764', '2116', '2114', '2111', '211043', '211', '21012', '2100', '210', '21', '20m', '20kmph', '20j', '20d', '20c', '2081', '208', '207', '2062', '205', '2044', '2041', '204', '203', '202530181540', '2025', '20248', '202224', '2019', '2018', '2017', '2016', '2015', '20141619', '2014', '2013', '20125', '2011', '2010', '2009', '20082', '2008', '2007', '2005', '20040', '2003', '2002225', '2002', '2001', '20000', '2000', '200', '20', '1z', '1xlog', '1xc', '1x', '1v', '1text', '1tan', '1t', '1st', '1sin', '1right', '1q', '1propoxypropane', '1propanol', '1propanal', '1pm', '1phenylethyne', '1phenyl', '1pentene', '1pa', '1p', '1nm', '1n', '1log', '1lambda', '1k', '1infty', '1i1i', '1i', '1gx', '1gamma', '1flouropropane', '1equivalent', '1e', '1cot', '1cos', '1chlorobutane', '1chloro25dimethyl', '1chloro1methylpropan2ol', '1c', '1butanol', '1bromo', '1b', '1arccos', '1angle', '1alpha', '1alkyne', '1a', '199800', '1992', '1987', '198', '1972', '197', '19683', '196', '1952', '194481', '194', '193', '192', '191513051926', '1910', '190', '19', '1897', '1896', '189', '188', '1876', '187', '1866', '1862', '186', '18522', '1850', '185', '1845', '1840', '184', '1837', '1836', '183', '1815', '1814', '1812', '180tan', '180bc', '1800', '180', '18', '1795', '179', '17805', '178', '177', '176400', '1764', '1760', '176', '175', '174211', '1737', '1736', '1732765', '1732', '173', '172', '171411', '171', '17', '16v', '16th', '16g', '1699', '169', '16875', '168', '1678', '1675', '1672', '167', '166', '16587', '165330', '1640', '164', '1636216ldots', '1634', '163', '16280', '162', '1616', '1614', '16129', '1611', '161', '160', '16', '15x2', '15v', '15ldots', '15a', '15880', '158', '1578', '1575', '157', '1568', '15625', '1550', '154', '1536', '1533', '153', '1523', '152', '151', '1507', '15055', '1500', '150', '15', '1497', '1489', '148', '1479', '1478', '14710dots', '147101316', '14710', '147', '146', '145', '144', '1437', '1431', '143', '1428', '142514281817181423221418', '1425', '1420', '142', '14191919', '1414', '1412', '141', '14', '13x', '13what', '13th', '13dihydroxy', '139', '1389', '1386', '13824', '138', '1379', '137592', '13715', '13711', '137', '13610', '136', '135ldots', '1359', '1357dots', '1357', '1356', '1355', '1350', '135', '1344', '134', '133557ldots2', '133175', '133', '13284', '1327', '1325', '132435ldotsnn2', '132422', '132129', '132', '13192531', '1314', '1312', '131072', '1304', '1300', '130', '13', '12x65y2', '12x4', '12text', '12s', '1295', '1293', '129', '1289', '1288', '1285', '128', '127v', '1272727', '12723', '127', '1267', '12658475', '126', '1255', '125291623630', '125000', '12500', '1250', '125', '124ldots', '12471', '1245', '124394ldots', '1242', '12404g', '124', '123propoantriol', '123ldots', '123878', '123701', '1235', '12348', '123457436', '1234567', '123456', '12345', '123423425425', '1234', '123301', '1233', '123231', '12323', '123211', '1232', '1231234ldots', '123', '1224', '122334ldots', '12233445', '122334', '1222', '122', '121518212427', '121169', '121117113', '121', '1208', '12075', '1204', '120', '12', '119', '1185', '118', '117117', '117', '1161', '116', '115', '1148', '1147', '1144', '114109104', '114', '1138', '11315171', '113056', '113', '1128', '1127', '11235', '1122334455', '1122', '1121', '11207', '1120', '112', '1117', '1115', '111222333', '111211', '111123', '111120', '11111dots', '111113', '1111', '111', '1109', '1107', '1105', '11000', '110', '11', '10n', '10log', '10c', '10a', '109677', '1095', '109', '10888', '1086', '1080', '108', '10728', '107', '10625', '1062', '106', '10584', '1056', '10500', '105', '1045', '10400', '104', '1033', '103', '1029', '1026', '1024', '1022', '10216', '102', '1019', '1018', '10152025', '10141198126', '1013', '10121813', '1012162440', '1011', '1010101010', '1010', '101', '1009284ldots', '10076', '1005', '10040', '1003', '1002', '1001i', '100110', '100100010010', '10010', '1001', '100010', '1000000', '100000', '1000', '100', '10', '0y', '0right', '0o', '0mtricarbonyl', '0infty', '0i', '0bmod', '0a', '099', '098', '0965', '096', '09504', '093', '092', '09', '08a', '08900', '088', '0869', '08450', '0828', '082', '0800', '080', '08', '0768', '0764', '076', '075', '0711', '07104', '0710166', '070770777', '07', '0693', '06900', '0684', '067', '065', '064', '063', '061', '0602', '06', '059', '05873', '056', '055', '05436', '0529', '0527', '052', '0512', '050', '05', '04a', '0474', '047', '045', '0449', '0441', '0440', '044', '0431649', '043', '0426', '04225', '0415', '0414', '041231450', '040340', '0402', '04002', '04', '038', '0374', '035', '034', '033333333', '03333', '0329', '032', '031', '030330333', '030100', '03', '02right', '0295', '028', '025', '0236', '0231', '0218', '020', '02', '01m', '018v', '0189', '018', '0177', '0174', '017', '0160', '016']\n"
          ]
        }
      ]
    },
    {
      "cell_type": "code",
      "source": [
        "model = tf.keras.Sequential([encoder, tf.keras.layers.Embedding(\n",
        "        input_dim=len(encoder.get_vocabulary()),\n",
        "        output_dim=64,\n",
        "        # Use masking to handle the variable sequence lengths\n",
        "        mask_zero=True),\n",
        "    tf.keras.layers.Bidirectional(tf.keras.layers.LSTM(64)),\n",
        "    tf.keras.layers.Dense(64, activation='relu'),\n",
        "    tf.keras.layers.Dense(4, activation = 'softmax')\n",
        "\n",
        "])"
      ],
      "metadata": {
        "id": "QWPgEp8LpKSy"
      },
      "execution_count": 19,
      "outputs": []
    },
    {
      "cell_type": "code",
      "source": [
        "import numpy as np"
      ],
      "metadata": {
        "id": "HEVsLd8jzNa2"
      },
      "execution_count": 20,
      "outputs": []
    },
    {
      "cell_type": "code",
      "source": [
        "modeladdress = '/content/drive/MyDrive/SavedModels/Silsar/SilsarTextClsf'\n",
        "model = tf.keras.models.load_model(modeladdress)"
      ],
      "metadata": {
        "id": "mnSjr0RZTiIO"
      },
      "execution_count": 44,
      "outputs": []
    },
    {
      "cell_type": "code",
      "source": [
        "model.compile(loss='categorical_crossentropy',\n",
        "              optimizer=tf.keras.optimizers.Adam(0.01),\n",
        "              metrics=['accuracy'])\n",
        "model.fit(np.array(sentences), np.array(labels_train), epochs = 10, validation_split=0.2)\n",
        "history = model.history"
      ],
      "metadata": {
        "colab": {
          "base_uri": "https://localhost:8080/"
        },
        "id": "8KFuT-DHsgCz",
        "outputId": "0c1e4da5-d774-474a-b79b-6387d98f4fe6"
      },
      "execution_count": 22,
      "outputs": [
        {
          "output_type": "stream",
          "name": "stdout",
          "text": [
            "Epoch 1/10\n",
            "2757/2757 [==============================] - 166s 51ms/step - loss: 0.2943 - accuracy: 0.8986 - val_loss: 0.2450 - val_accuracy: 0.9177\n",
            "Epoch 2/10\n",
            "2757/2757 [==============================] - 85s 31ms/step - loss: 0.1876 - accuracy: 0.9346 - val_loss: 0.2380 - val_accuracy: 0.9196\n",
            "Epoch 3/10\n",
            "2757/2757 [==============================] - 78s 28ms/step - loss: 0.1704 - accuracy: 0.9389 - val_loss: 0.2345 - val_accuracy: 0.9197\n",
            "Epoch 4/10\n",
            "2757/2757 [==============================] - 88s 32ms/step - loss: 0.1598 - accuracy: 0.9425 - val_loss: 0.2470 - val_accuracy: 0.9182\n",
            "Epoch 5/10\n",
            "2757/2757 [==============================] - 81s 29ms/step - loss: 0.1536 - accuracy: 0.9440 - val_loss: 0.2436 - val_accuracy: 0.9182\n",
            "Epoch 6/10\n",
            "2757/2757 [==============================] - 86s 31ms/step - loss: 0.1490 - accuracy: 0.9450 - val_loss: 0.2640 - val_accuracy: 0.9145\n",
            "Epoch 7/10\n",
            "2757/2757 [==============================] - 84s 30ms/step - loss: 0.1430 - accuracy: 0.9470 - val_loss: 0.2457 - val_accuracy: 0.9166\n",
            "Epoch 8/10\n",
            "2757/2757 [==============================] - 79s 29ms/step - loss: 0.1411 - accuracy: 0.9477 - val_loss: 0.2653 - val_accuracy: 0.9157\n",
            "Epoch 9/10\n",
            "2757/2757 [==============================] - 84s 30ms/step - loss: 0.1443 - accuracy: 0.9476 - val_loss: 0.2654 - val_accuracy: 0.9167\n",
            "Epoch 10/10\n",
            "2757/2757 [==============================] - 79s 29ms/step - loss: 0.1398 - accuracy: 0.9488 - val_loss: 0.2591 - val_accuracy: 0.9147\n"
          ]
        }
      ]
    },
    {
      "cell_type": "code",
      "source": [
        "model.save(modeladdress)\n"
      ],
      "metadata": {
        "colab": {
          "base_uri": "https://localhost:8080/"
        },
        "id": "kLZfbks8taH6",
        "outputId": "1844b94d-3b17-44b8-ce00-276d9251b4b0"
      },
      "execution_count": 23,
      "outputs": [
        {
          "output_type": "stream",
          "name": "stderr",
          "text": [
            "WARNING:absl:Found untraced functions such as lstm_cell_1_layer_call_fn, lstm_cell_1_layer_call_and_return_conditional_losses, lstm_cell_2_layer_call_fn, lstm_cell_2_layer_call_and_return_conditional_losses while saving (showing 4 of 4). These functions will not be directly callable after loading.\n"
          ]
        }
      ]
    },
    {
      "cell_type": "code",
      "source": [
        "print(text_test[1])"
      ],
      "metadata": {
        "colab": {
          "base_uri": "https://localhost:8080/"
        },
        "id": "u-fgwiWzY5Ef",
        "outputId": "b6f7098e-aabf-4bda-8d4d-0a822e539c24"
      },
      "execution_count": 28,
      "outputs": [
        {
          "output_type": "stream",
          "name": "stdout",
          "text": [
            "I.C.S.H. in male acts on\n",
            "A. Cells of Leydig\n",
            "B. Sertoli cells\n",
            "c. Spermatids\n",
            "D. spermatogonia\n"
          ]
        }
      ]
    },
    {
      "cell_type": "code",
      "source": [
        "prediction = model.predict(text_test)\n"
      ],
      "metadata": {
        "colab": {
          "base_uri": "https://localhost:8080/"
        },
        "id": "a_wz2HBgUfRg",
        "outputId": "bfbec2bf-9df7-4ecf-f9b1-f7f70ad84892"
      },
      "execution_count": 43,
      "outputs": [
        {
          "output_type": "stream",
          "name": "stdout",
          "text": [
            "383/383 [==============================] - 4s 11ms/step\n"
          ]
        }
      ]
    },
    {
      "cell_type": "code",
      "source": [
        "print(text_test[14])\n",
        "print(np.argmax(np.array(prediction[14])))\n",
        "print(np.argmax(labels_text[14]))\n"
      ],
      "metadata": {
        "colab": {
          "base_uri": "https://localhost:8080/"
        },
        "id": "wEZT_AbdYwKV",
        "outputId": "26f245e0-6ba7-4d70-975a-cf90f64cbd49"
      },
      "execution_count": 42,
      "outputs": [
        {
          "output_type": "stream",
          "name": "stdout",
          "text": [
            "Two discs have same mass and\n",
            "thickness. Their materials are of\n",
            "densities \\( \\pi_{1} \\) and \\( \\pi_{2} . \\) The ratio of their\n",
            "moment of inertia about central axis will be\n",
            "\\( \\mathbf{A} \\cdot \\pi_{1}: \\pi_{2} \\)\n",
            "в. \\( \\pi_{1} \\pi_{2}: \\) ।\n",
            "\\( \\mathbf{D} \\cdot \\pi_{2}: \\pi_{1} \\)\n",
            "3\n",
            "3\n"
          ]
        }
      ]
    },
    {
      "cell_type": "code",
      "source": [],
      "metadata": {
        "id": "I-lHQ74CaGCs"
      },
      "execution_count": null,
      "outputs": []
    }
  ]
}